{
 "cells": [
  {
   "cell_type": "code",
   "execution_count": 1,
   "metadata": {},
   "outputs": [],
   "source": [
    "from sklearn import datasets, svm, metrics\n",
    "from sklearn.metrics import classification_report\n",
    "from sklearn.neighbors import KNeighborsClassifier\n",
    "from sklearn.model_selection import train_test_split\n",
    "import numpy as np\n",
    "import pickle\n",
    "from PIL import Image\n",
    "import cv2\n",
    "import os\n",
    "from IPython.display import clear_output"
   ]
  },
  {
   "cell_type": "code",
   "execution_count": 3,
   "metadata": {},
   "outputs": [
    {
     "data": {
      "text/plain": [
       "'/home/rob/Desktop/lambda/labs/github/Notebooks'"
      ]
     },
     "execution_count": 3,
     "metadata": {},
     "output_type": "execute_result"
    }
   ],
   "source": [
    "cwd = os.getcwd()\n",
    "cwd"
   ]
  },
  {
   "cell_type": "code",
   "execution_count": 7,
   "metadata": {},
   "outputs": [],
   "source": [
    "X_ALL = np.load(cwd+'/all_cells_reclassified.npy',allow_pickle=True)\n",
    "y_ALL = np.load(cwd+'/all_classes.npy',allow_pickle=True)"
   ]
  },
  {
   "cell_type": "code",
   "execution_count": 10,
   "metadata": {},
   "outputs": [
    {
     "data": {
      "text/plain": [
       "(67102, 784)"
      ]
     },
     "execution_count": 10,
     "metadata": {},
     "output_type": "execute_result"
    }
   ],
   "source": [
    "X_ALL.shape"
   ]
  },
  {
   "cell_type": "code",
   "execution_count": 9,
   "metadata": {},
   "outputs": [
    {
     "name": "stderr",
     "output_type": "stream",
     "text": [
      "/home/rob/anaconda3/envs/omega2020/lib/python3.7/site-packages/ipykernel_launcher.py:1: FutureWarning: elementwise comparison failed; returning scalar instead, but in the future will perform elementwise comparison\n",
      "  \"\"\"Entry point for launching an IPython kernel.\n"
     ]
    },
    {
     "ename": "TypeError",
     "evalue": "only integer scalar arrays can be converted to a scalar index",
     "output_type": "error",
     "traceback": [
      "\u001b[0;31m---------------------------------------------------------------------------\u001b[0m",
      "\u001b[0;31mTypeError\u001b[0m                                 Traceback (most recent call last)",
      "\u001b[0;32m<ipython-input-9-cdce09a59e1e>\u001b[0m in \u001b[0;36m<module>\u001b[0;34m\u001b[0m\n\u001b[1;32m      1\u001b[0m \u001b[0my_ALL\u001b[0m \u001b[0;34m=\u001b[0m \u001b[0mnp\u001b[0m\u001b[0;34m.\u001b[0m\u001b[0mwhere\u001b[0m\u001b[0;34m(\u001b[0m\u001b[0my_ALL\u001b[0m\u001b[0;34m==\u001b[0m\u001b[0;34m'ERROR'\u001b[0m\u001b[0;34m,\u001b[0m \u001b[0;36m0\u001b[0m\u001b[0;34m,\u001b[0m \u001b[0my_ALL\u001b[0m\u001b[0;34m)\u001b[0m\u001b[0;34m\u001b[0m\u001b[0;34m\u001b[0m\u001b[0m\n\u001b[1;32m      2\u001b[0m \u001b[0my_ALL\u001b[0m \u001b[0;34m=\u001b[0m \u001b[0my_ALL\u001b[0m\u001b[0;34m.\u001b[0m\u001b[0mastype\u001b[0m\u001b[0;34m(\u001b[0m\u001b[0mint\u001b[0m\u001b[0;34m)\u001b[0m\u001b[0;34m\u001b[0m\u001b[0;34m\u001b[0m\u001b[0m\n\u001b[0;32m----> 3\u001b[0;31m \u001b[0mX_ALL\u001b[0m \u001b[0;34m=\u001b[0m \u001b[0mX_ALL\u001b[0m\u001b[0;34m.\u001b[0m\u001b[0mreshape\u001b[0m\u001b[0;34m(\u001b[0m\u001b[0;36m784\u001b[0m\u001b[0;34m,\u001b[0m\u001b[0mX_ALL\u001b[0m\u001b[0;34m[\u001b[0m\u001b[0;36m0\u001b[0m\u001b[0;34m]\u001b[0m\u001b[0;34m)\u001b[0m\u001b[0;34m\u001b[0m\u001b[0;34m\u001b[0m\u001b[0m\n\u001b[0m",
      "\u001b[0;31mTypeError\u001b[0m: only integer scalar arrays can be converted to a scalar index"
     ]
    }
   ],
   "source": [
    "y_ALL = np.where(y_ALL=='ERROR', 0, y_ALL)\n",
    "y_ALL = y_ALL.astype(int)\n",
    "X_ALL = X_ALL.reshape(784,X_ALL[0])"
   ]
  },
  {
   "cell_type": "code",
   "execution_count": 61,
   "metadata": {},
   "outputs": [
    {
     "name": "stdout",
     "output_type": "stream",
     "text": [
      "(5315, 784)\n",
      "(5315,)\n"
     ]
    }
   ],
   "source": [
    "print(X_ALL.shape)\n",
    "print(y_ALL.shape)"
   ]
  },
  {
   "cell_type": "code",
   "execution_count": 62,
   "metadata": {},
   "outputs": [],
   "source": [
    "knn = KNeighborsClassifier(n_neighbors=3)"
   ]
  },
  {
   "cell_type": "code",
   "execution_count": 64,
   "metadata": {},
   "outputs": [],
   "source": [
    "X_train, X_test, y_train, y_test = train_test_split(X_ALL, y_ALL, test_size=0.2, random_state=1337)"
   ]
  },
  {
   "cell_type": "code",
   "execution_count": 65,
   "metadata": {},
   "outputs": [
    {
     "name": "stdout",
     "output_type": "stream",
     "text": [
      "(4252, 784)\n",
      "(1063, 784)\n",
      "(4252,)\n",
      "(1063,)\n"
     ]
    }
   ],
   "source": [
    "print(X_train.shape)\n",
    "print(X_test.shape)\n",
    "print(y_train.shape)\n",
    "print(y_test.shape)"
   ]
  },
  {
   "cell_type": "code",
   "execution_count": 66,
   "metadata": {},
   "outputs": [
    {
     "data": {
      "text/plain": [
       "KNeighborsClassifier(algorithm='auto', leaf_size=30, metric='minkowski',\n",
       "                     metric_params=None, n_jobs=None, n_neighbors=3, p=2,\n",
       "                     weights='uniform')"
      ]
     },
     "execution_count": 66,
     "metadata": {},
     "output_type": "execute_result"
    }
   ],
   "source": [
    "knn.fit(X_train,y_train)"
   ]
  },
  {
   "cell_type": "code",
   "execution_count": 74,
   "metadata": {},
   "outputs": [],
   "source": [
    "y_pred = knn.predict(X_test)"
   ]
  },
  {
   "cell_type": "code",
   "execution_count": 16,
   "metadata": {},
   "outputs": [
    {
     "name": "stdout",
     "output_type": "stream",
     "text": [
      "(4252, 784)\n",
      "(1063, 784)\n",
      "(4252, 1)\n",
      "(1063, 1)\n"
     ]
    }
   ],
   "source": []
  },
  {
   "cell_type": "code",
   "execution_count": 76,
   "metadata": {},
   "outputs": [
    {
     "name": "stdout",
     "output_type": "stream",
     "text": [
      "              precision    recall  f1-score   support\n",
      "\n",
      "           0       0.88      0.81      0.84        26\n",
      "           1       0.98      1.00      0.99       106\n",
      "           2       1.00      0.99      1.00       111\n",
      "           3       0.95      1.00      0.98       124\n",
      "           4       1.00      0.98      0.99       116\n",
      "           5       0.99      0.99      0.99       110\n",
      "           6       0.99      1.00      1.00       108\n",
      "           7       1.00      1.00      1.00       114\n",
      "           8       0.99      0.95      0.97       111\n",
      "           9       0.99      0.99      0.99       137\n",
      "\n",
      "    accuracy                           0.98      1063\n",
      "   macro avg       0.98      0.97      0.97      1063\n",
      "weighted avg       0.98      0.98      0.98      1063\n",
      "\n"
     ]
    }
   ],
   "source": [
    "print(classification_report(y_test, y_pred))"
   ]
  },
  {
   "cell_type": "code",
   "execution_count": 79,
   "metadata": {},
   "outputs": [],
   "source": [
    "pickle.dump(knn, open('KNN_sagemaker_model.sav', 'wb'))"
   ]
  },
  {
   "cell_type": "code",
   "execution_count": 49,
   "metadata": {},
   "outputs": [],
   "source": [
    "all_cells = np.load('all_cell_arrays_unique.npy')"
   ]
  },
  {
   "cell_type": "code",
   "execution_count": 50,
   "metadata": {},
   "outputs": [
    {
     "data": {
      "text/plain": [
       "(68766, 784)"
      ]
     },
     "execution_count": 50,
     "metadata": {},
     "output_type": "execute_result"
    }
   ],
   "source": [
    "all_cells.shape"
   ]
  },
  {
   "cell_type": "code",
   "execution_count": 59,
   "metadata": {},
   "outputs": [
    {
     "data": {
      "text/plain": [
       "array([[  0.,   0.,   0., ...,   0.,   0.,   0.],\n",
       "       [  0.,   0.,   0., ...,   0.,   0.,   0.],\n",
       "       [  0.,   0.,   0., ...,   0.,   0.,   0.],\n",
       "       ...,\n",
       "       [255., 255., 255., ...,   0.,   0.,   0.],\n",
       "       [255., 255., 255., ...,   0.,   0.,   0.],\n",
       "       [255., 255., 255., ...,   0.,   0.,   0.]])"
      ]
     },
     "execution_count": 59,
     "metadata": {},
     "output_type": "execute_result"
    }
   ],
   "source": [
    "all_cells"
   ]
  },
  {
   "cell_type": "code",
   "execution_count": 86,
   "metadata": {},
   "outputs": [],
   "source": [
    "all_preds = knn.predict(all_cells)"
   ]
  },
  {
   "cell_type": "code",
   "execution_count": 93,
   "metadata": {},
   "outputs": [
    {
     "data": {
      "text/plain": [
       "5"
      ]
     },
     "execution_count": 93,
     "metadata": {},
     "output_type": "execute_result"
    }
   ],
   "source": [
    "all_preds[2097]"
   ]
  },
  {
   "cell_type": "code",
   "execution_count": 98,
   "metadata": {},
   "outputs": [],
   "source": [
    "np.save('all_cells_class.npy',all_preds)"
   ]
  },
  {
   "cell_type": "code",
   "execution_count": 100,
   "metadata": {},
   "outputs": [
    {
     "data": {
      "text/plain": [
       "array([ True,  True,  True, ...,  True,  True,  True])"
      ]
     },
     "execution_count": 100,
     "metadata": {},
     "output_type": "execute_result"
    }
   ],
   "source": [
    "all_preds == 2"
   ]
  },
  {
   "cell_type": "code",
   "execution_count": 101,
   "metadata": {},
   "outputs": [
    {
     "data": {
      "text/plain": [
       "array([0, 0, 0, ..., 0, 0, 0])"
      ]
     },
     "execution_count": 101,
     "metadata": {},
     "output_type": "execute_result"
    }
   ],
   "source": [
    "all_preds"
   ]
  },
  {
   "cell_type": "code",
   "execution_count": 113,
   "metadata": {},
   "outputs": [],
   "source": [
    "def show_images(num):\n",
    "    mask = (all_preds == num)\n",
    "    filtered_cells = all_cells[mask]\n",
    "    np.save(str(num)+\"_classified.npy\",filtered_cells)\n",
    "    return filtered_cells"
   ]
  },
  {
   "cell_type": "code",
   "execution_count": null,
   "metadata": {},
   "outputs": [],
   "source": [
    "show_images(1)"
   ]
  },
  {
   "cell_type": "code",
   "execution_count": 169,
   "metadata": {},
   "outputs": [],
   "source": [
    "def predict_number(num):\n",
    "    cell_filepath = '/home/rob/Desktop/lambda/labs/github/Notebooks/'+str(num)+'_classified.npy'\n",
    "    cell_array = np.load(cell_filepath)\n",
    "    \n",
    "    list_images = []\n",
    "    index = []\n",
    "    for i in range(cell_array.shape[0]):\n",
    "\n",
    "\n",
    "        pic_array = cell_array[i].reshape(28,28)\n",
    "        new_im = Image.fromarray(pic_array)\n",
    "\n",
    "        if new_im.mode != 'RGB':\n",
    "            new_im = new_im.convert('RGB')\n",
    "        list_images.append(new_im)\n",
    "        index.append(i)\n",
    "    \n",
    "    return index, list_images\n",
    "    #for x in list_images:\n",
    "    #    print(display(x, i))"
   ]
  },
  {
   "cell_type": "code",
   "execution_count": 367,
   "metadata": {},
   "outputs": [],
   "source": [
    "def chunks(lst, n):\n",
    "    \"\"\"Yield successive n-sized chunks from lst.\"\"\"\n",
    "    for i in range(0, len(lst), n):\n",
    "        yield lst[i:i + n]\n",
    "\n",
    "chunk_size = 10\n"
   ]
  },
  {
   "cell_type": "code",
   "execution_count": 368,
   "metadata": {},
   "outputs": [],
   "source": [
    "index, images = predict_number(0)"
   ]
  },
  {
   "cell_type": "code",
   "execution_count": 213,
   "metadata": {},
   "outputs": [],
   "source": [
    "index = chunks(index,chunk_size)\n",
    "#images = chunks(images,chunk_size)"
   ]
  },
  {
   "cell_type": "code",
   "execution_count": 214,
   "metadata": {},
   "outputs": [],
   "source": [
    "for i in index:\n",
    "    index_list = i\n",
    "    for k in index_list:\n",
    "        print(k)\n",
    "        display(images[k])\n",
    "    input(\"Continue?\")\n",
    "    clear_output()"
   ]
  },
  {
   "cell_type": "code",
   "execution_count": 180,
   "metadata": {},
   "outputs": [
    {
     "data": {
      "image/png": "[encoded data removed]",
      "text/plain": [
       "<PIL.Image.Image image mode=RGB size=28x28 at 0x7F2E41623410>"
      ]
     },
     "metadata": {},
     "output_type": "display_data"
    }
   ],
   "source": [
    "for i in range(2947,2948):\n",
    "    display(images[i])"
   ]
  },
  {
   "cell_type": "code",
   "execution_count": 187,
   "metadata": {},
   "outputs": [
    {
     "data": {
      "image/png": "[encoded data removed]",
      "text/plain": [
       "<PIL.Image.Image image mode=RGB size=28x28 at 0x7F2E41321310>"
      ]
     },
     "metadata": {},
     "output_type": "display_data"
    }
   ],
   "source": [
    "display(images[4374])"
   ]
  },
  {
   "cell_type": "code",
   "execution_count": 333,
   "metadata": {},
   "outputs": [],
   "source": [
    "one_issues = [0,1,2,3,4,5,6,7,8,9,10,11,15,94,101,110,111,113,114,116,119,120,121,122,124,126,127,128,129,134,125,139,144,145,146,147,148,178,271,867,1257,1405,1530,2532,2947, 3562, 3582,2583,3804,3816,3826,3830,3831,3849,4333,4346,4354,4620,7068,7154,7155,7156,3446]\n",
    "two_issues = [0,1,4541]\n",
    "three_issues = [0,1,3,4,5,6,10,11,12,13,14,15,16,17,18,19,20,21,22,23,24,25,26,27,30,31,32,33,34,35,37,3840,41,42,43,44,45,47,48,49,50,51,52,54,55,56,57,58,59,60,61,63,64,66,68,70,71,74,76,77,81,82,89,160,161,162,165,166,167,168, 171,173,175,176,177,182,183,186,190,191,192,193,194,197,198,202,211,213,233,238,240,246,247,251,253,260,261,267,269,298,303,307,352,353,354,358,388,389,425,437,440,441,467,468,477,482,483,495,551,641,770,892,926,1048,1050,1617,2218,4517,4518,4519,4523,4527,4530,4534,4535,4537,4538,4539,4540,4542,4545,4548,4552,4572,4617,4739,4753,4761,4769,4770,4772,4838,4848,4849,4867,4872,5166,5185,5367,5368,5621,5829,5887,5936,6937,7025,7299,7302,7301,7318,7319,7320,7321,7324,7327,7331,7332,7336,7442,7343,7344,7345,7346,7352,7356,7358,7361,7363,7367,7369,7372,7376,7406,7407,7413,7423,7467,7541,7656,7657,7672,7673,7677,7678,7682,7685,7687,7689,7694,7699,7709,7711,7713,7715,7716,7719,7721,7724,7736]\n",
    "four_issues = [1,26,111,112,118,125,127,301,433,677,7405,7407,7409,7410,7411,7416]\n",
    "five_issues = [683,684,687,687,4241,4293,4297,4317,4549,4666,4667,7301,7302,7303,7304,7306,7307,7309,7299,7319,7320,7350,7373]\n",
    "six_issues = [118,4075,4374,4604,6367-6379,6518,6519,6877,6888,6889,6883,6890,6891,6942,7157,7497,7498,7500,7501,7513,7519,7520]\n",
    "seven_issues = [400]\n",
    "eight_issues = [0,4,163,191,4360-4379,4380,4382,4391,4398,4399,4400,4415,4416,4417,4420,4428,4429,4432,4437,4439,4440,4441,4444,4445,4446,4447,4449,4452,4453,4455,4456,4458,4459,4462,4464,4466,4467,4469,4473,4474,4476,4479,4482,4484,4485,4488,4489,4491,4492,4493,4494,4495,4496,4497,4498,4499,4500,4501,4504,4505,4506,4507,4510,4512,4686,4702,4709,4712]\n",
    "nine_issues = [124,7530,7531]\n",
    "zero_issues = [149,152,153,156,213,241,246,242,249,253,257,258,259,262,265,268,273,275,281,282,283,284,285,286,288,290,292,331,354,357,358,359,372,376,377,378,379,381,382,383,385,386,387,389,390,391,392,410,413,417,440,501,532,533,546,576,590,651,650, 677, 710,713,714,745,747,749,752,753,756,758,759,760,761,762,763,764,765,766,767,768,769,770,771,772,773,774,775,776,777,778,779,780,781,782,783,784,785,786,787,788,789,790,791,793,794,795,796,797,798,799,800,801,802,803,805,809,808,810,811,813,814,818,820,826,830,832,837,838,839,841,843,870,885,888,891,896,899,905,911,920,924,925,929,930,937,941,950,957,959,963,969,974,976,977,992,993,996,999,1003,1004,1007,1008,1010,1011,1012,1014,1016,1017,1020,1021,1022,1023,1025,1027,1029,1030,1033,1034,1035,1037,1038,1046,1047,1051,1052,1053,1054,1055,1056,1059,1060,1061,1062,1063,1064,1065,1066,1067,1068,1069,1071,1072,1073,1074,1075,1076,1077,1078,1079,1080,1081,1082,1083,1084,1087,1088,1089,1090,1091,1093,1095,1096,1097,1098,1099,1100,1102,1103,1004,1005,1006,1007,1108,1109,1110,1111,1112,1113,1114,1115,1117,1118,1122,1130,1131,1143,1146,1149,1150,1151,1152,1155,1158,1159,1160,1161,1162,1163,1164,1165,1166,1167,1168,1169,1170,1171,1172,1173,1174,1175,1176,1177,1178,1179,1180,1181,1182,1183,1184,1185,1186,1187,1188,1189,1190,1191,1192,1193,1194,1195,1196,1197,1198,1199,1200,1201,1202,1203,1204,1205,1206,1207,1208,1209,1210,1211,1212,1213,1214,1215,1216,1217,1218,1219,1220,1221,1222,1223,1224,1225,1226,1227,1228,1229,1230,1231,1232,1233,1234,1235,1236,1237,1238,1239,1240,1241,1242,1243,1244,1245,1246]"
   ]
  },
  {
   "cell_type": "code",
   "execution_count": null,
   "metadata": {},
   "outputs": [],
   "source": []
  },
  {
   "cell_type": "code",
   "execution_count": 324,
   "metadata": {},
   "outputs": [],
   "source": [
    "array_paths = []\n",
    "for num in range(0,10):\n",
    "    apath = '/home/rob/Desktop/lambda/labs/github/Notebooks/'+str(num)+'_classified.npy'\n",
    "    array_paths.append(apath)"
   ]
  },
  {
   "cell_type": "code",
   "execution_count": 325,
   "metadata": {},
   "outputs": [
    {
     "data": {
      "text/plain": [
       "['/home/rob/Desktop/lambda/labs/github/Notebooks/0_classified.npy',\n",
       " '/home/rob/Desktop/lambda/labs/github/Notebooks/1_classified.npy',\n",
       " '/home/rob/Desktop/lambda/labs/github/Notebooks/2_classified.npy',\n",
       " '/home/rob/Desktop/lambda/labs/github/Notebooks/3_classified.npy',\n",
       " '/home/rob/Desktop/lambda/labs/github/Notebooks/4_classified.npy',\n",
       " '/home/rob/Desktop/lambda/labs/github/Notebooks/5_classified.npy',\n",
       " '/home/rob/Desktop/lambda/labs/github/Notebooks/6_classified.npy',\n",
       " '/home/rob/Desktop/lambda/labs/github/Notebooks/7_classified.npy',\n",
       " '/home/rob/Desktop/lambda/labs/github/Notebooks/8_classified.npy',\n",
       " '/home/rob/Desktop/lambda/labs/github/Notebooks/9_classified.npy']"
      ]
     },
     "execution_count": 325,
     "metadata": {},
     "output_type": "execute_result"
    }
   ],
   "source": [
    "array_paths"
   ]
  },
  {
   "cell_type": "code",
   "execution_count": 326,
   "metadata": {},
   "outputs": [],
   "source": [
    "error_indexes = [zero_issues,one_issues,two_issues,three_issues,four_issues,five_issues,six_issues,seven_issues,eight_issues,nine_issues]"
   ]
  },
  {
   "cell_type": "code",
   "execution_count": 309,
   "metadata": {},
   "outputs": [],
   "source": [
    "test_array = np.load(array_paths[9])"
   ]
  },
  {
   "cell_type": "code",
   "execution_count": 310,
   "metadata": {},
   "outputs": [],
   "source": [
    "testimg = test_array[np.array(error_indexes[9])][0]"
   ]
  },
  {
   "cell_type": "code",
   "execution_count": 272,
   "metadata": {},
   "outputs": [],
   "source": [
    "pic_array = testimg.reshape(28,28)\n",
    "new_im = Image.fromarray(pic_array)\n",
    "if new_im.mode != 'RGB':\n",
    "    new_im = new_im.convert('RGB')"
   ]
  },
  {
   "cell_type": "code",
   "execution_count": 273,
   "metadata": {},
   "outputs": [
    {
     "data": {
      "image/png": "[encoded data removed]",
      "text/plain": [
       "<PIL.Image.Image image mode=RGB size=28x28 at 0x7F2E413A7B10>"
      ]
     },
     "metadata": {},
     "output_type": "display_data"
    }
   ],
   "source": [
    "display(new_im)"
   ]
  },
  {
   "cell_type": "code",
   "execution_count": 334,
   "metadata": {},
   "outputs": [
    {
     "data": {
      "text/plain": [
       "(7512, 784)"
      ]
     },
     "execution_count": 334,
     "metadata": {},
     "output_type": "execute_result"
    }
   ],
   "source": [
    "a_array.shape"
   ]
  },
  {
   "cell_type": "code",
   "execution_count": 344,
   "metadata": {},
   "outputs": [
    {
     "name": "stdout",
     "output_type": "stream",
     "text": [
      "Class: 0\n",
      "Array loaded is size: (1247, 784)\n",
      "Size of the error Array is: (339, 784)\n",
      "Size of the correct Array is: (908, 784)\n",
      "Class: 1\n",
      "Array loaded is size: (7157, 784)\n",
      "Size of the error Array is: (63, 784)\n",
      "Size of the correct Array is: (7094, 784)\n",
      "Class: 2\n",
      "Array loaded is size: (7631, 784)\n",
      "Size of the error Array is: (3, 784)\n",
      "Size of the correct Array is: (7628, 784)\n",
      "Class: 3\n",
      "Array loaded is size: (7737, 784)\n",
      "Size of the error Array is: (219, 784)\n",
      "Size of the correct Array is: (7518, 784)\n",
      "Class: 4\n",
      "Array loaded is size: (7419, 784)\n",
      "Size of the error Array is: (16, 784)\n",
      "Size of the correct Array is: (7403, 784)\n",
      "Class: 5\n",
      "Array loaded is size: (7385, 784)\n",
      "Size of the error Array is: (22, 784)\n",
      "Size of the correct Array is: (7363, 784)\n",
      "Class: 6\n",
      "Array loaded is size: (7521, 784)\n",
      "Size of the error Array is: (22, 784)\n",
      "Size of the correct Array is: (7499, 784)\n",
      "Class: 7\n",
      "Array loaded is size: (7625, 784)\n",
      "Size of the error Array is: (1, 784)\n",
      "Size of the correct Array is: (7624, 784)\n",
      "Class: 8\n",
      "Array loaded is size: (7512, 784)\n",
      "Size of the error Array is: (68, 784)\n",
      "Size of the correct Array is: (7444, 784)\n",
      "Class: 9\n",
      "Array loaded is size: (7532, 784)\n",
      "Size of the error Array is: (3, 784)\n",
      "Size of the correct Array is: (7529, 784)\n"
     ]
    }
   ],
   "source": [
    "for i in range(0,10):\n",
    "    print(\"Class: \"+str(i))\n",
    "    e = error_indexes[i]\n",
    "    a = np.load(array_paths[i])\n",
    "    m = np.zeros(a.shape[0], dtype=bool)\n",
    "    m[e] = True\n",
    "    \n",
    "    print(\"Array loaded is size: \"+str(a.shape))\n",
    "    error_array = a[m]\n",
    "    np.save('resorted_arrays/errors_from_'+str(i)+\"_classification.npy\", error_array)\n",
    "    print(\"Size of the error Array is: \"+str(error_array.shape))\n",
    "    correct_array = a[~m]\n",
    "    print(\"Size of the correct Array is: \"+str(correct_array.shape))\n",
    "    np.save(\"resorted_arrays/correctly_sorted_\"+str(i)+\".npy\",correct_array)"
   ]
  },
  {
   "cell_type": "code",
   "execution_count": 340,
   "metadata": {},
   "outputs": [
    {
     "data": {
      "text/plain": [
       "'/home/rob/Desktop/lambda/labs/github/Notebooks'"
      ]
     },
     "execution_count": 340,
     "metadata": {},
     "output_type": "execute_result"
    }
   ],
   "source": [
    "import os\n",
    "os.getcwd()"
   ]
  },
  {
   "cell_type": "code",
   "execution_count": 342,
   "metadata": {},
   "outputs": [],
   "source": []
  },
  {
   "cell_type": "code",
   "execution_count": 348,
   "metadata": {},
   "outputs": [],
   "source": [
    "load_errors = []\n",
    "for i in range(0,10):\n",
    "    path = \"/home/rob/Desktop/lambda/labs/github/Notebooks/resorted_arrays/errors_from_\"+str(i)+\"_classification.npy\"\n",
    "    load_errors.append(path)"
   ]
  },
  {
   "cell_type": "code",
   "execution_count": 358,
   "metadata": {},
   "outputs": [],
   "source": [
    "all_errors = np.zeros((1,784))\n",
    "for i in range(0,10):\n",
    "    new_array = np.load(load_errors[i])\n",
    "    all_errors = np.concatenate((new_array,all_errors),axis=0)"
   ]
  },
  {
   "cell_type": "code",
   "execution_count": 412,
   "metadata": {},
   "outputs": [],
   "source": [
    "np.save(\"All_Errors.npy\",all_errors)"
   ]
  },
  {
   "cell_type": "code",
   "execution_count": 413,
   "metadata": {},
   "outputs": [],
   "source": [
    "def predict_number():\n",
    "    cell_filepath = '/home/rob/Desktop/lambda/labs/github/Notebooks/All_Errors.npy'\n",
    "    cell_array = np.load(cell_filepath)\n",
    "    \n",
    "    list_images = []\n",
    "    index = []\n",
    "    for i in range(cell_array.shape[0]):\n",
    "\n",
    "\n",
    "        pic_array = cell_array[i].reshape(28,28)\n",
    "        new_im = Image.fromarray(pic_array)\n",
    "\n",
    "        if new_im.mode != 'RGB':\n",
    "            new_im = new_im.convert('RGB')\n",
    "        list_images.append(new_im)\n",
    "        index.append(i)\n",
    "    \n",
    "    return index, list_images\n",
    "    #for x in list_images:\n",
    "    #    print(display(x, i))"
   ]
  },
  {
   "cell_type": "code",
   "execution_count": 414,
   "metadata": {},
   "outputs": [],
   "source": [
    "def chunks(lst, n):\n",
    "    \"\"\"Yield successive n-sized chunks from lst.\"\"\"\n",
    "    for i in range(0, len(lst), n):\n",
    "        yield lst[i:i + n]\n",
    "\n",
    "chunk_size = 1"
   ]
  },
  {
   "cell_type": "code",
   "execution_count": 415,
   "metadata": {},
   "outputs": [],
   "source": [
    "index, images = predict_number()\n",
    "index = chunks(index,chunk_size)"
   ]
  },
  {
   "cell_type": "code",
   "execution_count": 417,
   "metadata": {},
   "outputs": [
    {
     "data": {
      "image/png": "[encoded data removed]",
      "text/plain": [
       "<PIL.Image.Image image mode=RGB size=28x28 at 0x7F2E3F7CC810>"
      ]
     },
     "metadata": {},
     "output_type": "display_data"
    },
    {
     "ename": "KeyboardInterrupt",
     "evalue": "",
     "output_type": "error",
     "traceback": [
      "\u001b[0;31m---------------------------------------------------------------------------\u001b[0m",
      "\u001b[0;31mKeyboardInterrupt\u001b[0m                         Traceback (most recent call last)",
      "\u001b[0;32m~/anaconda3/envs/omega2020/lib/python3.7/site-packages/ipykernel/kernelbase.py\u001b[0m in \u001b[0;36m_input_request\u001b[0;34m(self, prompt, ident, parent, password)\u001b[0m\n\u001b[1;32m    883\u001b[0m             \u001b[0;32mtry\u001b[0m\u001b[0;34m:\u001b[0m\u001b[0;34m\u001b[0m\u001b[0;34m\u001b[0m\u001b[0m\n\u001b[0;32m--> 884\u001b[0;31m                 \u001b[0mident\u001b[0m\u001b[0;34m,\u001b[0m \u001b[0mreply\u001b[0m \u001b[0;34m=\u001b[0m \u001b[0mself\u001b[0m\u001b[0;34m.\u001b[0m\u001b[0msession\u001b[0m\u001b[0;34m.\u001b[0m\u001b[0mrecv\u001b[0m\u001b[0;34m(\u001b[0m\u001b[0mself\u001b[0m\u001b[0;34m.\u001b[0m\u001b[0mstdin_socket\u001b[0m\u001b[0;34m,\u001b[0m \u001b[0;36m0\u001b[0m\u001b[0;34m)\u001b[0m\u001b[0;34m\u001b[0m\u001b[0;34m\u001b[0m\u001b[0m\n\u001b[0m\u001b[1;32m    885\u001b[0m             \u001b[0;32mexcept\u001b[0m \u001b[0mException\u001b[0m\u001b[0;34m:\u001b[0m\u001b[0;34m\u001b[0m\u001b[0;34m\u001b[0m\u001b[0m\n",
      "\u001b[0;32m~/anaconda3/envs/omega2020/lib/python3.7/site-packages/jupyter_client/session.py\u001b[0m in \u001b[0;36mrecv\u001b[0;34m(self, socket, mode, content, copy)\u001b[0m\n\u001b[1;32m    802\u001b[0m         \u001b[0;32mtry\u001b[0m\u001b[0;34m:\u001b[0m\u001b[0;34m\u001b[0m\u001b[0;34m\u001b[0m\u001b[0m\n\u001b[0;32m--> 803\u001b[0;31m             \u001b[0mmsg_list\u001b[0m \u001b[0;34m=\u001b[0m \u001b[0msocket\u001b[0m\u001b[0;34m.\u001b[0m\u001b[0mrecv_multipart\u001b[0m\u001b[0;34m(\u001b[0m\u001b[0mmode\u001b[0m\u001b[0;34m,\u001b[0m \u001b[0mcopy\u001b[0m\u001b[0;34m=\u001b[0m\u001b[0mcopy\u001b[0m\u001b[0;34m)\u001b[0m\u001b[0;34m\u001b[0m\u001b[0;34m\u001b[0m\u001b[0m\n\u001b[0m\u001b[1;32m    804\u001b[0m         \u001b[0;32mexcept\u001b[0m \u001b[0mzmq\u001b[0m\u001b[0;34m.\u001b[0m\u001b[0mZMQError\u001b[0m \u001b[0;32mas\u001b[0m \u001b[0me\u001b[0m\u001b[0;34m:\u001b[0m\u001b[0;34m\u001b[0m\u001b[0;34m\u001b[0m\u001b[0m\n",
      "\u001b[0;32m~/anaconda3/envs/omega2020/lib/python3.7/site-packages/zmq/sugar/socket.py\u001b[0m in \u001b[0;36mrecv_multipart\u001b[0;34m(self, flags, copy, track)\u001b[0m\n\u001b[1;32m    474\u001b[0m         \"\"\"\n\u001b[0;32m--> 475\u001b[0;31m         \u001b[0mparts\u001b[0m \u001b[0;34m=\u001b[0m \u001b[0;34m[\u001b[0m\u001b[0mself\u001b[0m\u001b[0;34m.\u001b[0m\u001b[0mrecv\u001b[0m\u001b[0;34m(\u001b[0m\u001b[0mflags\u001b[0m\u001b[0;34m,\u001b[0m \u001b[0mcopy\u001b[0m\u001b[0;34m=\u001b[0m\u001b[0mcopy\u001b[0m\u001b[0;34m,\u001b[0m \u001b[0mtrack\u001b[0m\u001b[0;34m=\u001b[0m\u001b[0mtrack\u001b[0m\u001b[0;34m)\u001b[0m\u001b[0;34m]\u001b[0m\u001b[0;34m\u001b[0m\u001b[0;34m\u001b[0m\u001b[0m\n\u001b[0m\u001b[1;32m    476\u001b[0m         \u001b[0;31m# have first part already, only loop while more to receive\u001b[0m\u001b[0;34m\u001b[0m\u001b[0;34m\u001b[0m\u001b[0;34m\u001b[0m\u001b[0m\n",
      "\u001b[0;32mzmq/backend/cython/socket.pyx\u001b[0m in \u001b[0;36mzmq.backend.cython.socket.Socket.recv\u001b[0;34m()\u001b[0m\n",
      "\u001b[0;32mzmq/backend/cython/socket.pyx\u001b[0m in \u001b[0;36mzmq.backend.cython.socket.Socket.recv\u001b[0;34m()\u001b[0m\n",
      "\u001b[0;32mzmq/backend/cython/socket.pyx\u001b[0m in \u001b[0;36mzmq.backend.cython.socket._recv_copy\u001b[0;34m()\u001b[0m\n",
      "\u001b[0;32m~/anaconda3/envs/omega2020/lib/python3.7/site-packages/zmq/backend/cython/checkrc.pxd\u001b[0m in \u001b[0;36mzmq.backend.cython.checkrc._check_rc\u001b[0;34m()\u001b[0m\n",
      "\u001b[0;31mKeyboardInterrupt\u001b[0m: ",
      "\nDuring handling of the above exception, another exception occurred:\n",
      "\u001b[0;31mKeyboardInterrupt\u001b[0m                         Traceback (most recent call last)",
      "\u001b[0;32m<ipython-input-417-108e99162fdd>\u001b[0m in \u001b[0;36m<module>\u001b[0;34m\u001b[0m\n\u001b[1;32m      5\u001b[0m         \u001b[0;31m#print(k)\u001b[0m\u001b[0;34m\u001b[0m\u001b[0;34m\u001b[0m\u001b[0;34m\u001b[0m\u001b[0m\n\u001b[1;32m      6\u001b[0m         \u001b[0mdisplay\u001b[0m\u001b[0;34m(\u001b[0m\u001b[0mimages\u001b[0m\u001b[0;34m[\u001b[0m\u001b[0mk\u001b[0m\u001b[0;34m]\u001b[0m\u001b[0;34m)\u001b[0m\u001b[0;34m\u001b[0m\u001b[0;34m\u001b[0m\u001b[0m\n\u001b[0;32m----> 7\u001b[0;31m     \u001b[0mvalue\u001b[0m \u001b[0;34m=\u001b[0m \u001b[0minput\u001b[0m\u001b[0;34m(\u001b[0m\u001b[0;34m\"Continue?\"\u001b[0m\u001b[0;34m)\u001b[0m\u001b[0;34m\u001b[0m\u001b[0;34m\u001b[0m\u001b[0m\n\u001b[0m\u001b[1;32m      8\u001b[0m     \u001b[0mentries\u001b[0m\u001b[0;34m.\u001b[0m\u001b[0mappend\u001b[0m\u001b[0;34m(\u001b[0m\u001b[0mvalue\u001b[0m\u001b[0;34m)\u001b[0m\u001b[0;34m\u001b[0m\u001b[0;34m\u001b[0m\u001b[0m\n\u001b[1;32m      9\u001b[0m     \u001b[0mclear_output\u001b[0m\u001b[0;34m(\u001b[0m\u001b[0;34m)\u001b[0m\u001b[0;34m\u001b[0m\u001b[0;34m\u001b[0m\u001b[0m\n",
      "\u001b[0;32m~/anaconda3/envs/omega2020/lib/python3.7/site-packages/ipykernel/kernelbase.py\u001b[0m in \u001b[0;36mraw_input\u001b[0;34m(self, prompt)\u001b[0m\n\u001b[1;32m    857\u001b[0m             \u001b[0mself\u001b[0m\u001b[0;34m.\u001b[0m\u001b[0m_parent_ident\u001b[0m\u001b[0;34m,\u001b[0m\u001b[0;34m\u001b[0m\u001b[0;34m\u001b[0m\u001b[0m\n\u001b[1;32m    858\u001b[0m             \u001b[0mself\u001b[0m\u001b[0;34m.\u001b[0m\u001b[0m_parent_header\u001b[0m\u001b[0;34m,\u001b[0m\u001b[0;34m\u001b[0m\u001b[0;34m\u001b[0m\u001b[0m\n\u001b[0;32m--> 859\u001b[0;31m             \u001b[0mpassword\u001b[0m\u001b[0;34m=\u001b[0m\u001b[0;32mFalse\u001b[0m\u001b[0;34m,\u001b[0m\u001b[0;34m\u001b[0m\u001b[0;34m\u001b[0m\u001b[0m\n\u001b[0m\u001b[1;32m    860\u001b[0m         )\n\u001b[1;32m    861\u001b[0m \u001b[0;34m\u001b[0m\u001b[0m\n",
      "\u001b[0;32m~/anaconda3/envs/omega2020/lib/python3.7/site-packages/ipykernel/kernelbase.py\u001b[0m in \u001b[0;36m_input_request\u001b[0;34m(self, prompt, ident, parent, password)\u001b[0m\n\u001b[1;32m    887\u001b[0m             \u001b[0;32mexcept\u001b[0m \u001b[0mKeyboardInterrupt\u001b[0m\u001b[0;34m:\u001b[0m\u001b[0;34m\u001b[0m\u001b[0;34m\u001b[0m\u001b[0m\n\u001b[1;32m    888\u001b[0m                 \u001b[0;31m# re-raise KeyboardInterrupt, to truncate traceback\u001b[0m\u001b[0;34m\u001b[0m\u001b[0;34m\u001b[0m\u001b[0;34m\u001b[0m\u001b[0m\n\u001b[0;32m--> 889\u001b[0;31m                 \u001b[0;32mraise\u001b[0m \u001b[0mKeyboardInterrupt\u001b[0m\u001b[0;34m\u001b[0m\u001b[0;34m\u001b[0m\u001b[0m\n\u001b[0m\u001b[1;32m    890\u001b[0m             \u001b[0;32melse\u001b[0m\u001b[0;34m:\u001b[0m\u001b[0;34m\u001b[0m\u001b[0;34m\u001b[0m\u001b[0m\n\u001b[1;32m    891\u001b[0m                 \u001b[0;32mbreak\u001b[0m\u001b[0;34m\u001b[0m\u001b[0;34m\u001b[0m\u001b[0m\n",
      "\u001b[0;31mKeyboardInterrupt\u001b[0m: "
     ]
    }
   ],
   "source": [
    "#entries = []\n",
    "for i in index:\n",
    "    index_list = i\n",
    "    for k in index_list:\n",
    "        #print(k)\n",
    "        display(images[k])\n",
    "    value = input(\"Continue?\")\n",
    "    entries.append(value)\n",
    "    clear_output()"
   ]
  },
  {
   "cell_type": "code",
   "execution_count": 403,
   "metadata": {},
   "outputs": [],
   "source": [
    "final_entries = entries"
   ]
  },
  {
   "cell_type": "code",
   "execution_count": 407,
   "metadata": {},
   "outputs": [],
   "source": [
    "final_entries = [x if x != 5 else '5' for x in final_entries]"
   ]
  },
  {
   "cell_type": "code",
   "execution_count": 408,
   "metadata": {},
   "outputs": [
    {
     "data": {
      "text/plain": [
       "Counter({'2': 52,\n",
       "         '5': 149,\n",
       "         '6': 119,\n",
       "         '3': 51,\n",
       "         '8': 149,\n",
       "         '9': 71,\n",
       "         '0': 35,\n",
       "         '1': 46,\n",
       "         '4': 48,\n",
       "         '7': 37})"
      ]
     },
     "execution_count": 408,
     "metadata": {},
     "output_type": "execute_result"
    }
   ],
   "source": [
    "Counter(final_entries)"
   ]
  },
  {
   "cell_type": "code",
   "execution_count": 419,
   "metadata": {},
   "outputs": [
    {
     "data": {
      "text/plain": [
       "'2'"
      ]
     },
     "execution_count": 419,
     "metadata": {},
     "output_type": "execute_result"
    }
   ],
   "source": [
    "final_entries[0]"
   ]
  },
  {
   "cell_type": "code",
   "execution_count": 423,
   "metadata": {},
   "outputs": [],
   "source": [
    "error_class_array = np.array(final_entries).reshape(len(final_entries),)"
   ]
  },
  {
   "cell_type": "code",
   "execution_count": 424,
   "metadata": {},
   "outputs": [],
   "source": [
    "np.save(\"All_Error_Classes.npy\",error_class_array)"
   ]
  },
  {
   "cell_type": "code",
   "execution_count": 439,
   "metadata": {},
   "outputs": [],
   "source": [
    "allCells = np.array([])\n",
    "allCells = allCells.reshape(0,784)\n",
    "allClass = np.array([])\n",
    "allClass = allClass.reshape(0,)\n",
    "for i in range(1,10):\n",
    "    path = '/home/rob/Desktop/lambda/labs/github/Notebooks/resorted_arrays/correctly_sorted_'+str(i)+\".npy\"\n",
    "    array = np.load(path)\n",
    "    \n",
    "    number_entries = array.shape[0]\n",
    "    answer_array = np.repeat(i,number_entries)\n",
    "    answer_array = answer_array.reshape(array.shape[0],)\n",
    "    \n",
    "    allCells = np.concatenate((allCells,array),axis=0)\n",
    "    allClass = np.concatenate((allClass,answer_array),axis=0)"
   ]
  },
  {
   "cell_type": "code",
   "execution_count": 425,
   "metadata": {},
   "outputs": [
    {
     "data": {
      "text/plain": [
       "'/home/rob/Desktop/lambda/labs/github/Notebooks'"
      ]
     },
     "execution_count": 425,
     "metadata": {},
     "output_type": "execute_result"
    }
   ],
   "source": [
    "os.getcwd()"
   ]
  },
  {
   "cell_type": "code",
   "execution_count": 429,
   "metadata": {},
   "outputs": [],
   "source": [
    "path = '/home/rob/Desktop/lambda/labs/github/Notebooks/resorted_arrays/correctly_sorted_1.npy'\n",
    "array = np.load(path)"
   ]
  },
  {
   "cell_type": "code",
   "execution_count": 431,
   "metadata": {},
   "outputs": [],
   "source": [
    "init_answer = np.zeros(1,)"
   ]
  },
  {
   "cell_type": "code",
   "execution_count": 434,
   "metadata": {},
   "outputs": [],
   "source": [
    "allArrays = np.array([])"
   ]
  },
  {
   "cell_type": "code",
   "execution_count": 441,
   "metadata": {},
   "outputs": [
    {
     "data": {
      "text/plain": [
       "(67102,)"
      ]
     },
     "execution_count": 441,
     "metadata": {},
     "output_type": "execute_result"
    }
   ],
   "source": [
    "allClass.shape"
   ]
  },
  {
   "cell_type": "code",
   "execution_count": 442,
   "metadata": {},
   "outputs": [
    {
     "data": {
      "text/plain": [
       "(67102, 784)"
      ]
     },
     "execution_count": 442,
     "metadata": {},
     "output_type": "execute_result"
    }
   ],
   "source": [
    "allCells.shape"
   ]
  },
  {
   "cell_type": "code",
   "execution_count": 443,
   "metadata": {},
   "outputs": [],
   "source": [
    "np.save('all_cells_reclassified.npy',allCells)"
   ]
  },
  {
   "cell_type": "code",
   "execution_count": 444,
   "metadata": {},
   "outputs": [],
   "source": [
    "np.save('all_classes.npy',allClass)"
   ]
  },
  {
   "cell_type": "code",
   "execution_count": 447,
   "metadata": {},
   "outputs": [],
   "source": [
    "import random\n"
   ]
  },
  {
   "cell_type": "code",
   "execution_count": 459,
   "metadata": {},
   "outputs": [
    {
     "name": "stdout",
     "output_type": "stream",
     "text": [
      "9.0\n"
     ]
    },
    {
     "data": {
      "image/png": "[encoded data removed]",
      "text/plain": [
       "<PIL.Image.Image image mode=RGB size=28x28 at 0x7F2E417A3810>"
      ]
     },
     "metadata": {},
     "output_type": "display_data"
    },
    {
     "name": "stdout",
     "output_type": "stream",
     "text": [
      "5.0\n"
     ]
    },
    {
     "data": {
      "image/png": "[encoded data removed]",
      "text/plain": [
       "<PIL.Image.Image image mode=RGB size=28x28 at 0x7F2E3EC68790>"
      ]
     },
     "metadata": {},
     "output_type": "display_data"
    },
    {
     "name": "stdout",
     "output_type": "stream",
     "text": [
      "3.0\n"
     ]
    },
    {
     "data": {
      "image/png": "[encoded data removed]",
      "text/plain": [
       "<PIL.Image.Image image mode=RGB size=28x28 at 0x7F2E3EC681D0>"
      ]
     },
     "metadata": {},
     "output_type": "display_data"
    },
    {
     "name": "stdout",
     "output_type": "stream",
     "text": [
      "4.0\n"
     ]
    },
    {
     "data": {
      "image/png": "[encoded data removed]",
      "text/plain": [
       "<PIL.Image.Image image mode=RGB size=28x28 at 0x7F2E417A3D90>"
      ]
     },
     "metadata": {},
     "output_type": "display_data"
    },
    {
     "name": "stdout",
     "output_type": "stream",
     "text": [
      "8.0\n"
     ]
    },
    {
     "data": {
      "image/png": "[encoded data removed]",
      "text/plain": [
       "<PIL.Image.Image image mode=RGB size=28x28 at 0x7F2E417A3D90>"
      ]
     },
     "metadata": {},
     "output_type": "display_data"
    },
    {
     "name": "stdout",
     "output_type": "stream",
     "text": [
      "5.0\n"
     ]
    },
    {
     "data": {
      "image/png": "[encoded data removed]",
      "text/plain": [
       "<PIL.Image.Image image mode=RGB size=28x28 at 0x7F2E417A3C90>"
      ]
     },
     "metadata": {},
     "output_type": "display_data"
    },
    {
     "name": "stdout",
     "output_type": "stream",
     "text": [
      "5.0\n"
     ]
    },
    {
     "data": {
      "image/png": "[encoded data removed]",
      "text/plain": [
       "<PIL.Image.Image image mode=RGB size=28x28 at 0x7F2E3EA6DC90>"
      ]
     },
     "metadata": {},
     "output_type": "display_data"
    },
    {
     "name": "stdout",
     "output_type": "stream",
     "text": [
      "6.0\n"
     ]
    },
    {
     "data": {
      "image/png": "[encoded data removed]",
      "text/plain": [
       "<PIL.Image.Image image mode=RGB size=28x28 at 0x7F2E4177A390>"
      ]
     },
     "metadata": {},
     "output_type": "display_data"
    },
    {
     "name": "stdout",
     "output_type": "stream",
     "text": [
      "1.0\n"
     ]
    },
    {
     "data": {
      "image/png": "[encoded data removed]",
      "text/plain": [
       "<PIL.Image.Image image mode=RGB size=28x28 at 0x7F2E3EC68590>"
      ]
     },
     "metadata": {},
     "output_type": "display_data"
    },
    {
     "name": "stdout",
     "output_type": "stream",
     "text": [
      "8.0\n"
     ]
    },
    {
     "data": {
      "image/png": "[encoded data removed]",
      "text/plain": [
       "<PIL.Image.Image image mode=RGB size=28x28 at 0x7F2E417864D0>"
      ]
     },
     "metadata": {},
     "output_type": "display_data"
    }
   ],
   "source": [
    "\n",
    "for x in range(0,10):\n",
    "    i = random.randint(0,allCells.shape[0])\n",
    "    test_cell = allCells[i]\n",
    "    pic_array = test_cell.reshape(28,28)\n",
    "    new_im = Image.fromarray(pic_array)\n",
    "    if new_im.mode != 'RGB':\n",
    "        new_im = new_im.convert('RGB')\n",
    "    print(allClass[i])\n",
    "    display(new_im) \n",
    "    "
   ]
  },
  {
   "cell_type": "code",
   "execution_count": 458,
   "metadata": {},
   "outputs": [
    {
     "data": {
      "text/plain": [
       "3.0"
      ]
     },
     "execution_count": 458,
     "metadata": {},
     "output_type": "execute_result"
    }
   ],
   "source": []
  },
  {
   "cell_type": "code",
   "execution_count": null,
   "metadata": {},
   "outputs": [],
   "source": []
  }
 ],
 "metadata": {
  "kernelspec": {
   "display_name": "Omega 2020",
   "language": "python",
   "name": "omega2020"
  },
  "language_info": {
   "codemirror_mode": {
    "name": "ipython",
    "version": 3
   },
   "file_extension": ".py",
   "mimetype": "text/x-python",
   "name": "python",
   "nbconvert_exporter": "python",
   "pygments_lexer": "ipython3",
   "version": "3.7.4"
  }
 },
 "nbformat": 4,
 "nbformat_minor": 4
}
