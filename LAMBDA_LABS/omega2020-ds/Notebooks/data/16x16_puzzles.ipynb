{
  "nbformat": 4,
  "nbformat_minor": 0,
  "metadata": {
    "colab": {
      "name": "16x16_puzzles.ipynb",
      "provenance": []
    },
    "kernelspec": {
      "name": "python3",
      "display_name": "Python 3"
    }
  },
  "cells": [
    {
      "cell_type": "markdown",
      "metadata": {
        "id": "AsSWJwWM_MrO",
        "colab_type": "text"
      },
      "source": [
        "*   [Sudoku Scraper](https://github.com/apauliuc/sudoku-scraper)\n",
        "*   [Scraped Website](https://www.menneske.no/sudoku/4/eng/)"
      ]
    },
    {
      "cell_type": "code",
      "metadata": {
        "id": "MBVYMoR1c0K6",
        "colab_type": "code",
        "colab": {}
      },
      "source": [
        "import pandas as pd\n",
        "from google.colab import files"
      ],
      "execution_count": 1,
      "outputs": []
    },
    {
      "cell_type": "code",
      "metadata": {
        "id": "DjJgEeKac_lT",
        "colab_type": "code",
        "colab": {
          "resources": {
            "http://localhost:8080/nbextensions/google.colab/files.js": {
              "data": "Ly8gQ29weXJpZ2h0IDIwMTcgR29vZ2xlIExMQwovLwovLyBMaWNlbnNlZCB1bmRlciB0aGUgQXBhY2hlIExpY2Vuc2UsIFZlcnNpb24gMi4wICh0aGUgIkxpY2Vuc2UiKTsKLy8geW91IG1heSBub3QgdXNlIHRoaXMgZmlsZSBleGNlcHQgaW4gY29tcGxpYW5jZSB3aXRoIHRoZSBMaWNlbnNlLgovLyBZb3UgbWF5IG9idGFpbiBhIGNvcHkgb2YgdGhlIExpY2Vuc2UgYXQKLy8KLy8gICAgICBodHRwOi8vd3d3LmFwYWNoZS5vcmcvbGljZW5zZXMvTElDRU5TRS0yLjAKLy8KLy8gVW5sZXNzIHJlcXVpcmVkIGJ5IGFwcGxpY2FibGUgbGF3IG9yIGFncmVlZCB0byBpbiB3cml0aW5nLCBzb2Z0d2FyZQovLyBkaXN0cmlidXRlZCB1bmRlciB0aGUgTGljZW5zZSBpcyBkaXN0cmlidXRlZCBvbiBhbiAiQVMgSVMiIEJBU0lTLAovLyBXSVRIT1VUIFdBUlJBTlRJRVMgT1IgQ09ORElUSU9OUyBPRiBBTlkgS0lORCwgZWl0aGVyIGV4cHJlc3Mgb3IgaW1wbGllZC4KLy8gU2VlIHRoZSBMaWNlbnNlIGZvciB0aGUgc3BlY2lmaWMgbGFuZ3VhZ2UgZ292ZXJuaW5nIHBlcm1pc3Npb25zIGFuZAovLyBsaW1pdGF0aW9ucyB1bmRlciB0aGUgTGljZW5zZS4KCi8qKgogKiBAZmlsZW92ZXJ2aWV3IEhlbHBlcnMgZm9yIGdvb2dsZS5jb2xhYiBQeXRob24gbW9kdWxlLgogKi8KKGZ1bmN0aW9uKHNjb3BlKSB7CmZ1bmN0aW9uIHNwYW4odGV4dCwgc3R5bGVBdHRyaWJ1dGVzID0ge30pIHsKICBjb25zdCBlbGVtZW50ID0gZG9jdW1lbnQuY3JlYXRlRWxlbWVudCgnc3BhbicpOwogIGVsZW1lbnQudGV4dENvbnRlbnQgPSB0ZXh0OwogIGZvciAoY29uc3Qga2V5IG9mIE9iamVjdC5rZXlzKHN0eWxlQXR0cmlidXRlcykpIHsKICAgIGVsZW1lbnQuc3R5bGVba2V5XSA9IHN0eWxlQXR0cmlidXRlc1trZXldOwogIH0KICByZXR1cm4gZWxlbWVudDsKfQoKLy8gTWF4IG51bWJlciBvZiBieXRlcyB3aGljaCB3aWxsIGJlIHVwbG9hZGVkIGF0IGEgdGltZS4KY29uc3QgTUFYX1BBWUxPQURfU0laRSA9IDEwMCAqIDEwMjQ7CgpmdW5jdGlvbiBfdXBsb2FkRmlsZXMoaW5wdXRJZCwgb3V0cHV0SWQpIHsKICBjb25zdCBzdGVwcyA9IHVwbG9hZEZpbGVzU3RlcChpbnB1dElkLCBvdXRwdXRJZCk7CiAgY29uc3Qgb3V0cHV0RWxlbWVudCA9IGRvY3VtZW50LmdldEVsZW1lbnRCeUlkKG91dHB1dElkKTsKICAvLyBDYWNoZSBzdGVwcyBvbiB0aGUgb3V0cHV0RWxlbWVudCB0byBtYWtlIGl0IGF2YWlsYWJsZSBmb3IgdGhlIG5leHQgY2FsbAogIC8vIHRvIHVwbG9hZEZpbGVzQ29udGludWUgZnJvbSBQeXRob24uCiAgb3V0cHV0RWxlbWVudC5zdGVwcyA9IHN0ZXBzOwoKICByZXR1cm4gX3VwbG9hZEZpbGVzQ29udGludWUob3V0cHV0SWQpOwp9CgovLyBUaGlzIGlzIHJvdWdobHkgYW4gYXN5bmMgZ2VuZXJhdG9yIChub3Qgc3VwcG9ydGVkIGluIHRoZSBicm93c2VyIHlldCksCi8vIHdoZXJlIHRoZXJlIGFyZSBtdWx0aXBsZSBhc3luY2hyb25vdXMgc3RlcHMgYW5kIHRoZSBQeXRob24gc2lkZSBpcyBnb2luZwovLyB0byBwb2xsIGZvciBjb21wbGV0aW9uIG9mIGVhY2ggc3RlcC4KLy8gVGhpcyB1c2VzIGEgUHJvbWlzZSB0byBibG9jayB0aGUgcHl0aG9uIHNpZGUgb24gY29tcGxldGlvbiBvZiBlYWNoIHN0ZXAsCi8vIHRoZW4gcGFzc2VzIHRoZSByZXN1bHQgb2YgdGhlIHByZXZpb3VzIHN0ZXAgYXMgdGhlIGlucHV0IHRvIHRoZSBuZXh0IHN0ZXAuCmZ1bmN0aW9uIF91cGxvYWRGaWxlc0NvbnRpbnVlKG91dHB1dElkKSB7CiAgY29uc3Qgb3V0cHV0RWxlbWVudCA9IGRvY3VtZW50LmdldEVsZW1lbnRCeUlkKG91dHB1dElkKTsKICBjb25zdCBzdGVwcyA9IG91dHB1dEVsZW1lbnQuc3RlcHM7CgogIGNvbnN0IG5leHQgPSBzdGVwcy5uZXh0KG91dHB1dEVsZW1lbnQubGFzdFByb21pc2VWYWx1ZSk7CiAgcmV0dXJuIFByb21pc2UucmVzb2x2ZShuZXh0LnZhbHVlLnByb21pc2UpLnRoZW4oKHZhbHVlKSA9PiB7CiAgICAvLyBDYWNoZSB0aGUgbGFzdCBwcm9taXNlIHZhbHVlIHRvIG1ha2UgaXQgYXZhaWxhYmxlIHRvIHRoZSBuZXh0CiAgICAvLyBzdGVwIG9mIHRoZSBnZW5lcmF0b3IuCiAgICBvdXRwdXRFbGVtZW50Lmxhc3RQcm9taXNlVmFsdWUgPSB2YWx1ZTsKICAgIHJldHVybiBuZXh0LnZhbHVlLnJlc3BvbnNlOwogIH0pOwp9CgovKioKICogR2VuZXJhdG9yIGZ1bmN0aW9uIHdoaWNoIGlzIGNhbGxlZCBiZXR3ZWVuIGVhY2ggYXN5bmMgc3RlcCBvZiB0aGUgdXBsb2FkCiAqIHByb2Nlc3MuCiAqIEBwYXJhbSB7c3RyaW5nfSBpbnB1dElkIEVsZW1lbnQgSUQgb2YgdGhlIGlucHV0IGZpbGUgcGlja2VyIGVsZW1lbnQuCiAqIEBwYXJhbSB7c3RyaW5nfSBvdXRwdXRJZCBFbGVtZW50IElEIG9mIHRoZSBvdXRwdXQgZGlzcGxheS4KICogQHJldHVybiB7IUl0ZXJhYmxlPCFPYmplY3Q+fSBJdGVyYWJsZSBvZiBuZXh0IHN0ZXBzLgogKi8KZnVuY3Rpb24qIHVwbG9hZEZpbGVzU3RlcChpbnB1dElkLCBvdXRwdXRJZCkgewogIGNvbnN0IGlucHV0RWxlbWVudCA9IGRvY3VtZW50LmdldEVsZW1lbnRCeUlkKGlucHV0SWQpOwogIGlucHV0RWxlbWVudC5kaXNhYmxlZCA9IGZhbHNlOwoKICBjb25zdCBvdXRwdXRFbGVtZW50ID0gZG9jdW1lbnQuZ2V0RWxlbWVudEJ5SWQob3V0cHV0SWQpOwogIG91dHB1dEVsZW1lbnQuaW5uZXJIVE1MID0gJyc7CgogIGNvbnN0IHBpY2tlZFByb21pc2UgPSBuZXcgUHJvbWlzZSgocmVzb2x2ZSkgPT4gewogICAgaW5wdXRFbGVtZW50LmFkZEV2ZW50TGlzdGVuZXIoJ2NoYW5nZScsIChlKSA9PiB7CiAgICAgIHJlc29sdmUoZS50YXJnZXQuZmlsZXMpOwogICAgfSk7CiAgfSk7CgogIGNvbnN0IGNhbmNlbCA9IGRvY3VtZW50LmNyZWF0ZUVsZW1lbnQoJ2J1dHRvbicpOwogIGlucHV0RWxlbWVudC5wYXJlbnRFbGVtZW50LmFwcGVuZENoaWxkKGNhbmNlbCk7CiAgY2FuY2VsLnRleHRDb250ZW50ID0gJ0NhbmNlbCB1cGxvYWQnOwogIGNvbnN0IGNhbmNlbFByb21pc2UgPSBuZXcgUHJvbWlzZSgocmVzb2x2ZSkgPT4gewogICAgY2FuY2VsLm9uY2xpY2sgPSAoKSA9PiB7CiAgICAgIHJlc29sdmUobnVsbCk7CiAgICB9OwogIH0pOwoKICAvLyBXYWl0IGZvciB0aGUgdXNlciB0byBwaWNrIHRoZSBmaWxlcy4KICBjb25zdCBmaWxlcyA9IHlpZWxkIHsKICAgIHByb21pc2U6IFByb21pc2UucmFjZShbcGlja2VkUHJvbWlzZSwgY2FuY2VsUHJvbWlzZV0pLAogICAgcmVzcG9uc2U6IHsKICAgICAgYWN0aW9uOiAnc3RhcnRpbmcnLAogICAgfQogIH07CgogIGNhbmNlbC5yZW1vdmUoKTsKCiAgLy8gRGlzYWJsZSB0aGUgaW5wdXQgZWxlbWVudCBzaW5jZSBmdXJ0aGVyIHBpY2tzIGFyZSBub3QgYWxsb3dlZC4KICBpbnB1dEVsZW1lbnQuZGlzYWJsZWQgPSB0cnVlOwoKICBpZiAoIWZpbGVzKSB7CiAgICByZXR1cm4gewogICAgICByZXNwb25zZTogewogICAgICAgIGFjdGlvbjogJ2NvbXBsZXRlJywKICAgICAgfQogICAgfTsKICB9CgogIGZvciAoY29uc3QgZmlsZSBvZiBmaWxlcykgewogICAgY29uc3QgbGkgPSBkb2N1bWVudC5jcmVhdGVFbGVtZW50KCdsaScpOwogICAgbGkuYXBwZW5kKHNwYW4oZmlsZS5uYW1lLCB7Zm9udFdlaWdodDogJ2JvbGQnfSkpOwogICAgbGkuYXBwZW5kKHNwYW4oCiAgICAgICAgYCgke2ZpbGUudHlwZSB8fCAnbi9hJ30pIC0gJHtmaWxlLnNpemV9IGJ5dGVzLCBgICsKICAgICAgICBgbGFzdCBtb2RpZmllZDogJHsKICAgICAgICAgICAgZmlsZS5sYXN0TW9kaWZpZWREYXRlID8gZmlsZS5sYXN0TW9kaWZpZWREYXRlLnRvTG9jYWxlRGF0ZVN0cmluZygpIDoKICAgICAgICAgICAgICAgICAgICAgICAgICAgICAgICAgICAgJ24vYSd9IC0gYCkpOwogICAgY29uc3QgcGVyY2VudCA9IHNwYW4oJzAlIGRvbmUnKTsKICAgIGxpLmFwcGVuZENoaWxkKHBlcmNlbnQpOwoKICAgIG91dHB1dEVsZW1lbnQuYXBwZW5kQ2hpbGQobGkpOwoKICAgIGNvbnN0IGZpbGVEYXRhUHJvbWlzZSA9IG5ldyBQcm9taXNlKChyZXNvbHZlKSA9PiB7CiAgICAgIGNvbnN0IHJlYWRlciA9IG5ldyBGaWxlUmVhZGVyKCk7CiAgICAgIHJlYWRlci5vbmxvYWQgPSAoZSkgPT4gewogICAgICAgIHJlc29sdmUoZS50YXJnZXQucmVzdWx0KTsKICAgICAgfTsKICAgICAgcmVhZGVyLnJlYWRBc0FycmF5QnVmZmVyKGZpbGUpOwogICAgfSk7CiAgICAvLyBXYWl0IGZvciB0aGUgZGF0YSB0byBiZSByZWFkeS4KICAgIGxldCBmaWxlRGF0YSA9IHlpZWxkIHsKICAgICAgcHJvbWlzZTogZmlsZURhdGFQcm9taXNlLAogICAgICByZXNwb25zZTogewogICAgICAgIGFjdGlvbjogJ2NvbnRpbnVlJywKICAgICAgfQogICAgfTsKCiAgICAvLyBVc2UgYSBjaHVua2VkIHNlbmRpbmcgdG8gYXZvaWQgbWVzc2FnZSBzaXplIGxpbWl0cy4gU2VlIGIvNjIxMTU2NjAuCiAgICBsZXQgcG9zaXRpb24gPSAwOwogICAgd2hpbGUgKHBvc2l0aW9uIDwgZmlsZURhdGEuYnl0ZUxlbmd0aCkgewogICAgICBjb25zdCBsZW5ndGggPSBNYXRoLm1pbihmaWxlRGF0YS5ieXRlTGVuZ3RoIC0gcG9zaXRpb24sIE1BWF9QQVlMT0FEX1NJWkUpOwogICAgICBjb25zdCBjaHVuayA9IG5ldyBVaW50OEFycmF5KGZpbGVEYXRhLCBwb3NpdGlvbiwgbGVuZ3RoKTsKICAgICAgcG9zaXRpb24gKz0gbGVuZ3RoOwoKICAgICAgY29uc3QgYmFzZTY0ID0gYnRvYShTdHJpbmcuZnJvbUNoYXJDb2RlLmFwcGx5KG51bGwsIGNodW5rKSk7CiAgICAgIHlpZWxkIHsKICAgICAgICByZXNwb25zZTogewogICAgICAgICAgYWN0aW9uOiAnYXBwZW5kJywKICAgICAgICAgIGZpbGU6IGZpbGUubmFtZSwKICAgICAgICAgIGRhdGE6IGJhc2U2NCwKICAgICAgICB9LAogICAgICB9OwogICAgICBwZXJjZW50LnRleHRDb250ZW50ID0KICAgICAgICAgIGAke01hdGgucm91bmQoKHBvc2l0aW9uIC8gZmlsZURhdGEuYnl0ZUxlbmd0aCkgKiAxMDApfSUgZG9uZWA7CiAgICB9CiAgfQoKICAvLyBBbGwgZG9uZS4KICB5aWVsZCB7CiAgICByZXNwb25zZTogewogICAgICBhY3Rpb246ICdjb21wbGV0ZScsCiAgICB9CiAgfTsKfQoKc2NvcGUuZ29vZ2xlID0gc2NvcGUuZ29vZ2xlIHx8IHt9OwpzY29wZS5nb29nbGUuY29sYWIgPSBzY29wZS5nb29nbGUuY29sYWIgfHwge307CnNjb3BlLmdvb2dsZS5jb2xhYi5fZmlsZXMgPSB7CiAgX3VwbG9hZEZpbGVzLAogIF91cGxvYWRGaWxlc0NvbnRpbnVlLAp9Owp9KShzZWxmKTsK",
              "ok": true,
              "headers": [
                [
                  "content-type",
                  "application/javascript"
                ]
              ],
              "status": 200,
              "status_text": "OK"
            }
          },
          "base_uri": "https://localhost:8080/",
          "height": 75
        },
        "outputId": "c7289e90-5c95-4820-a5aa-3cc6b35909d4"
      },
      "source": [
        "# upload the uncleaned 16x16 data\n",
        "uploaded = files.upload()"
      ],
      "execution_count": 2,
      "outputs": [
        {
          "output_type": "display_data",
          "data": {
            "text/html": [
              "\n",
              "     <input type=\"file\" id=\"files-ded4c410-9889-4313-ad4a-00a4cd8d420c\" name=\"files[]\" multiple disabled\n",
              "        style=\"border:none\" />\n",
              "     <output id=\"result-ded4c410-9889-4313-ad4a-00a4cd8d420c\">\n",
              "      Upload widget is only available when the cell has been executed in the\n",
              "      current browser session. Please rerun this cell to enable.\n",
              "      </output>\n",
              "      <script src=\"/nbextensions/google.colab/files.js\"></script> "
            ],
            "text/plain": [
              "<IPython.core.display.HTML object>"
            ]
          },
          "metadata": {
            "tags": []
          }
        },
        {
          "output_type": "stream",
          "text": [
            "Saving uncleaned_sudokus_16x16.csv to uncleaned_sudokus_16x16.csv\n"
          ],
          "name": "stdout"
        }
      ]
    },
    {
      "cell_type": "code",
      "metadata": {
        "id": "DNi4QlaJdBt_",
        "colab_type": "code",
        "colab": {
          "base_uri": "https://localhost:8080/",
          "height": 225
        },
        "outputId": "72bf6dd5-36c5-4366-9bb3-edf39a59427c"
      },
      "source": [
        "# loading and looking at the data\n",
        "df = pd.read_csv(\"uncleaned_sudokus_16x16.csv\")\n",
        "print(df.shape)\n",
        "df.head()"
      ],
      "execution_count": 3,
      "outputs": [
        {
          "output_type": "stream",
          "text": [
            "(5000, 2)\n"
          ],
          "name": "stdout"
        },
        {
          "output_type": "execute_result",
          "data": {
            "text/html": [
              "<div>\n",
              "<style scoped>\n",
              "    .dataframe tbody tr th:only-of-type {\n",
              "        vertical-align: middle;\n",
              "    }\n",
              "\n",
              "    .dataframe tbody tr th {\n",
              "        vertical-align: top;\n",
              "    }\n",
              "\n",
              "    .dataframe thead th {\n",
              "        text-align: right;\n",
              "    }\n",
              "</style>\n",
              "<table border=\"1\" class=\"dataframe\">\n",
              "  <thead>\n",
              "    <tr style=\"text-align: right;\">\n",
              "      <th></th>\n",
              "      <th>puzzle</th>\n",
              "      <th>solution</th>\n",
              "    </tr>\n",
              "  </thead>\n",
              "  <tbody>\n",
              "    <tr>\n",
              "      <th>0</th>\n",
              "      <td>0 0 0 0 0 15 13 0 0 0 14 7 6 0 1 10 0 0 0 0 0 ...</td>\n",
              "      <td>9 2 12 11 3 15 13 16 8 4 14 7 6 5 1 10 4 6 1 1...</td>\n",
              "    </tr>\n",
              "    <tr>\n",
              "      <th>1</th>\n",
              "      <td>12 0 0 1 8 0 0 16 3 0 0 0 0 0 15 14 5 10 14 0 ...</td>\n",
              "      <td>12 4 2 1 8 5 9 16 3 6 13 10 11 7 15 14 5 10 14...</td>\n",
              "    </tr>\n",
              "    <tr>\n",
              "      <th>2</th>\n",
              "      <td>0 7 10 0 0 0 13 0 8 9 5 4 0 2 12 0 0 4 0 2 0 0...</td>\n",
              "      <td>14 7 10 15 1 11 13 16 8 9 5 4 6 2 12 3 16 4 6 ...</td>\n",
              "    </tr>\n",
              "    <tr>\n",
              "      <th>3</th>\n",
              "      <td>0 0 0 0 16 0 0 7 5 10 15 8 0 0 14 0 10 0 0 0 0...</td>\n",
              "      <td>12 9 1 6 16 3 4 7 5 10 15 8 2 13 14 11 10 3 15...</td>\n",
              "    </tr>\n",
              "    <tr>\n",
              "      <th>4</th>\n",
              "      <td>5 4 0 10 0 0 0 0 0 0 9 0 0 0 0 6 0 9 11 0 0 13...</td>\n",
              "      <td>5 4 3 10 7 11 14 15 1 2 9 13 16 12 8 6 8 9 11 ...</td>\n",
              "    </tr>\n",
              "  </tbody>\n",
              "</table>\n",
              "</div>"
            ],
            "text/plain": [
              "                                              puzzle                                           solution\n",
              "0  0 0 0 0 0 15 13 0 0 0 14 7 6 0 1 10 0 0 0 0 0 ...  9 2 12 11 3 15 13 16 8 4 14 7 6 5 1 10 4 6 1 1...\n",
              "1  12 0 0 1 8 0 0 16 3 0 0 0 0 0 15 14 5 10 14 0 ...  12 4 2 1 8 5 9 16 3 6 13 10 11 7 15 14 5 10 14...\n",
              "2  0 7 10 0 0 0 13 0 8 9 5 4 0 2 12 0 0 4 0 2 0 0...  14 7 10 15 1 11 13 16 8 9 5 4 6 2 12 3 16 4 6 ...\n",
              "3  0 0 0 0 16 0 0 7 5 10 15 8 0 0 14 0 10 0 0 0 0...  12 9 1 6 16 3 4 7 5 10 15 8 2 13 14 11 10 3 15...\n",
              "4  5 4 0 10 0 0 0 0 0 0 9 0 0 0 0 6 0 9 11 0 0 13...  5 4 3 10 7 11 14 15 1 2 9 13 16 12 8 6 8 9 11 ..."
            ]
          },
          "metadata": {
            "tags": []
          },
          "execution_count": 3
        }
      ]
    },
    {
      "cell_type": "code",
      "metadata": {
        "id": "fvlqzhUvdCWG",
        "colab_type": "code",
        "colab": {
          "base_uri": "https://localhost:8080/",
          "height": 206
        },
        "outputId": "a0eb7db1-7dcf-4b3a-f8fa-43264707495b"
      },
      "source": [
        "# cleaning dataset\n",
        "clean_df = df.copy()\n",
        "clean_df.head()"
      ],
      "execution_count": 4,
      "outputs": [
        {
          "output_type": "execute_result",
          "data": {
            "text/html": [
              "<div>\n",
              "<style scoped>\n",
              "    .dataframe tbody tr th:only-of-type {\n",
              "        vertical-align: middle;\n",
              "    }\n",
              "\n",
              "    .dataframe tbody tr th {\n",
              "        vertical-align: top;\n",
              "    }\n",
              "\n",
              "    .dataframe thead th {\n",
              "        text-align: right;\n",
              "    }\n",
              "</style>\n",
              "<table border=\"1\" class=\"dataframe\">\n",
              "  <thead>\n",
              "    <tr style=\"text-align: right;\">\n",
              "      <th></th>\n",
              "      <th>puzzle</th>\n",
              "      <th>solution</th>\n",
              "    </tr>\n",
              "  </thead>\n",
              "  <tbody>\n",
              "    <tr>\n",
              "      <th>0</th>\n",
              "      <td>0 0 0 0 0 15 13 0 0 0 14 7 6 0 1 10 0 0 0 0 0 ...</td>\n",
              "      <td>9 2 12 11 3 15 13 16 8 4 14 7 6 5 1 10 4 6 1 1...</td>\n",
              "    </tr>\n",
              "    <tr>\n",
              "      <th>1</th>\n",
              "      <td>12 0 0 1 8 0 0 16 3 0 0 0 0 0 15 14 5 10 14 0 ...</td>\n",
              "      <td>12 4 2 1 8 5 9 16 3 6 13 10 11 7 15 14 5 10 14...</td>\n",
              "    </tr>\n",
              "    <tr>\n",
              "      <th>2</th>\n",
              "      <td>0 7 10 0 0 0 13 0 8 9 5 4 0 2 12 0 0 4 0 2 0 0...</td>\n",
              "      <td>14 7 10 15 1 11 13 16 8 9 5 4 6 2 12 3 16 4 6 ...</td>\n",
              "    </tr>\n",
              "    <tr>\n",
              "      <th>3</th>\n",
              "      <td>0 0 0 0 16 0 0 7 5 10 15 8 0 0 14 0 10 0 0 0 0...</td>\n",
              "      <td>12 9 1 6 16 3 4 7 5 10 15 8 2 13 14 11 10 3 15...</td>\n",
              "    </tr>\n",
              "    <tr>\n",
              "      <th>4</th>\n",
              "      <td>5 4 0 10 0 0 0 0 0 0 9 0 0 0 0 6 0 9 11 0 0 13...</td>\n",
              "      <td>5 4 3 10 7 11 14 15 1 2 9 13 16 12 8 6 8 9 11 ...</td>\n",
              "    </tr>\n",
              "  </tbody>\n",
              "</table>\n",
              "</div>"
            ],
            "text/plain": [
              "                                              puzzle                                           solution\n",
              "0  0 0 0 0 0 15 13 0 0 0 14 7 6 0 1 10 0 0 0 0 0 ...  9 2 12 11 3 15 13 16 8 4 14 7 6 5 1 10 4 6 1 1...\n",
              "1  12 0 0 1 8 0 0 16 3 0 0 0 0 0 15 14 5 10 14 0 ...  12 4 2 1 8 5 9 16 3 6 13 10 11 7 15 14 5 10 14...\n",
              "2  0 7 10 0 0 0 13 0 8 9 5 4 0 2 12 0 0 4 0 2 0 0...  14 7 10 15 1 11 13 16 8 9 5 4 6 2 12 3 16 4 6 ...\n",
              "3  0 0 0 0 16 0 0 7 5 10 15 8 0 0 14 0 10 0 0 0 0...  12 9 1 6 16 3 4 7 5 10 15 8 2 13 14 11 10 3 15...\n",
              "4  5 4 0 10 0 0 0 0 0 0 9 0 0 0 0 6 0 9 11 0 0 13...  5 4 3 10 7 11 14 15 1 2 9 13 16 12 8 6 8 9 11 ..."
            ]
          },
          "metadata": {
            "tags": []
          },
          "execution_count": 4
        }
      ]
    },
    {
      "cell_type": "code",
      "metadata": {
        "id": "mG-au20JdD1i",
        "colab_type": "code",
        "colab": {
          "base_uri": "https://localhost:8080/",
          "height": 206
        },
        "outputId": "8bb59fe0-d86d-42a6-8338-7f1f4841eb02"
      },
      "source": [
        "# replace\n",
        "# '0' with '.'\n",
        "# '10' with 'A'\n",
        "# '11' with 'B'\n",
        "# '12' with 'C'\n",
        "# '13' with 'D'\n",
        "# '14' with 'E'\n",
        "# '15' with 'F'\n",
        "# '16' with 'G'\n",
        "clean_df['puzzle'] = clean_df['puzzle'].replace(r'0', '.', regex = True)\n",
        "clean_df = clean_df.replace(r'10', 'A', regex = True)\n",
        "clean_df = clean_df.replace(r'11', 'B', regex = True)\n",
        "clean_df = clean_df.replace(r'12', 'C', regex = True)\n",
        "clean_df = clean_df.replace(r'13', 'D', regex = True)\n",
        "clean_df = clean_df.replace(r'14', 'E', regex = True)\n",
        "clean_df = clean_df.replace(r'15', 'F', regex = True)\n",
        "clean_df = clean_df.replace(r'16', 'G', regex = True)\n",
        "clean_df.head()"
      ],
      "execution_count": 5,
      "outputs": [
        {
          "output_type": "execute_result",
          "data": {
            "text/html": [
              "<div>\n",
              "<style scoped>\n",
              "    .dataframe tbody tr th:only-of-type {\n",
              "        vertical-align: middle;\n",
              "    }\n",
              "\n",
              "    .dataframe tbody tr th {\n",
              "        vertical-align: top;\n",
              "    }\n",
              "\n",
              "    .dataframe thead th {\n",
              "        text-align: right;\n",
              "    }\n",
              "</style>\n",
              "<table border=\"1\" class=\"dataframe\">\n",
              "  <thead>\n",
              "    <tr style=\"text-align: right;\">\n",
              "      <th></th>\n",
              "      <th>puzzle</th>\n",
              "      <th>solution</th>\n",
              "    </tr>\n",
              "  </thead>\n",
              "  <tbody>\n",
              "    <tr>\n",
              "      <th>0</th>\n",
              "      <td>. . . . . F D . . . E 7 6 . 1 1. . . . . . . 9...</td>\n",
              "      <td>9 2 C B 3 F D G 8 4 E 7 6 5 1 A 4 6 1 F 7 C 9 ...</td>\n",
              "    </tr>\n",
              "    <tr>\n",
              "      <th>1</th>\n",
              "      <td>C . . 1 8 . . G 3 . . . . . F E 5 1. E . . 1 ....</td>\n",
              "      <td>C 4 2 1 8 5 9 G 3 6 D A B 7 F E 5 A E D F 1 7 ...</td>\n",
              "    </tr>\n",
              "    <tr>\n",
              "      <th>2</th>\n",
              "      <td>. 7 1. . . . D . 8 9 5 4 . 2 C . . 4 . 2 . . E...</td>\n",
              "      <td>E 7 A F 1 B D G 8 9 5 4 6 2 C 3 G 4 6 2 F C E ...</td>\n",
              "    </tr>\n",
              "    <tr>\n",
              "      <th>3</th>\n",
              "      <td>. . . . G . . 7 5 1. F 8 . . E . 1. . . . . . ...</td>\n",
              "      <td>C 9 1 6 G 3 4 7 5 A F 8 2 D E B A 3 F 2 D 1 9 ...</td>\n",
              "    </tr>\n",
              "    <tr>\n",
              "      <th>4</th>\n",
              "      <td>5 4 . 1. . . . . . . 9 . . . . 6 . 9 B . . D ....</td>\n",
              "      <td>5 4 3 A 7 B E F 1 2 9 D G C 8 6 8 9 B F 1 D 2 ...</td>\n",
              "    </tr>\n",
              "  </tbody>\n",
              "</table>\n",
              "</div>"
            ],
            "text/plain": [
              "                                              puzzle                                           solution\n",
              "0  . . . . . F D . . . E 7 6 . 1 1. . . . . . . 9...  9 2 C B 3 F D G 8 4 E 7 6 5 1 A 4 6 1 F 7 C 9 ...\n",
              "1  C . . 1 8 . . G 3 . . . . . F E 5 1. E . . 1 ....  C 4 2 1 8 5 9 G 3 6 D A B 7 F E 5 A E D F 1 7 ...\n",
              "2  . 7 1. . . . D . 8 9 5 4 . 2 C . . 4 . 2 . . E...  E 7 A F 1 B D G 8 9 5 4 6 2 C 3 G 4 6 2 F C E ...\n",
              "3  . . . . G . . 7 5 1. F 8 . . E . 1. . . . . . ...  C 9 1 6 G 3 4 7 5 A F 8 2 D E B A 3 F 2 D 1 9 ...\n",
              "4  5 4 . 1. . . . . . . 9 . . . . 6 . 9 B . . D ....  5 4 3 A 7 B E F 1 2 9 D G C 8 6 8 9 B F 1 D 2 ..."
            ]
          },
          "metadata": {
            "tags": []
          },
          "execution_count": 5
        }
      ]
    },
    {
      "cell_type": "code",
      "metadata": {
        "id": "Pc2grWERdpcP",
        "colab_type": "code",
        "colab": {
          "base_uri": "https://localhost:8080/",
          "height": 206
        },
        "outputId": "6bd0d5b6-8e70-40c6-b7ce-620b72e8818d"
      },
      "source": [
        "# remove spaces\n",
        "clean_df = clean_df.replace(r' ', '', regex = True)\n",
        "clean_df.head()"
      ],
      "execution_count": 6,
      "outputs": [
        {
          "output_type": "execute_result",
          "data": {
            "text/html": [
              "<div>\n",
              "<style scoped>\n",
              "    .dataframe tbody tr th:only-of-type {\n",
              "        vertical-align: middle;\n",
              "    }\n",
              "\n",
              "    .dataframe tbody tr th {\n",
              "        vertical-align: top;\n",
              "    }\n",
              "\n",
              "    .dataframe thead th {\n",
              "        text-align: right;\n",
              "    }\n",
              "</style>\n",
              "<table border=\"1\" class=\"dataframe\">\n",
              "  <thead>\n",
              "    <tr style=\"text-align: right;\">\n",
              "      <th></th>\n",
              "      <th>puzzle</th>\n",
              "      <th>solution</th>\n",
              "    </tr>\n",
              "  </thead>\n",
              "  <tbody>\n",
              "    <tr>\n",
              "      <th>0</th>\n",
              "      <td>.....FD...E76.11.......9..32G....E7...2.....D....</td>\n",
              "      <td>92CB3FDG84E7651A461F7C95A32GBED8E75812BA6FCD39...</td>\n",
              "    </tr>\n",
              "    <tr>\n",
              "      <th>1</th>\n",
              "      <td>C..18..G3.....FE51.E..1..9.2...63...8D.....B74...</td>\n",
              "      <td>C421859G36DAB7FE5AEDF17B9824CG636F38DE2CG5B741...</td>\n",
              "    </tr>\n",
              "    <tr>\n",
              "      <th>2</th>\n",
              "      <td>.71....D.8954.2C..4.2..E87..B.11.5C3D5...1.6.....</td>\n",
              "      <td>E7AF1BDG895462C3G462FCE873DB91A5C3D5294A6F1G78...</td>\n",
              "    </tr>\n",
              "    <tr>\n",
              "      <th>3</th>\n",
              "      <td>....G..751.F8..E.1........G..BC.4.7....5.FC91....</td>\n",
              "      <td>C916G3475AF82DEBA3F2D198G7EBC6457BD465EFC91283...</td>\n",
              "    </tr>\n",
              "    <tr>\n",
              "      <th>4</th>\n",
              "      <td>54.1.......9....6.9B..D.GC...7...6E1.5..97GB.F...</td>\n",
              "      <td>543A7BEF129DGC8689BF1D2GC6EA73456E1C54897GB3FA...</td>\n",
              "    </tr>\n",
              "  </tbody>\n",
              "</table>\n",
              "</div>"
            ],
            "text/plain": [
              "                                              puzzle                                           solution\n",
              "0  .....FD...E76.11.......9..32G....E7...2.....D....  92CB3FDG84E7651A461F7C95A32GBED8E75812BA6FCD39...\n",
              "1  C..18..G3.....FE51.E..1..9.2...63...8D.....B74...  C421859G36DAB7FE5AEDF17B9824CG636F38DE2CG5B741...\n",
              "2  .71....D.8954.2C..4.2..E87..B.11.5C3D5...1.6.....  E7AF1BDG895462C3G462FCE873DB91A5C3D5294A6F1G78...\n",
              "3  ....G..751.F8..E.1........G..BC.4.7....5.FC91....  C916G3475AF82DEBA3F2D198G7EBC6457BD465EFC91283...\n",
              "4  54.1.......9....6.9B..D.GC...7...6E1.5..97GB.F...  543A7BEF129DGC8689BF1D2GC6EA73456E1C54897GB3FA..."
            ]
          },
          "metadata": {
            "tags": []
          },
          "execution_count": 6
        }
      ]
    },
    {
      "cell_type": "code",
      "metadata": {
        "id": "_dlRSBq8dqOB",
        "colab_type": "code",
        "colab": {
          "base_uri": "https://localhost:8080/",
          "height": 206
        },
        "outputId": "86529cf5-4519-4db1-e62a-c0896d7f1cad"
      },
      "source": [
        "# making a 'level', 'gridLength', 'row', and 'col' column\n",
        "clean_df['level'] = 'Hard'\n",
        "clean_df['gridLength'] = 16\n",
        "clean_df['row'] = 4\n",
        "clean_df['col'] = 4\n",
        "clean_df.head()"
      ],
      "execution_count": 7,
      "outputs": [
        {
          "output_type": "execute_result",
          "data": {
            "text/html": [
              "<div>\n",
              "<style scoped>\n",
              "    .dataframe tbody tr th:only-of-type {\n",
              "        vertical-align: middle;\n",
              "    }\n",
              "\n",
              "    .dataframe tbody tr th {\n",
              "        vertical-align: top;\n",
              "    }\n",
              "\n",
              "    .dataframe thead th {\n",
              "        text-align: right;\n",
              "    }\n",
              "</style>\n",
              "<table border=\"1\" class=\"dataframe\">\n",
              "  <thead>\n",
              "    <tr style=\"text-align: right;\">\n",
              "      <th></th>\n",
              "      <th>puzzle</th>\n",
              "      <th>solution</th>\n",
              "      <th>level</th>\n",
              "      <th>gridLength</th>\n",
              "      <th>row</th>\n",
              "      <th>col</th>\n",
              "    </tr>\n",
              "  </thead>\n",
              "  <tbody>\n",
              "    <tr>\n",
              "      <th>0</th>\n",
              "      <td>.....FD...E76.11.......9..32G....E7...2.....D....</td>\n",
              "      <td>92CB3FDG84E7651A461F7C95A32GBED8E75812BA6FCD39...</td>\n",
              "      <td>Hard</td>\n",
              "      <td>16</td>\n",
              "      <td>4</td>\n",
              "      <td>4</td>\n",
              "    </tr>\n",
              "    <tr>\n",
              "      <th>1</th>\n",
              "      <td>C..18..G3.....FE51.E..1..9.2...63...8D.....B74...</td>\n",
              "      <td>C421859G36DAB7FE5AEDF17B9824CG636F38DE2CG5B741...</td>\n",
              "      <td>Hard</td>\n",
              "      <td>16</td>\n",
              "      <td>4</td>\n",
              "      <td>4</td>\n",
              "    </tr>\n",
              "    <tr>\n",
              "      <th>2</th>\n",
              "      <td>.71....D.8954.2C..4.2..E87..B.11.5C3D5...1.6.....</td>\n",
              "      <td>E7AF1BDG895462C3G462FCE873DB91A5C3D5294A6F1G78...</td>\n",
              "      <td>Hard</td>\n",
              "      <td>16</td>\n",
              "      <td>4</td>\n",
              "      <td>4</td>\n",
              "    </tr>\n",
              "    <tr>\n",
              "      <th>3</th>\n",
              "      <td>....G..751.F8..E.1........G..BC.4.7....5.FC91....</td>\n",
              "      <td>C916G3475AF82DEBA3F2D198G7EBC6457BD465EFC91283...</td>\n",
              "      <td>Hard</td>\n",
              "      <td>16</td>\n",
              "      <td>4</td>\n",
              "      <td>4</td>\n",
              "    </tr>\n",
              "    <tr>\n",
              "      <th>4</th>\n",
              "      <td>54.1.......9....6.9B..D.GC...7...6E1.5..97GB.F...</td>\n",
              "      <td>543A7BEF129DGC8689BF1D2GC6EA73456E1C54897GB3FA...</td>\n",
              "      <td>Hard</td>\n",
              "      <td>16</td>\n",
              "      <td>4</td>\n",
              "      <td>4</td>\n",
              "    </tr>\n",
              "  </tbody>\n",
              "</table>\n",
              "</div>"
            ],
            "text/plain": [
              "                                              puzzle  ... col\n",
              "0  .....FD...E76.11.......9..32G....E7...2.....D....  ...   4\n",
              "1  C..18..G3.....FE51.E..1..9.2...63...8D.....B74...  ...   4\n",
              "2  .71....D.8954.2C..4.2..E87..B.11.5C3D5...1.6.....  ...   4\n",
              "3  ....G..751.F8..E.1........G..BC.4.7....5.FC91....  ...   4\n",
              "4  54.1.......9....6.9B..D.GC...7...6E1.5..97GB.F...  ...   4\n",
              "\n",
              "[5 rows x 6 columns]"
            ]
          },
          "metadata": {
            "tags": []
          },
          "execution_count": 7
        }
      ]
    },
    {
      "cell_type": "code",
      "metadata": {
        "id": "It6kdi_Tdsta",
        "colab_type": "code",
        "colab": {
          "base_uri": "https://localhost:8080/",
          "height": 206
        },
        "outputId": "727ae555-883c-4fe8-f5a0-c477d7fa1e6a"
      },
      "source": [
        "# rename 'puzzle' to 'sudoku'\n",
        "clean_df.rename(columns = {'puzzle': 'sudoku'}, inplace = True)\n",
        "clean_df.head()"
      ],
      "execution_count": 8,
      "outputs": [
        {
          "output_type": "execute_result",
          "data": {
            "text/html": [
              "<div>\n",
              "<style scoped>\n",
              "    .dataframe tbody tr th:only-of-type {\n",
              "        vertical-align: middle;\n",
              "    }\n",
              "\n",
              "    .dataframe tbody tr th {\n",
              "        vertical-align: top;\n",
              "    }\n",
              "\n",
              "    .dataframe thead th {\n",
              "        text-align: right;\n",
              "    }\n",
              "</style>\n",
              "<table border=\"1\" class=\"dataframe\">\n",
              "  <thead>\n",
              "    <tr style=\"text-align: right;\">\n",
              "      <th></th>\n",
              "      <th>sudoku</th>\n",
              "      <th>solution</th>\n",
              "      <th>level</th>\n",
              "      <th>gridLength</th>\n",
              "      <th>row</th>\n",
              "      <th>col</th>\n",
              "    </tr>\n",
              "  </thead>\n",
              "  <tbody>\n",
              "    <tr>\n",
              "      <th>0</th>\n",
              "      <td>.....FD...E76.11.......9..32G....E7...2.....D....</td>\n",
              "      <td>92CB3FDG84E7651A461F7C95A32GBED8E75812BA6FCD39...</td>\n",
              "      <td>Hard</td>\n",
              "      <td>16</td>\n",
              "      <td>4</td>\n",
              "      <td>4</td>\n",
              "    </tr>\n",
              "    <tr>\n",
              "      <th>1</th>\n",
              "      <td>C..18..G3.....FE51.E..1..9.2...63...8D.....B74...</td>\n",
              "      <td>C421859G36DAB7FE5AEDF17B9824CG636F38DE2CG5B741...</td>\n",
              "      <td>Hard</td>\n",
              "      <td>16</td>\n",
              "      <td>4</td>\n",
              "      <td>4</td>\n",
              "    </tr>\n",
              "    <tr>\n",
              "      <th>2</th>\n",
              "      <td>.71....D.8954.2C..4.2..E87..B.11.5C3D5...1.6.....</td>\n",
              "      <td>E7AF1BDG895462C3G462FCE873DB91A5C3D5294A6F1G78...</td>\n",
              "      <td>Hard</td>\n",
              "      <td>16</td>\n",
              "      <td>4</td>\n",
              "      <td>4</td>\n",
              "    </tr>\n",
              "    <tr>\n",
              "      <th>3</th>\n",
              "      <td>....G..751.F8..E.1........G..BC.4.7....5.FC91....</td>\n",
              "      <td>C916G3475AF82DEBA3F2D198G7EBC6457BD465EFC91283...</td>\n",
              "      <td>Hard</td>\n",
              "      <td>16</td>\n",
              "      <td>4</td>\n",
              "      <td>4</td>\n",
              "    </tr>\n",
              "    <tr>\n",
              "      <th>4</th>\n",
              "      <td>54.1.......9....6.9B..D.GC...7...6E1.5..97GB.F...</td>\n",
              "      <td>543A7BEF129DGC8689BF1D2GC6EA73456E1C54897GB3FA...</td>\n",
              "      <td>Hard</td>\n",
              "      <td>16</td>\n",
              "      <td>4</td>\n",
              "      <td>4</td>\n",
              "    </tr>\n",
              "  </tbody>\n",
              "</table>\n",
              "</div>"
            ],
            "text/plain": [
              "                                              sudoku  ... col\n",
              "0  .....FD...E76.11.......9..32G....E7...2.....D....  ...   4\n",
              "1  C..18..G3.....FE51.E..1..9.2...63...8D.....B74...  ...   4\n",
              "2  .71....D.8954.2C..4.2..E87..B.11.5C3D5...1.6.....  ...   4\n",
              "3  ....G..751.F8..E.1........G..BC.4.7....5.FC91....  ...   4\n",
              "4  54.1.......9....6.9B..D.GC...7...6E1.5..97GB.F...  ...   4\n",
              "\n",
              "[5 rows x 6 columns]"
            ]
          },
          "metadata": {
            "tags": []
          },
          "execution_count": 8
        }
      ]
    },
    {
      "cell_type": "code",
      "metadata": {
        "id": "BQmx3tzSduoa",
        "colab_type": "code",
        "colab": {}
      },
      "source": [
        "# download the clean csv\n",
        "clean_df.to_csv('16x16_puzzles.csv')"
      ],
      "execution_count": 9,
      "outputs": []
    },
    {
      "cell_type": "code",
      "metadata": {
        "id": "l8_2tEVOdwr-",
        "colab_type": "code",
        "colab": {
          "base_uri": "https://localhost:8080/",
          "height": 17
        },
        "outputId": "bb5c6b2b-c8a2-49c7-dcf8-05e540007595"
      },
      "source": [
        "files.download('16x16_puzzles.csv')"
      ],
      "execution_count": 10,
      "outputs": [
        {
          "output_type": "display_data",
          "data": {
            "application/javascript": [
              "\n",
              "    async function download(id, filename, size) {\n",
              "      if (!google.colab.kernel.accessAllowed) {\n",
              "        return;\n",
              "      }\n",
              "      const div = document.createElement('div');\n",
              "      const label = document.createElement('label');\n",
              "      label.textContent = `Downloading \"${filename}\": `;\n",
              "      div.appendChild(label);\n",
              "      const progress = document.createElement('progress');\n",
              "      progress.max = size;\n",
              "      div.appendChild(progress);\n",
              "      document.body.appendChild(div);\n",
              "\n",
              "      const buffers = [];\n",
              "      let downloaded = 0;\n",
              "\n",
              "      const channel = await google.colab.kernel.comms.open(id);\n",
              "      // Send a message to notify the kernel that we're ready.\n",
              "      channel.send({})\n",
              "\n",
              "      for await (const message of channel.messages) {\n",
              "        // Send a message to notify the kernel that we're ready.\n",
              "        channel.send({})\n",
              "        if (message.buffers) {\n",
              "          for (const buffer of message.buffers) {\n",
              "            buffers.push(buffer);\n",
              "            downloaded += buffer.byteLength;\n",
              "            progress.value = downloaded;\n",
              "          }\n",
              "        }\n",
              "      }\n",
              "      const blob = new Blob(buffers, {type: 'application/binary'});\n",
              "      const a = document.createElement('a');\n",
              "      a.href = window.URL.createObjectURL(blob);\n",
              "      a.download = filename;\n",
              "      div.appendChild(a);\n",
              "      a.click();\n",
              "      div.remove();\n",
              "    }\n",
              "  "
            ],
            "text/plain": [
              "<IPython.core.display.Javascript object>"
            ]
          },
          "metadata": {
            "tags": []
          }
        },
        {
          "output_type": "display_data",
          "data": {
            "application/javascript": [
              "download(\"download_344762ae-f3cb-4496-b4fd-ebdc6bddf7cd\", \"16x16_puzzles.csv\", 2689038)"
            ],
            "text/plain": [
              "<IPython.core.display.Javascript object>"
            ]
          },
          "metadata": {
            "tags": []
          }
        }
      ]
    }
  ]
}