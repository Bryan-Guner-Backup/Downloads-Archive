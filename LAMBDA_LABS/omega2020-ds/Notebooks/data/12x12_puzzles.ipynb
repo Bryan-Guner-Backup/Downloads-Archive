{
  "nbformat": 4,
  "nbformat_minor": 0,
  "metadata": {
    "colab": {
      "name": "12x12_puzzles.ipynb",
      "provenance": []
    },
    "kernelspec": {
      "name": "python3",
      "display_name": "Python 3"
    }
  },
  "cells": [
    {
      "cell_type": "markdown",
      "metadata": {
        "id": "CJhVOT2m93Cv",
        "colab_type": "text"
      },
      "source": [
        "*   [Sudoku Scraper](https://github.com/apauliuc/sudoku-scraper)\n",
        "*   [Scraped Website](https://www.menneske.no/sudoku/3x4/eng/)\n"
      ]
    },
    {
      "cell_type": "code",
      "metadata": {
        "id": "F1EfGGqAbeN9",
        "colab_type": "code",
        "colab": {}
      },
      "source": [
        "import pandas as pd\n",
        "from google.colab import files"
      ],
      "execution_count": 1,
      "outputs": []
    },
    {
      "cell_type": "code",
      "metadata": {
        "id": "MsAZ-NtPbj1-",
        "colab_type": "code",
        "colab": {
          "resources": {
            "http://localhost:8080/nbextensions/google.colab/files.js": {
              "data": "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",
              "ok": true,
              "headers": [
                [
                  "content-type",
                  "application/javascript"
                ]
              ],
              "status": 200,
              "status_text": "OK"
            }
          },
          "base_uri": "https://localhost:8080/",
          "height": 75
        },
        "outputId": "a7428944-981b-4044-e58d-8daaf9bac648"
      },
      "source": [
        "# upload the uncleaned 12x12 data\n",
        "uploaded = files.upload()"
      ],
      "execution_count": 2,
      "outputs": [
        {
          "output_type": "display_data",
          "data": {
            "text/html": [
              "\n",
              "     <input type=\"file\" id=\"files-13f95a7a-4589-43db-93cf-9f6dedb7dda6\" name=\"files[]\" multiple disabled\n",
              "        style=\"border:none\" />\n",
              "     <output id=\"result-13f95a7a-4589-43db-93cf-9f6dedb7dda6\">\n",
              "      Upload widget is only available when the cell has been executed in the\n",
              "      current browser session. Please rerun this cell to enable.\n",
              "      </output>\n",
              "      <script src=\"/nbextensions/google.colab/files.js\"></script> "
            ],
            "text/plain": [
              "<IPython.core.display.HTML object>"
            ]
          },
          "metadata": {
            "tags": []
          }
        },
        {
          "output_type": "stream",
          "text": [
            "Saving uncleaned_sudokus_12x12.csv to uncleaned_sudokus_12x12.csv\n"
          ],
          "name": "stdout"
        }
      ]
    },
    {
      "cell_type": "code",
      "metadata": {
        "id": "RhjlcUStbngZ",
        "colab_type": "code",
        "colab": {
          "base_uri": "https://localhost:8080/",
          "height": 225
        },
        "outputId": "db5b5b92-db60-47a1-df5c-abd0b8aa39ba"
      },
      "source": [
        "# loading and looking at the data\n",
        "df = pd.read_csv(\"uncleaned_sudokus_12x12.csv\")\n",
        "print(df.shape)\n",
        "df.head()"
      ],
      "execution_count": 3,
      "outputs": [
        {
          "output_type": "stream",
          "text": [
            "(5000, 2)\n"
          ],
          "name": "stdout"
        },
        {
          "output_type": "execute_result",
          "data": {
            "text/html": [
              "<div>\n",
              "<style scoped>\n",
              "    .dataframe tbody tr th:only-of-type {\n",
              "        vertical-align: middle;\n",
              "    }\n",
              "\n",
              "    .dataframe tbody tr th {\n",
              "        vertical-align: top;\n",
              "    }\n",
              "\n",
              "    .dataframe thead th {\n",
              "        text-align: right;\n",
              "    }\n",
              "</style>\n",
              "<table border=\"1\" class=\"dataframe\">\n",
              "  <thead>\n",
              "    <tr style=\"text-align: right;\">\n",
              "      <th></th>\n",
              "      <th>puzzle</th>\n",
              "      <th>solution</th>\n",
              "    </tr>\n",
              "  </thead>\n",
              "  <tbody>\n",
              "    <tr>\n",
              "      <th>0</th>\n",
              "      <td>0 0 0 9 8 0 7 0 5 0 3 0 3 11 0 7 0 0 0 5 0 0 6...</td>\n",
              "      <td>4 12 6 9 8 11 7 2 5 10 3 1 3 11 2 7 1 10 9 5 1...</td>\n",
              "    </tr>\n",
              "    <tr>\n",
              "      <th>1</th>\n",
              "      <td>0 0 0 9 8 0 7 0 5 0 3 0 3 11 0 7 0 0 0 5 0 0 6...</td>\n",
              "      <td>4 12 6 9 8 11 7 2 5 10 3 1 3 11 2 7 1 10 9 5 1...</td>\n",
              "    </tr>\n",
              "    <tr>\n",
              "      <th>2</th>\n",
              "      <td>0 0 3 11 0 0 7 4 10 0 0 0 0 6 0 10 0 0 11 0 0 ...</td>\n",
              "      <td>1 2 3 11 5 6 7 4 10 9 8 12 7 6 9 10 3 8 11 12 ...</td>\n",
              "    </tr>\n",
              "    <tr>\n",
              "      <th>3</th>\n",
              "      <td>0 0 0 0 7 0 0 5 0 4 0 6 4 0 0 3 0 0 0 0 7 0 11...</td>\n",
              "      <td>1 11 9 10 7 3 12 5 8 4 2 6 4 12 6 3 1 9 2 8 7 ...</td>\n",
              "    </tr>\n",
              "    <tr>\n",
              "      <th>4</th>\n",
              "      <td>0 0 0 3 0 0 2 5 0 1 0 0 0 0 5 6 4 11 0 1 10 0 ...</td>\n",
              "      <td>7 11 10 3 9 8 2 5 12 1 4 6 8 12 5 6 4 11 3 1 1...</td>\n",
              "    </tr>\n",
              "  </tbody>\n",
              "</table>\n",
              "</div>"
            ],
            "text/plain": [
              "                                              puzzle                                           solution\n",
              "0  0 0 0 9 8 0 7 0 5 0 3 0 3 11 0 7 0 0 0 5 0 0 6...  4 12 6 9 8 11 7 2 5 10 3 1 3 11 2 7 1 10 9 5 1...\n",
              "1  0 0 0 9 8 0 7 0 5 0 3 0 3 11 0 7 0 0 0 5 0 0 6...  4 12 6 9 8 11 7 2 5 10 3 1 3 11 2 7 1 10 9 5 1...\n",
              "2  0 0 3 11 0 0 7 4 10 0 0 0 0 6 0 10 0 0 11 0 0 ...  1 2 3 11 5 6 7 4 10 9 8 12 7 6 9 10 3 8 11 12 ...\n",
              "3  0 0 0 0 7 0 0 5 0 4 0 6 4 0 0 3 0 0 0 0 7 0 11...  1 11 9 10 7 3 12 5 8 4 2 6 4 12 6 3 1 9 2 8 7 ...\n",
              "4  0 0 0 3 0 0 2 5 0 1 0 0 0 0 5 6 4 11 0 1 10 0 ...  7 11 10 3 9 8 2 5 12 1 4 6 8 12 5 6 4 11 3 1 1..."
            ]
          },
          "metadata": {
            "tags": []
          },
          "execution_count": 3
        }
      ]
    },
    {
      "cell_type": "code",
      "metadata": {
        "id": "f6BN3B2dbsLN",
        "colab_type": "code",
        "colab": {
          "base_uri": "https://localhost:8080/",
          "height": 206
        },
        "outputId": "137d64e8-e910-4ea6-a04c-46dca02202eb"
      },
      "source": [
        "# cleaning dataset\n",
        "clean_df = df.copy()\n",
        "clean_df.head()"
      ],
      "execution_count": 4,
      "outputs": [
        {
          "output_type": "execute_result",
          "data": {
            "text/html": [
              "<div>\n",
              "<style scoped>\n",
              "    .dataframe tbody tr th:only-of-type {\n",
              "        vertical-align: middle;\n",
              "    }\n",
              "\n",
              "    .dataframe tbody tr th {\n",
              "        vertical-align: top;\n",
              "    }\n",
              "\n",
              "    .dataframe thead th {\n",
              "        text-align: right;\n",
              "    }\n",
              "</style>\n",
              "<table border=\"1\" class=\"dataframe\">\n",
              "  <thead>\n",
              "    <tr style=\"text-align: right;\">\n",
              "      <th></th>\n",
              "      <th>puzzle</th>\n",
              "      <th>solution</th>\n",
              "    </tr>\n",
              "  </thead>\n",
              "  <tbody>\n",
              "    <tr>\n",
              "      <th>0</th>\n",
              "      <td>0 0 0 9 8 0 7 0 5 0 3 0 3 11 0 7 0 0 0 5 0 0 6...</td>\n",
              "      <td>4 12 6 9 8 11 7 2 5 10 3 1 3 11 2 7 1 10 9 5 1...</td>\n",
              "    </tr>\n",
              "    <tr>\n",
              "      <th>1</th>\n",
              "      <td>0 0 0 9 8 0 7 0 5 0 3 0 3 11 0 7 0 0 0 5 0 0 6...</td>\n",
              "      <td>4 12 6 9 8 11 7 2 5 10 3 1 3 11 2 7 1 10 9 5 1...</td>\n",
              "    </tr>\n",
              "    <tr>\n",
              "      <th>2</th>\n",
              "      <td>0 0 3 11 0 0 7 4 10 0 0 0 0 6 0 10 0 0 11 0 0 ...</td>\n",
              "      <td>1 2 3 11 5 6 7 4 10 9 8 12 7 6 9 10 3 8 11 12 ...</td>\n",
              "    </tr>\n",
              "    <tr>\n",
              "      <th>3</th>\n",
              "      <td>0 0 0 0 7 0 0 5 0 4 0 6 4 0 0 3 0 0 0 0 7 0 11...</td>\n",
              "      <td>1 11 9 10 7 3 12 5 8 4 2 6 4 12 6 3 1 9 2 8 7 ...</td>\n",
              "    </tr>\n",
              "    <tr>\n",
              "      <th>4</th>\n",
              "      <td>0 0 0 3 0 0 2 5 0 1 0 0 0 0 5 6 4 11 0 1 10 0 ...</td>\n",
              "      <td>7 11 10 3 9 8 2 5 12 1 4 6 8 12 5 6 4 11 3 1 1...</td>\n",
              "    </tr>\n",
              "  </tbody>\n",
              "</table>\n",
              "</div>"
            ],
            "text/plain": [
              "                                              puzzle                                           solution\n",
              "0  0 0 0 9 8 0 7 0 5 0 3 0 3 11 0 7 0 0 0 5 0 0 6...  4 12 6 9 8 11 7 2 5 10 3 1 3 11 2 7 1 10 9 5 1...\n",
              "1  0 0 0 9 8 0 7 0 5 0 3 0 3 11 0 7 0 0 0 5 0 0 6...  4 12 6 9 8 11 7 2 5 10 3 1 3 11 2 7 1 10 9 5 1...\n",
              "2  0 0 3 11 0 0 7 4 10 0 0 0 0 6 0 10 0 0 11 0 0 ...  1 2 3 11 5 6 7 4 10 9 8 12 7 6 9 10 3 8 11 12 ...\n",
              "3  0 0 0 0 7 0 0 5 0 4 0 6 4 0 0 3 0 0 0 0 7 0 11...  1 11 9 10 7 3 12 5 8 4 2 6 4 12 6 3 1 9 2 8 7 ...\n",
              "4  0 0 0 3 0 0 2 5 0 1 0 0 0 0 5 6 4 11 0 1 10 0 ...  7 11 10 3 9 8 2 5 12 1 4 6 8 12 5 6 4 11 3 1 1..."
            ]
          },
          "metadata": {
            "tags": []
          },
          "execution_count": 4
        }
      ]
    },
    {
      "cell_type": "code",
      "metadata": {
        "id": "14d2FFQ9bwsY",
        "colab_type": "code",
        "colab": {
          "base_uri": "https://localhost:8080/",
          "height": 206
        },
        "outputId": "70b3c5eb-4b5d-45a5-d579-6eae9d378d58"
      },
      "source": [
        "# replace\n",
        "# '0' with '.'\n",
        "# '10' with 'A'\n",
        "# '11' with 'B'\n",
        "# '12' with 'C'\n",
        "clean_df['puzzle'] = clean_df['puzzle'].replace(r'0', '.', regex = True)\n",
        "clean_df = clean_df.replace(r'10', 'A', regex = True)\n",
        "clean_df = clean_df.replace(r'11', 'B', regex = True)\n",
        "clean_df = clean_df.replace(r'12', 'C', regex = True)\n",
        "clean_df.head()"
      ],
      "execution_count": 5,
      "outputs": [
        {
          "output_type": "execute_result",
          "data": {
            "text/html": [
              "<div>\n",
              "<style scoped>\n",
              "    .dataframe tbody tr th:only-of-type {\n",
              "        vertical-align: middle;\n",
              "    }\n",
              "\n",
              "    .dataframe tbody tr th {\n",
              "        vertical-align: top;\n",
              "    }\n",
              "\n",
              "    .dataframe thead th {\n",
              "        text-align: right;\n",
              "    }\n",
              "</style>\n",
              "<table border=\"1\" class=\"dataframe\">\n",
              "  <thead>\n",
              "    <tr style=\"text-align: right;\">\n",
              "      <th></th>\n",
              "      <th>puzzle</th>\n",
              "      <th>solution</th>\n",
              "    </tr>\n",
              "  </thead>\n",
              "  <tbody>\n",
              "    <tr>\n",
              "      <th>0</th>\n",
              "      <td>. . . 9 8 . 7 . 5 . 3 . 3 B . 7 . . . 5 . . 6 ...</td>\n",
              "      <td>4 C 6 9 8 B 7 2 5 A 3 1 3 B 2 7 1 A 9 5 C 4 6 ...</td>\n",
              "    </tr>\n",
              "    <tr>\n",
              "      <th>1</th>\n",
              "      <td>. . . 9 8 . 7 . 5 . 3 . 3 B . 7 . . . 5 . . 6 ...</td>\n",
              "      <td>4 C 6 9 8 B 7 2 5 A 3 1 3 B 2 7 1 A 9 5 C 4 6 ...</td>\n",
              "    </tr>\n",
              "    <tr>\n",
              "      <th>2</th>\n",
              "      <td>. . 3 B . . 7 4 1. . . . . 6 . 1. . . B . . 2 ...</td>\n",
              "      <td>1 2 3 B 5 6 7 4 A 9 8 C 7 6 9 A 3 8 B C 5 2 1 ...</td>\n",
              "    </tr>\n",
              "    <tr>\n",
              "      <th>3</th>\n",
              "      <td>. . . . 7 . . 5 . 4 . 6 4 . . 3 . . . . 7 . B ...</td>\n",
              "      <td>1 B 9 A 7 3 C 5 8 4 2 6 4 C 6 3 1 9 2 8 7 A B ...</td>\n",
              "    </tr>\n",
              "    <tr>\n",
              "      <th>4</th>\n",
              "      <td>. . . 3 . . 2 5 . 1 . . . . 5 6 4 B . 1 1. . ....</td>\n",
              "      <td>7 B A 3 9 8 2 5 C 1 4 6 8 C 5 6 4 B 3 1 A 9 7 ...</td>\n",
              "    </tr>\n",
              "  </tbody>\n",
              "</table>\n",
              "</div>"
            ],
            "text/plain": [
              "                                              puzzle                                           solution\n",
              "0  . . . 9 8 . 7 . 5 . 3 . 3 B . 7 . . . 5 . . 6 ...  4 C 6 9 8 B 7 2 5 A 3 1 3 B 2 7 1 A 9 5 C 4 6 ...\n",
              "1  . . . 9 8 . 7 . 5 . 3 . 3 B . 7 . . . 5 . . 6 ...  4 C 6 9 8 B 7 2 5 A 3 1 3 B 2 7 1 A 9 5 C 4 6 ...\n",
              "2  . . 3 B . . 7 4 1. . . . . 6 . 1. . . B . . 2 ...  1 2 3 B 5 6 7 4 A 9 8 C 7 6 9 A 3 8 B C 5 2 1 ...\n",
              "3  . . . . 7 . . 5 . 4 . 6 4 . . 3 . . . . 7 . B ...  1 B 9 A 7 3 C 5 8 4 2 6 4 C 6 3 1 9 2 8 7 A B ...\n",
              "4  . . . 3 . . 2 5 . 1 . . . . 5 6 4 B . 1 1. . ....  7 B A 3 9 8 2 5 C 1 4 6 8 C 5 6 4 B 3 1 A 9 7 ..."
            ]
          },
          "metadata": {
            "tags": []
          },
          "execution_count": 5
        }
      ]
    },
    {
      "cell_type": "code",
      "metadata": {
        "id": "-fm_YUFPcNYR",
        "colab_type": "code",
        "colab": {
          "base_uri": "https://localhost:8080/",
          "height": 206
        },
        "outputId": "59a9fae1-60bc-4f79-99e5-25a3f994c396"
      },
      "source": [
        "# remove spaces\n",
        "clean_df = clean_df.replace(r' ', '', regex = True)\n",
        "clean_df.head()"
      ],
      "execution_count": 6,
      "outputs": [
        {
          "output_type": "execute_result",
          "data": {
            "text/html": [
              "<div>\n",
              "<style scoped>\n",
              "    .dataframe tbody tr th:only-of-type {\n",
              "        vertical-align: middle;\n",
              "    }\n",
              "\n",
              "    .dataframe tbody tr th {\n",
              "        vertical-align: top;\n",
              "    }\n",
              "\n",
              "    .dataframe thead th {\n",
              "        text-align: right;\n",
              "    }\n",
              "</style>\n",
              "<table border=\"1\" class=\"dataframe\">\n",
              "  <thead>\n",
              "    <tr style=\"text-align: right;\">\n",
              "      <th></th>\n",
              "      <th>puzzle</th>\n",
              "      <th>solution</th>\n",
              "    </tr>\n",
              "  </thead>\n",
              "  <tbody>\n",
              "    <tr>\n",
              "      <th>0</th>\n",
              "      <td>...98.7.5.3.3B.7...5..6.5....3C..B..76C....3.....</td>\n",
              "      <td>4C698B725A313B271A95C46851A863C47B2976CB428391...</td>\n",
              "    </tr>\n",
              "    <tr>\n",
              "      <th>1</th>\n",
              "      <td>...98.7.5.3.3B.7...5..6.5....3C..B..76C....3.....</td>\n",
              "      <td>4C698B725A313B271A95C46851A863C47B2976CB428391...</td>\n",
              "    </tr>\n",
              "    <tr>\n",
              "      <th>2</th>\n",
              "      <td>..3B..741.....6.1...B..2...5..219....38.6...4....</td>\n",
              "      <td>123B5674A98C769A38BC521445C8219A67B38769BA4325...</td>\n",
              "    </tr>\n",
              "    <tr>\n",
              "      <th>3</th>\n",
              "      <td>....7..5.4.64..3....7.B57....1..6C9..2.......1...</td>\n",
              "      <td>1B9A73C584264C6319287AB57852BA46C913214B657CA3...</td>\n",
              "    </tr>\n",
              "    <tr>\n",
              "      <th>4</th>\n",
              "      <td>...3..25.1....564B.11...294....7.5....9......4...</td>\n",
              "      <td>7BA39825C1468C564B31A97294126C7A58B3B967C3584A...</td>\n",
              "    </tr>\n",
              "  </tbody>\n",
              "</table>\n",
              "</div>"
            ],
            "text/plain": [
              "                                              puzzle                                           solution\n",
              "0  ...98.7.5.3.3B.7...5..6.5....3C..B..76C....3.....  4C698B725A313B271A95C46851A863C47B2976CB428391...\n",
              "1  ...98.7.5.3.3B.7...5..6.5....3C..B..76C....3.....  4C698B725A313B271A95C46851A863C47B2976CB428391...\n",
              "2  ..3B..741.....6.1...B..2...5..219....38.6...4....  123B5674A98C769A38BC521445C8219A67B38769BA4325...\n",
              "3  ....7..5.4.64..3....7.B57....1..6C9..2.......1...  1B9A73C584264C6319287AB57852BA46C913214B657CA3...\n",
              "4  ...3..25.1....564B.11...294....7.5....9......4...  7BA39825C1468C564B31A97294126C7A58B3B967C3584A..."
            ]
          },
          "metadata": {
            "tags": []
          },
          "execution_count": 6
        }
      ]
    },
    {
      "cell_type": "code",
      "metadata": {
        "id": "v-y1hLKHcXYc",
        "colab_type": "code",
        "colab": {
          "base_uri": "https://localhost:8080/",
          "height": 206
        },
        "outputId": "08088b27-9705-4997-eee4-deebffe62270"
      },
      "source": [
        "# making a 'level', 'gridLength', 'row', and 'col' column\n",
        "clean_df['level'] = 'Hard'\n",
        "clean_df['gridLength'] = 12\n",
        "clean_df['row'] = 3\n",
        "clean_df['col'] = 4\n",
        "clean_df.head()"
      ],
      "execution_count": 7,
      "outputs": [
        {
          "output_type": "execute_result",
          "data": {
            "text/html": [
              "<div>\n",
              "<style scoped>\n",
              "    .dataframe tbody tr th:only-of-type {\n",
              "        vertical-align: middle;\n",
              "    }\n",
              "\n",
              "    .dataframe tbody tr th {\n",
              "        vertical-align: top;\n",
              "    }\n",
              "\n",
              "    .dataframe thead th {\n",
              "        text-align: right;\n",
              "    }\n",
              "</style>\n",
              "<table border=\"1\" class=\"dataframe\">\n",
              "  <thead>\n",
              "    <tr style=\"text-align: right;\">\n",
              "      <th></th>\n",
              "      <th>puzzle</th>\n",
              "      <th>solution</th>\n",
              "      <th>level</th>\n",
              "      <th>gridLength</th>\n",
              "      <th>row</th>\n",
              "      <th>col</th>\n",
              "    </tr>\n",
              "  </thead>\n",
              "  <tbody>\n",
              "    <tr>\n",
              "      <th>0</th>\n",
              "      <td>...98.7.5.3.3B.7...5..6.5....3C..B..76C....3.....</td>\n",
              "      <td>4C698B725A313B271A95C46851A863C47B2976CB428391...</td>\n",
              "      <td>Hard</td>\n",
              "      <td>12</td>\n",
              "      <td>3</td>\n",
              "      <td>4</td>\n",
              "    </tr>\n",
              "    <tr>\n",
              "      <th>1</th>\n",
              "      <td>...98.7.5.3.3B.7...5..6.5....3C..B..76C....3.....</td>\n",
              "      <td>4C698B725A313B271A95C46851A863C47B2976CB428391...</td>\n",
              "      <td>Hard</td>\n",
              "      <td>12</td>\n",
              "      <td>3</td>\n",
              "      <td>4</td>\n",
              "    </tr>\n",
              "    <tr>\n",
              "      <th>2</th>\n",
              "      <td>..3B..741.....6.1...B..2...5..219....38.6...4....</td>\n",
              "      <td>123B5674A98C769A38BC521445C8219A67B38769BA4325...</td>\n",
              "      <td>Hard</td>\n",
              "      <td>12</td>\n",
              "      <td>3</td>\n",
              "      <td>4</td>\n",
              "    </tr>\n",
              "    <tr>\n",
              "      <th>3</th>\n",
              "      <td>....7..5.4.64..3....7.B57....1..6C9..2.......1...</td>\n",
              "      <td>1B9A73C584264C6319287AB57852BA46C913214B657CA3...</td>\n",
              "      <td>Hard</td>\n",
              "      <td>12</td>\n",
              "      <td>3</td>\n",
              "      <td>4</td>\n",
              "    </tr>\n",
              "    <tr>\n",
              "      <th>4</th>\n",
              "      <td>...3..25.1....564B.11...294....7.5....9......4...</td>\n",
              "      <td>7BA39825C1468C564B31A97294126C7A58B3B967C3584A...</td>\n",
              "      <td>Hard</td>\n",
              "      <td>12</td>\n",
              "      <td>3</td>\n",
              "      <td>4</td>\n",
              "    </tr>\n",
              "  </tbody>\n",
              "</table>\n",
              "</div>"
            ],
            "text/plain": [
              "                                              puzzle  ... col\n",
              "0  ...98.7.5.3.3B.7...5..6.5....3C..B..76C....3.....  ...   4\n",
              "1  ...98.7.5.3.3B.7...5..6.5....3C..B..76C....3.....  ...   4\n",
              "2  ..3B..741.....6.1...B..2...5..219....38.6...4....  ...   4\n",
              "3  ....7..5.4.64..3....7.B57....1..6C9..2.......1...  ...   4\n",
              "4  ...3..25.1....564B.11...294....7.5....9......4...  ...   4\n",
              "\n",
              "[5 rows x 6 columns]"
            ]
          },
          "metadata": {
            "tags": []
          },
          "execution_count": 7
        }
      ]
    },
    {
      "cell_type": "code",
      "metadata": {
        "id": "zWMWHrw4ccly",
        "colab_type": "code",
        "colab": {
          "base_uri": "https://localhost:8080/",
          "height": 206
        },
        "outputId": "07f711c2-848c-4f78-ad6f-e472e33eb8e7"
      },
      "source": [
        "# rename 'puzzle' to 'sudoku'\n",
        "clean_df.rename(columns = {'puzzle': 'sudoku'}, inplace = True)\n",
        "clean_df.head()"
      ],
      "execution_count": 8,
      "outputs": [
        {
          "output_type": "execute_result",
          "data": {
            "text/html": [
              "<div>\n",
              "<style scoped>\n",
              "    .dataframe tbody tr th:only-of-type {\n",
              "        vertical-align: middle;\n",
              "    }\n",
              "\n",
              "    .dataframe tbody tr th {\n",
              "        vertical-align: top;\n",
              "    }\n",
              "\n",
              "    .dataframe thead th {\n",
              "        text-align: right;\n",
              "    }\n",
              "</style>\n",
              "<table border=\"1\" class=\"dataframe\">\n",
              "  <thead>\n",
              "    <tr style=\"text-align: right;\">\n",
              "      <th></th>\n",
              "      <th>sudoku</th>\n",
              "      <th>solution</th>\n",
              "      <th>level</th>\n",
              "      <th>gridLength</th>\n",
              "      <th>row</th>\n",
              "      <th>col</th>\n",
              "    </tr>\n",
              "  </thead>\n",
              "  <tbody>\n",
              "    <tr>\n",
              "      <th>0</th>\n",
              "      <td>...98.7.5.3.3B.7...5..6.5....3C..B..76C....3.....</td>\n",
              "      <td>4C698B725A313B271A95C46851A863C47B2976CB428391...</td>\n",
              "      <td>Hard</td>\n",
              "      <td>12</td>\n",
              "      <td>3</td>\n",
              "      <td>4</td>\n",
              "    </tr>\n",
              "    <tr>\n",
              "      <th>1</th>\n",
              "      <td>...98.7.5.3.3B.7...5..6.5....3C..B..76C....3.....</td>\n",
              "      <td>4C698B725A313B271A95C46851A863C47B2976CB428391...</td>\n",
              "      <td>Hard</td>\n",
              "      <td>12</td>\n",
              "      <td>3</td>\n",
              "      <td>4</td>\n",
              "    </tr>\n",
              "    <tr>\n",
              "      <th>2</th>\n",
              "      <td>..3B..741.....6.1...B..2...5..219....38.6...4....</td>\n",
              "      <td>123B5674A98C769A38BC521445C8219A67B38769BA4325...</td>\n",
              "      <td>Hard</td>\n",
              "      <td>12</td>\n",
              "      <td>3</td>\n",
              "      <td>4</td>\n",
              "    </tr>\n",
              "    <tr>\n",
              "      <th>3</th>\n",
              "      <td>....7..5.4.64..3....7.B57....1..6C9..2.......1...</td>\n",
              "      <td>1B9A73C584264C6319287AB57852BA46C913214B657CA3...</td>\n",
              "      <td>Hard</td>\n",
              "      <td>12</td>\n",
              "      <td>3</td>\n",
              "      <td>4</td>\n",
              "    </tr>\n",
              "    <tr>\n",
              "      <th>4</th>\n",
              "      <td>...3..25.1....564B.11...294....7.5....9......4...</td>\n",
              "      <td>7BA39825C1468C564B31A97294126C7A58B3B967C3584A...</td>\n",
              "      <td>Hard</td>\n",
              "      <td>12</td>\n",
              "      <td>3</td>\n",
              "      <td>4</td>\n",
              "    </tr>\n",
              "  </tbody>\n",
              "</table>\n",
              "</div>"
            ],
            "text/plain": [
              "                                              sudoku  ... col\n",
              "0  ...98.7.5.3.3B.7...5..6.5....3C..B..76C....3.....  ...   4\n",
              "1  ...98.7.5.3.3B.7...5..6.5....3C..B..76C....3.....  ...   4\n",
              "2  ..3B..741.....6.1...B..2...5..219....38.6...4....  ...   4\n",
              "3  ....7..5.4.64..3....7.B57....1..6C9..2.......1...  ...   4\n",
              "4  ...3..25.1....564B.11...294....7.5....9......4...  ...   4\n",
              "\n",
              "[5 rows x 6 columns]"
            ]
          },
          "metadata": {
            "tags": []
          },
          "execution_count": 8
        }
      ]
    },
    {
      "cell_type": "code",
      "metadata": {
        "id": "bf5V1CB_cgOq",
        "colab_type": "code",
        "colab": {}
      },
      "source": [
        "# download the clean csv\n",
        "clean_df.to_csv('12x12_puzzles.csv')"
      ],
      "execution_count": 9,
      "outputs": []
    },
    {
      "cell_type": "code",
      "metadata": {
        "id": "LDJpufizcixy",
        "colab_type": "code",
        "colab": {
          "base_uri": "https://localhost:8080/",
          "height": 17
        },
        "outputId": "f655ea41-7818-4f69-948e-1bec5ca25dfe"
      },
      "source": [
        "files.download('12x12_puzzles.csv')"
      ],
      "execution_count": 10,
      "outputs": [
        {
          "output_type": "display_data",
          "data": {
            "application/javascript": [
              "\n",
              "    async function download(id, filename, size) {\n",
              "      if (!google.colab.kernel.accessAllowed) {\n",
              "        return;\n",
              "      }\n",
              "      const div = document.createElement('div');\n",
              "      const label = document.createElement('label');\n",
              "      label.textContent = `Downloading \"${filename}\": `;\n",
              "      div.appendChild(label);\n",
              "      const progress = document.createElement('progress');\n",
              "      progress.max = size;\n",
              "      div.appendChild(progress);\n",
              "      document.body.appendChild(div);\n",
              "\n",
              "      const buffers = [];\n",
              "      let downloaded = 0;\n",
              "\n",
              "      const channel = await google.colab.kernel.comms.open(id);\n",
              "      // Send a message to notify the kernel that we're ready.\n",
              "      channel.send({})\n",
              "\n",
              "      for await (const message of channel.messages) {\n",
              "        // Send a message to notify the kernel that we're ready.\n",
              "        channel.send({})\n",
              "        if (message.buffers) {\n",
              "          for (const buffer of message.buffers) {\n",
              "            buffers.push(buffer);\n",
              "            downloaded += buffer.byteLength;\n",
              "            progress.value = downloaded;\n",
              "          }\n",
              "        }\n",
              "      }\n",
              "      const blob = new Blob(buffers, {type: 'application/binary'});\n",
              "      const a = document.createElement('a');\n",
              "      a.href = window.URL.createObjectURL(blob);\n",
              "      a.download = filename;\n",
              "      div.appendChild(a);\n",
              "      a.click();\n",
              "      div.remove();\n",
              "    }\n",
              "  "
            ],
            "text/plain": [
              "<IPython.core.display.Javascript object>"
            ]
          },
          "metadata": {
            "tags": []
          }
        },
        {
          "output_type": "display_data",
          "data": {
            "application/javascript": [
              "download(\"download_a8b499b5-296e-448d-b15d-622ba87e2642\", \"12x12_puzzles.csv\", 1557518)"
            ],
            "text/plain": [
              "<IPython.core.display.Javascript object>"
            ]
          },
          "metadata": {
            "tags": []
          }
        }
      ]
    }
  ]
}