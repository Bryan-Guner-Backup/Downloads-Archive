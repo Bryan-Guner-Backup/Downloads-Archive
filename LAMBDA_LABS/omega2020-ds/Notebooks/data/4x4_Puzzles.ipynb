{
  "nbformat": 4,
  "nbformat_minor": 0,
  "metadata": {
    "colab": {
      "name": "4x4_Puzzles.ipynb",
      "provenance": [],
      "collapsed_sections": []
    },
    "kernelspec": {
      "name": "python3",
      "display_name": "Python 3"
    }
  },
  "cells": [
    {
      "cell_type": "markdown",
      "metadata": {
        "id": "UajA5iKAAmb_",
        "colab_type": "text"
      },
      "source": [
        "*   [Original Dataset](https://github.com/Black-Phoenix/4x4-Sudoku-Dataset)"
      ]
    },
    {
      "cell_type": "code",
      "metadata": {
        "id": "srupDzAbabRP",
        "colab_type": "code",
        "colab": {}
      },
      "source": [
        "import pandas as pd\n",
        "from google.colab import files\n",
        "\n",
        "puzzles = pd.read_csv('https://raw.githubusercontent.com/Black-Phoenix/4x4-Sudoku-Dataset/master/4x4_sudoku_unique_puzzles.csv')\n",
        "\n",
        "puzzles = puzzles.sample(n=5000)"
      ],
      "execution_count": 14,
      "outputs": []
    },
    {
      "cell_type": "code",
      "metadata": {
        "id": "zHDCAZKmbNmw",
        "colab_type": "code",
        "colab": {
          "base_uri": "https://localhost:8080/",
          "height": 206
        },
        "outputId": "689cef12-ade0-466d-9a21-f899820190c1"
      },
      "source": [
        "puzzles.tail()"
      ],
      "execution_count": 15,
      "outputs": [
        {
          "output_type": "execute_result",
          "data": {
            "text/html": [
              "<div>\n",
              "<style scoped>\n",
              "    .dataframe tbody tr th:only-of-type {\n",
              "        vertical-align: middle;\n",
              "    }\n",
              "\n",
              "    .dataframe tbody tr th {\n",
              "        vertical-align: top;\n",
              "    }\n",
              "\n",
              "    .dataframe thead th {\n",
              "        text-align: right;\n",
              "    }\n",
              "</style>\n",
              "<table border=\"1\" class=\"dataframe\">\n",
              "  <thead>\n",
              "    <tr style=\"text-align: right;\">\n",
              "      <th></th>\n",
              "      <th>Puzzle</th>\n",
              "      <th>Solution</th>\n",
              "    </tr>\n",
              "  </thead>\n",
              "  <tbody>\n",
              "    <tr>\n",
              "      <th>793673</th>\n",
              "      <td>4130020110240010</td>\n",
              "      <td>4132324113242413</td>\n",
              "    </tr>\n",
              "    <tr>\n",
              "      <th>414606</th>\n",
              "      <td>1000002020434310</td>\n",
              "      <td>1234342121434312</td>\n",
              "    </tr>\n",
              "    <tr>\n",
              "      <th>462126</th>\n",
              "      <td>4030002430420003</td>\n",
              "      <td>4231132431422413</td>\n",
              "    </tr>\n",
              "    <tr>\n",
              "      <th>380605</th>\n",
              "      <td>4010130201200001</td>\n",
              "      <td>4213134231242431</td>\n",
              "    </tr>\n",
              "    <tr>\n",
              "      <th>896881</th>\n",
              "      <td>140430114300004</td>\n",
              "      <td>2143432114323214</td>\n",
              "    </tr>\n",
              "  </tbody>\n",
              "</table>\n",
              "</div>"
            ],
            "text/plain": [
              "                  Puzzle          Solution\n",
              "793673  4130020110240010  4132324113242413\n",
              "414606  1000002020434310  1234342121434312\n",
              "462126  4030002430420003  4231132431422413\n",
              "380605  4010130201200001  4213134231242431\n",
              "896881   140430114300004  2143432114323214"
            ]
          },
          "metadata": {
            "tags": []
          },
          "execution_count": 15
        }
      ]
    },
    {
      "cell_type": "code",
      "metadata": {
        "id": "78JLA2stcQHq",
        "colab_type": "code",
        "colab": {
          "base_uri": "https://localhost:8080/",
          "height": 36
        },
        "outputId": "50eeb0bf-4741-4160-934b-668b41f2cf85"
      },
      "source": [
        "puzzles['Puzzle'].iloc[0].dtype"
      ],
      "execution_count": 16,
      "outputs": [
        {
          "output_type": "execute_result",
          "data": {
            "text/plain": [
              "dtype('int64')"
            ]
          },
          "metadata": {
            "tags": []
          },
          "execution_count": 16
        }
      ]
    },
    {
      "cell_type": "code",
      "metadata": {
        "id": "zYfNRCvobQ2A",
        "colab_type": "code",
        "colab": {}
      },
      "source": [
        "def format_puzzle(puzzle):\n",
        "  puzzle_string = str(puzzle)\n",
        "  padded_puzzle_string = puzzle_string.zfill(16)\n",
        "  formatted_puzzle_string = padded_puzzle_string.replace('0', '.')\n",
        "  return formatted_puzzle_string"
      ],
      "execution_count": 17,
      "outputs": []
    },
    {
      "cell_type": "code",
      "metadata": {
        "id": "Geh_s3QpevvU",
        "colab_type": "code",
        "colab": {}
      },
      "source": [
        "puzzles['Puzzle'] = [format_puzzle(i) for i in puzzles['Puzzle']]"
      ],
      "execution_count": 18,
      "outputs": []
    },
    {
      "cell_type": "code",
      "metadata": {
        "id": "oKbKtcoFgHrM",
        "colab_type": "code",
        "colab": {
          "base_uri": "https://localhost:8080/",
          "height": 206
        },
        "outputId": "e3c1b322-345b-4b4e-88bc-5b675242c09e"
      },
      "source": [
        "puzzles.tail()"
      ],
      "execution_count": 19,
      "outputs": [
        {
          "output_type": "execute_result",
          "data": {
            "text/html": [
              "<div>\n",
              "<style scoped>\n",
              "    .dataframe tbody tr th:only-of-type {\n",
              "        vertical-align: middle;\n",
              "    }\n",
              "\n",
              "    .dataframe tbody tr th {\n",
              "        vertical-align: top;\n",
              "    }\n",
              "\n",
              "    .dataframe thead th {\n",
              "        text-align: right;\n",
              "    }\n",
              "</style>\n",
              "<table border=\"1\" class=\"dataframe\">\n",
              "  <thead>\n",
              "    <tr style=\"text-align: right;\">\n",
              "      <th></th>\n",
              "      <th>Puzzle</th>\n",
              "      <th>Solution</th>\n",
              "    </tr>\n",
              "  </thead>\n",
              "  <tbody>\n",
              "    <tr>\n",
              "      <th>793673</th>\n",
              "      <td>413..2.11.24..1.</td>\n",
              "      <td>4132324113242413</td>\n",
              "    </tr>\n",
              "    <tr>\n",
              "      <th>414606</th>\n",
              "      <td>1.....2.2.43431.</td>\n",
              "      <td>1234342121434312</td>\n",
              "    </tr>\n",
              "    <tr>\n",
              "      <th>462126</th>\n",
              "      <td>4.3...243.42...3</td>\n",
              "      <td>4231132431422413</td>\n",
              "    </tr>\n",
              "    <tr>\n",
              "      <th>380605</th>\n",
              "      <td>4.1.13.2.12....1</td>\n",
              "      <td>4213134231242431</td>\n",
              "    </tr>\n",
              "    <tr>\n",
              "      <th>896881</th>\n",
              "      <td>.14.43.1143....4</td>\n",
              "      <td>2143432114323214</td>\n",
              "    </tr>\n",
              "  </tbody>\n",
              "</table>\n",
              "</div>"
            ],
            "text/plain": [
              "                  Puzzle          Solution\n",
              "793673  413..2.11.24..1.  4132324113242413\n",
              "414606  1.....2.2.43431.  1234342121434312\n",
              "462126  4.3...243.42...3  4231132431422413\n",
              "380605  4.1.13.2.12....1  4213134231242431\n",
              "896881  .14.43.1143....4  2143432114323214"
            ]
          },
          "metadata": {
            "tags": []
          },
          "execution_count": 19
        }
      ]
    },
    {
      "cell_type": "code",
      "metadata": {
        "id": "cdY5M41vmTBA",
        "colab_type": "code",
        "colab": {}
      },
      "source": [
        "puzzles['Solution'] = [str(solution) for solution in puzzles['Solution']]"
      ],
      "execution_count": 20,
      "outputs": []
    },
    {
      "cell_type": "code",
      "metadata": {
        "id": "rwyNyanKmGBv",
        "colab_type": "code",
        "colab": {
          "base_uri": "https://localhost:8080/",
          "height": 206
        },
        "outputId": "cab05b2d-03df-4af0-e8bb-1af644f13747"
      },
      "source": [
        "# making a 'level', 'gridLength', 'row', and 'col' column\n",
        "puzzles['level'] = 'Easy'\n",
        "puzzles['gridLength'] = 4\n",
        "puzzles['row'] = 2\n",
        "puzzles['col'] = 2\n",
        "puzzles.head()"
      ],
      "execution_count": 21,
      "outputs": [
        {
          "output_type": "execute_result",
          "data": {
            "text/html": [
              "<div>\n",
              "<style scoped>\n",
              "    .dataframe tbody tr th:only-of-type {\n",
              "        vertical-align: middle;\n",
              "    }\n",
              "\n",
              "    .dataframe tbody tr th {\n",
              "        vertical-align: top;\n",
              "    }\n",
              "\n",
              "    .dataframe thead th {\n",
              "        text-align: right;\n",
              "    }\n",
              "</style>\n",
              "<table border=\"1\" class=\"dataframe\">\n",
              "  <thead>\n",
              "    <tr style=\"text-align: right;\">\n",
              "      <th></th>\n",
              "      <th>Puzzle</th>\n",
              "      <th>Solution</th>\n",
              "      <th>level</th>\n",
              "      <th>gridLength</th>\n",
              "      <th>row</th>\n",
              "      <th>col</th>\n",
              "    </tr>\n",
              "  </thead>\n",
              "  <tbody>\n",
              "    <tr>\n",
              "      <th>842129</th>\n",
              "      <td>3...41.21.23..14</td>\n",
              "      <td>3241413214232314</td>\n",
              "      <td>Easy</td>\n",
              "      <td>4</td>\n",
              "      <td>2</td>\n",
              "      <td>2</td>\n",
              "    </tr>\n",
              "    <tr>\n",
              "      <th>758532</th>\n",
              "      <td>.213..422.3..4.1</td>\n",
              "      <td>4213134221343421</td>\n",
              "      <td>Easy</td>\n",
              "      <td>4</td>\n",
              "      <td>2</td>\n",
              "      <td>2</td>\n",
              "    </tr>\n",
              "    <tr>\n",
              "      <th>81349</th>\n",
              "      <td>.1....134..1.32.</td>\n",
              "      <td>3142241342311324</td>\n",
              "      <td>Easy</td>\n",
              "      <td>4</td>\n",
              "      <td>2</td>\n",
              "      <td>2</td>\n",
              "    </tr>\n",
              "    <tr>\n",
              "      <th>958267</th>\n",
              "      <td>.2.41.....21....</td>\n",
              "      <td>3214143243212143</td>\n",
              "      <td>Easy</td>\n",
              "      <td>4</td>\n",
              "      <td>2</td>\n",
              "      <td>2</td>\n",
              "    </tr>\n",
              "    <tr>\n",
              "      <th>433155</th>\n",
              "      <td>....13...2.33124</td>\n",
              "      <td>2431134242133124</td>\n",
              "      <td>Easy</td>\n",
              "      <td>4</td>\n",
              "      <td>2</td>\n",
              "      <td>2</td>\n",
              "    </tr>\n",
              "  </tbody>\n",
              "</table>\n",
              "</div>"
            ],
            "text/plain": [
              "                  Puzzle          Solution level  gridLength  row  col\n",
              "842129  3...41.21.23..14  3241413214232314  Easy           4    2    2\n",
              "758532  .213..422.3..4.1  4213134221343421  Easy           4    2    2\n",
              "81349   .1....134..1.32.  3142241342311324  Easy           4    2    2\n",
              "958267  .2.41.....21....  3214143243212143  Easy           4    2    2\n",
              "433155  ....13...2.33124  2431134242133124  Easy           4    2    2"
            ]
          },
          "metadata": {
            "tags": []
          },
          "execution_count": 21
        }
      ]
    },
    {
      "cell_type": "code",
      "metadata": {
        "id": "mozlBQI9nVDg",
        "colab_type": "code",
        "colab": {
          "base_uri": "https://localhost:8080/",
          "height": 206
        },
        "outputId": "24bb1589-6ef6-49ec-db86-69b881289cb5"
      },
      "source": [
        "# rename 'puzzle' to 'sudoku' and making 'Solution' lowercase\n",
        "puzzles.rename(columns = {'Puzzle': 'sudoku'}, inplace = True)\n",
        "puzzles.rename(columns = {'Solution': 'solution'}, inplace = True)\n",
        "puzzles.head()"
      ],
      "execution_count": 22,
      "outputs": [
        {
          "output_type": "execute_result",
          "data": {
            "text/html": [
              "<div>\n",
              "<style scoped>\n",
              "    .dataframe tbody tr th:only-of-type {\n",
              "        vertical-align: middle;\n",
              "    }\n",
              "\n",
              "    .dataframe tbody tr th {\n",
              "        vertical-align: top;\n",
              "    }\n",
              "\n",
              "    .dataframe thead th {\n",
              "        text-align: right;\n",
              "    }\n",
              "</style>\n",
              "<table border=\"1\" class=\"dataframe\">\n",
              "  <thead>\n",
              "    <tr style=\"text-align: right;\">\n",
              "      <th></th>\n",
              "      <th>sudoku</th>\n",
              "      <th>solution</th>\n",
              "      <th>level</th>\n",
              "      <th>gridLength</th>\n",
              "      <th>row</th>\n",
              "      <th>col</th>\n",
              "    </tr>\n",
              "  </thead>\n",
              "  <tbody>\n",
              "    <tr>\n",
              "      <th>842129</th>\n",
              "      <td>3...41.21.23..14</td>\n",
              "      <td>3241413214232314</td>\n",
              "      <td>Easy</td>\n",
              "      <td>4</td>\n",
              "      <td>2</td>\n",
              "      <td>2</td>\n",
              "    </tr>\n",
              "    <tr>\n",
              "      <th>758532</th>\n",
              "      <td>.213..422.3..4.1</td>\n",
              "      <td>4213134221343421</td>\n",
              "      <td>Easy</td>\n",
              "      <td>4</td>\n",
              "      <td>2</td>\n",
              "      <td>2</td>\n",
              "    </tr>\n",
              "    <tr>\n",
              "      <th>81349</th>\n",
              "      <td>.1....134..1.32.</td>\n",
              "      <td>3142241342311324</td>\n",
              "      <td>Easy</td>\n",
              "      <td>4</td>\n",
              "      <td>2</td>\n",
              "      <td>2</td>\n",
              "    </tr>\n",
              "    <tr>\n",
              "      <th>958267</th>\n",
              "      <td>.2.41.....21....</td>\n",
              "      <td>3214143243212143</td>\n",
              "      <td>Easy</td>\n",
              "      <td>4</td>\n",
              "      <td>2</td>\n",
              "      <td>2</td>\n",
              "    </tr>\n",
              "    <tr>\n",
              "      <th>433155</th>\n",
              "      <td>....13...2.33124</td>\n",
              "      <td>2431134242133124</td>\n",
              "      <td>Easy</td>\n",
              "      <td>4</td>\n",
              "      <td>2</td>\n",
              "      <td>2</td>\n",
              "    </tr>\n",
              "  </tbody>\n",
              "</table>\n",
              "</div>"
            ],
            "text/plain": [
              "                  sudoku          solution level  gridLength  row  col\n",
              "842129  3...41.21.23..14  3241413214232314  Easy           4    2    2\n",
              "758532  .213..422.3..4.1  4213134221343421  Easy           4    2    2\n",
              "81349   .1....134..1.32.  3142241342311324  Easy           4    2    2\n",
              "958267  .2.41.....21....  3214143243212143  Easy           4    2    2\n",
              "433155  ....13...2.33124  2431134242133124  Easy           4    2    2"
            ]
          },
          "metadata": {
            "tags": []
          },
          "execution_count": 22
        }
      ]
    },
    {
      "cell_type": "code",
      "metadata": {
        "id": "ez1E8R0piKSO",
        "colab_type": "code",
        "colab": {}
      },
      "source": [
        "puzzles.to_csv('4x4_puzzles.csv')"
      ],
      "execution_count": 23,
      "outputs": []
    },
    {
      "cell_type": "code",
      "metadata": {
        "id": "dUEATKJyjxBd",
        "colab_type": "code",
        "colab": {
          "base_uri": "https://localhost:8080/",
          "height": 17
        },
        "outputId": "e9c6054c-46ce-4df0-c69a-e95b4e695e0c"
      },
      "source": [
        "files.download('4x4_puzzles.csv')"
      ],
      "execution_count": 24,
      "outputs": [
        {
          "output_type": "display_data",
          "data": {
            "application/javascript": [
              "\n",
              "    async function download(id, filename, size) {\n",
              "      if (!google.colab.kernel.accessAllowed) {\n",
              "        return;\n",
              "      }\n",
              "      const div = document.createElement('div');\n",
              "      const label = document.createElement('label');\n",
              "      label.textContent = `Downloading \"${filename}\": `;\n",
              "      div.appendChild(label);\n",
              "      const progress = document.createElement('progress');\n",
              "      progress.max = size;\n",
              "      div.appendChild(progress);\n",
              "      document.body.appendChild(div);\n",
              "\n",
              "      const buffers = [];\n",
              "      let downloaded = 0;\n",
              "\n",
              "      const channel = await google.colab.kernel.comms.open(id);\n",
              "      // Send a message to notify the kernel that we're ready.\n",
              "      channel.send({})\n",
              "\n",
              "      for await (const message of channel.messages) {\n",
              "        // Send a message to notify the kernel that we're ready.\n",
              "        channel.send({})\n",
              "        if (message.buffers) {\n",
              "          for (const buffer of message.buffers) {\n",
              "            buffers.push(buffer);\n",
              "            downloaded += buffer.byteLength;\n",
              "            progress.value = downloaded;\n",
              "          }\n",
              "        }\n",
              "      }\n",
              "      const blob = new Blob(buffers, {type: 'application/binary'});\n",
              "      const a = document.createElement('a');\n",
              "      a.href = window.URL.createObjectURL(blob);\n",
              "      a.download = filename;\n",
              "      div.appendChild(a);\n",
              "      a.click();\n",
              "      div.remove();\n",
              "    }\n",
              "  "
            ],
            "text/plain": [
              "<IPython.core.display.Javascript object>"
            ]
          },
          "metadata": {
            "tags": []
          }
        },
        {
          "output_type": "display_data",
          "data": {
            "application/javascript": [
              "download(\"download_e17685ef-4ded-483b-a511-a9b7dd86746a\", \"4x4_puzzles.csv\", 259467)"
            ],
            "text/plain": [
              "<IPython.core.display.Javascript object>"
            ]
          },
          "metadata": {
            "tags": []
          }
        }
      ]
    }
  ]
}