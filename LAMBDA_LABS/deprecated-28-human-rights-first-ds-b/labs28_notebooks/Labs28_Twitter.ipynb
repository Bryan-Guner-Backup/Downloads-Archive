{
  "nbformat": 4,
  "nbformat_minor": 0,
  "metadata": {
    "colab": {
      "name": "Labs28_Twitter.ipynb",
      "provenance": [],
      "collapsed_sections": []
    },
    "kernelspec": {
      "name": "python3",
      "display_name": "Python 3"
    }
  },
  "cells": [
    {
      "cell_type": "code",
      "metadata": {
        "id": "zUGf0EX_Dlez"
      },
      "source": [
        "#This notebook was made to explore Twitter data and compare current tweets \n",
        "#filtered for #police to keywords found in the 846 Police Brutality data"
      ],
      "execution_count": 1,
      "outputs": []
    },
    {
      "cell_type": "code",
      "metadata": {
        "colab": {
          "base_uri": "https://localhost:8080/"
        },
        "id": "6wPpqBnCGR-g",
        "outputId": "8840d6ac-c8b3-487d-ecef-bd97f4cbdfda"
      },
      "source": [
        "!python -m spacy download en_core_web_sm"
      ],
      "execution_count": 2,
      "outputs": [
        {
          "output_type": "stream",
          "text": [
            "Requirement already satisfied: en_core_web_sm==2.2.5 from https://github.com/explosion/spacy-models/releases/download/en_core_web_sm-2.2.5/en_core_web_sm-2.2.5.tar.gz#egg=en_core_web_sm==2.2.5 in /usr/local/lib/python3.6/dist-packages (2.2.5)\n",
            "Requirement already satisfied: spacy>=2.2.2 in /usr/local/lib/python3.6/dist-packages (from en_core_web_sm==2.2.5) (2.2.4)\n",
            "Requirement already satisfied: thinc==7.4.0 in /usr/local/lib/python3.6/dist-packages (from spacy>=2.2.2->en_core_web_sm==2.2.5) (7.4.0)\n",
            "Requirement already satisfied: murmurhash<1.1.0,>=0.28.0 in /usr/local/lib/python3.6/dist-packages (from spacy>=2.2.2->en_core_web_sm==2.2.5) (1.0.3)\n",
            "Requirement already satisfied: setuptools in /usr/local/lib/python3.6/dist-packages (from spacy>=2.2.2->en_core_web_sm==2.2.5) (50.3.2)\n",
            "Requirement already satisfied: srsly<1.1.0,>=1.0.2 in /usr/local/lib/python3.6/dist-packages (from spacy>=2.2.2->en_core_web_sm==2.2.5) (1.0.2)\n",
            "Requirement already satisfied: numpy>=1.15.0 in /usr/local/lib/python3.6/dist-packages (from spacy>=2.2.2->en_core_web_sm==2.2.5) (1.18.5)\n",
            "Requirement already satisfied: blis<0.5.0,>=0.4.0 in /usr/local/lib/python3.6/dist-packages (from spacy>=2.2.2->en_core_web_sm==2.2.5) (0.4.1)\n",
            "Requirement already satisfied: plac<1.2.0,>=0.9.6 in /usr/local/lib/python3.6/dist-packages (from spacy>=2.2.2->en_core_web_sm==2.2.5) (1.1.3)\n",
            "Requirement already satisfied: tqdm<5.0.0,>=4.38.0 in /usr/local/lib/python3.6/dist-packages (from spacy>=2.2.2->en_core_web_sm==2.2.5) (4.41.1)\n",
            "Requirement already satisfied: catalogue<1.1.0,>=0.0.7 in /usr/local/lib/python3.6/dist-packages (from spacy>=2.2.2->en_core_web_sm==2.2.5) (1.0.0)\n",
            "Requirement already satisfied: cymem<2.1.0,>=2.0.2 in /usr/local/lib/python3.6/dist-packages (from spacy>=2.2.2->en_core_web_sm==2.2.5) (2.0.4)\n",
            "Requirement already satisfied: requests<3.0.0,>=2.13.0 in /usr/local/lib/python3.6/dist-packages (from spacy>=2.2.2->en_core_web_sm==2.2.5) (2.23.0)\n",
            "Requirement already satisfied: preshed<3.1.0,>=3.0.2 in /usr/local/lib/python3.6/dist-packages (from spacy>=2.2.2->en_core_web_sm==2.2.5) (3.0.2)\n",
            "Requirement already satisfied: wasabi<1.1.0,>=0.4.0 in /usr/local/lib/python3.6/dist-packages (from spacy>=2.2.2->en_core_web_sm==2.2.5) (0.8.0)\n",
            "Requirement already satisfied: importlib-metadata>=0.20; python_version < \"3.8\" in /usr/local/lib/python3.6/dist-packages (from catalogue<1.1.0,>=0.0.7->spacy>=2.2.2->en_core_web_sm==2.2.5) (2.0.0)\n",
            "Requirement already satisfied: certifi>=2017.4.17 in /usr/local/lib/python3.6/dist-packages (from requests<3.0.0,>=2.13.0->spacy>=2.2.2->en_core_web_sm==2.2.5) (2020.6.20)\n",
            "Requirement already satisfied: chardet<4,>=3.0.2 in /usr/local/lib/python3.6/dist-packages (from requests<3.0.0,>=2.13.0->spacy>=2.2.2->en_core_web_sm==2.2.5) (3.0.4)\n",
            "Requirement already satisfied: idna<3,>=2.5 in /usr/local/lib/python3.6/dist-packages (from requests<3.0.0,>=2.13.0->spacy>=2.2.2->en_core_web_sm==2.2.5) (2.10)\n",
            "Requirement already satisfied: urllib3!=1.25.0,!=1.25.1,<1.26,>=1.21.1 in /usr/local/lib/python3.6/dist-packages (from requests<3.0.0,>=2.13.0->spacy>=2.2.2->en_core_web_sm==2.2.5) (1.24.3)\n",
            "Requirement already satisfied: zipp>=0.5 in /usr/local/lib/python3.6/dist-packages (from importlib-metadata>=0.20; python_version < \"3.8\"->catalogue<1.1.0,>=0.0.7->spacy>=2.2.2->en_core_web_sm==2.2.5) (3.4.0)\n",
            "\u001b[38;5;2m✔ Download and installation successful\u001b[0m\n",
            "You can now load the model via spacy.load('en_core_web_sm')\n"
          ],
          "name": "stdout"
        }
      ]
    },
    {
      "cell_type": "code",
      "metadata": {
        "id": "PIRITWToEYO5"
      },
      "source": [
        "# required imports\n",
        "\n",
        "from bs4 import BeautifulSoup\n",
        "import json\n",
        "import matplotlib.pyplot as plt\n",
        "import pandas as pd\n",
        "import re\n",
        "import requests\n",
        "import spacy\n",
        "from spacy.tokenizer import Tokenizer\n",
        "import urllib3"
      ],
      "execution_count": 3,
      "outputs": []
    },
    {
      "cell_type": "markdown",
      "metadata": {
        "id": "DSen24PBEgvM"
      },
      "source": [
        "##Load and Tokenize 846 data"
      ]
    },
    {
      "cell_type": "code",
      "metadata": {
        "colab": {
          "base_uri": "https://localhost:8080/"
        },
        "id": "t20ZXyOsFFfI",
        "outputId": "2e930fff-db4f-4bc1-af7d-8ba9fbb53022"
      },
      "source": [
        "url=\"https://api.846policebrutality.com/api/incidents?include=evidence\"\n",
        "http = urllib3.PoolManager()\n",
        "response = http.request('GET', url)\n",
        "soup = BeautifulSoup(response.data, \"html.parser\")\n",
        "\n",
        "json_846 = json.loads(soup.text)"
      ],
      "execution_count": 4,
      "outputs": [
        {
          "output_type": "stream",
          "text": [
            "/usr/local/lib/python3.6/dist-packages/urllib3/connectionpool.py:847: InsecureRequestWarning: Unverified HTTPS request is being made. Adding certificate verification is strongly advised. See: https://urllib3.readthedocs.io/en/latest/advanced-usage.html#ssl-warnings\n",
            "  InsecureRequestWarning)\n"
          ],
          "name": "stderr"
        }
      ]
    },
    {
      "cell_type": "code",
      "metadata": {
        "id": "QwFGQNhaE5Nw"
      },
      "source": [
        "#Retrieve data from json_846 data key\n",
        "incidents = json_846['data']"
      ],
      "execution_count": 5,
      "outputs": []
    },
    {
      "cell_type": "code",
      "metadata": {
        "colab": {
          "base_uri": "https://localhost:8080/",
          "height": 527
        },
        "id": "mNQgNjH-EsMY",
        "outputId": "957341d4-301b-4ae5-e75b-c7bd062a4249"
      },
      "source": [
        "# Create dataframe from the 846 API incident data\n",
        "df_846 = pd.DataFrame(incidents)\n",
        "\n",
        "# Change data type for 'date' column to datetime type\n",
        "df_846['date'] = pd.to_datetime(df_846['date'], infer_datetime_format=True)\n",
        "\n",
        "# Drop empty columns, description is also empty but needed for current format\n",
        "# Evidence also isn't needed, as well as id (pub_id needs to be renamed to id)\n",
        "df_846 = df_846.drop(columns=['data', 'evidence', 'id'])\n",
        "\n",
        "# Check the top 5 rows of the new dataframe\n",
        "df_846.head()"
      ],
      "execution_count": 6,
      "outputs": [
        {
          "output_type": "execute_result",
          "data": {
            "text/html": [
              "<div>\n",
              "<style scoped>\n",
              "    .dataframe tbody tr th:only-of-type {\n",
              "        vertical-align: middle;\n",
              "    }\n",
              "\n",
              "    .dataframe tbody tr th {\n",
              "        vertical-align: top;\n",
              "    }\n",
              "\n",
              "    .dataframe thead th {\n",
              "        text-align: right;\n",
              "    }\n",
              "</style>\n",
              "<table border=\"1\" class=\"dataframe\">\n",
              "  <thead>\n",
              "    <tr style=\"text-align: right;\">\n",
              "      <th></th>\n",
              "      <th>pb_id</th>\n",
              "      <th>state</th>\n",
              "      <th>city</th>\n",
              "      <th>date</th>\n",
              "      <th>title</th>\n",
              "      <th>description</th>\n",
              "      <th>links</th>\n",
              "      <th>tags</th>\n",
              "      <th>geocoding</th>\n",
              "    </tr>\n",
              "  </thead>\n",
              "  <tbody>\n",
              "    <tr>\n",
              "      <th>0</th>\n",
              "      <td>or-portland-409</td>\n",
              "      <td>Oregon</td>\n",
              "      <td>Portland</td>\n",
              "      <td>2020-11-08 08:00:00</td>\n",
              "      <td>DHS agents arrest &amp; tear gas protesters over t...</td>\n",
              "      <td>None</td>\n",
              "      <td>[https://twitter.com/AdamnCostelloTV/status/13...</td>\n",
              "      <td>[arrest, journalist, less-lethal, pepper-ball,...</td>\n",
              "      <td>{'lat': '45.5051064', 'long': '-122.6750261'}</td>\n",
              "    </tr>\n",
              "    <tr>\n",
              "      <th>1</th>\n",
              "      <td>or-portland-404</td>\n",
              "      <td>Oregon</td>\n",
              "      <td>Portland</td>\n",
              "      <td>2020-11-04 08:00:00</td>\n",
              "      <td>Officers charged protesters &amp; press</td>\n",
              "      <td>None</td>\n",
              "      <td>[https://twitter.com/Cascadianphotog/status/13...</td>\n",
              "      <td>[journalist, protester, push, shove]</td>\n",
              "      <td>{'lat': '45.5051064', 'long': '-122.6750261'}</td>\n",
              "    </tr>\n",
              "    <tr>\n",
              "      <th>2</th>\n",
              "      <td>or-portland-405</td>\n",
              "      <td>Oregon</td>\n",
              "      <td>Portland</td>\n",
              "      <td>2020-11-04 08:00:00</td>\n",
              "      <td>Officers shove, strike, and arrest protesters</td>\n",
              "      <td>None</td>\n",
              "      <td>[https://twitter.com/ByMikeBaker/status/132420...</td>\n",
              "      <td>[arrest, baton, protester, push, shove, strike]</td>\n",
              "      <td>{'lat': '45.5051064', 'long': '-122.6750261'}</td>\n",
              "    </tr>\n",
              "    <tr>\n",
              "      <th>3</th>\n",
              "      <td>or-portland-406</td>\n",
              "      <td>Oregon</td>\n",
              "      <td>Portland</td>\n",
              "      <td>2020-11-04 08:00:00</td>\n",
              "      <td>Officers make violent arrests</td>\n",
              "      <td>None</td>\n",
              "      <td>[https://twitter.com/TheRealCoryElia/status/13...</td>\n",
              "      <td>[arrest, protester, push, shove]</td>\n",
              "      <td>{'lat': '45.5051064', 'long': '-122.6750261'}</td>\n",
              "    </tr>\n",
              "    <tr>\n",
              "      <th>4</th>\n",
              "      <td>or-portland-407</td>\n",
              "      <td>Oregon</td>\n",
              "      <td>Portland</td>\n",
              "      <td>2020-11-04 08:00:00</td>\n",
              "      <td>Protester tackled and arrested</td>\n",
              "      <td>None</td>\n",
              "      <td>[https://mobile.twitter.com/jovannithe1st/stat...</td>\n",
              "      <td>[arrest, protester, tackle]</td>\n",
              "      <td>{'lat': '45.5051064', 'long': '-122.6750261'}</td>\n",
              "    </tr>\n",
              "  </tbody>\n",
              "</table>\n",
              "</div>"
            ],
            "text/plain": [
              "             pb_id  ...                                      geocoding\n",
              "0  or-portland-409  ...  {'lat': '45.5051064', 'long': '-122.6750261'}\n",
              "1  or-portland-404  ...  {'lat': '45.5051064', 'long': '-122.6750261'}\n",
              "2  or-portland-405  ...  {'lat': '45.5051064', 'long': '-122.6750261'}\n",
              "3  or-portland-406  ...  {'lat': '45.5051064', 'long': '-122.6750261'}\n",
              "4  or-portland-407  ...  {'lat': '45.5051064', 'long': '-122.6750261'}\n",
              "\n",
              "[5 rows x 9 columns]"
            ]
          },
          "metadata": {
            "tags": []
          },
          "execution_count": 6
        }
      ]
    },
    {
      "cell_type": "markdown",
      "metadata": {
        "id": "XA8lIv_BGlp0"
      },
      "source": [
        "##Use Spacy to tokenize 846 data"
      ]
    },
    {
      "cell_type": "code",
      "metadata": {
        "id": "AwxnBnVqGV25"
      },
      "source": [
        "#instantiate nlp model\n",
        "nlp = spacy.load(\"en_core_web_sm\")\n",
        "\n",
        "#Instantiaiting tokenizer\n",
        "tokenizer = Tokenizer(nlp.vocab)"
      ],
      "execution_count": 7,
      "outputs": []
    },
    {
      "cell_type": "code",
      "metadata": {
        "id": "ml1azh9wHxq6"
      },
      "source": [
        "#lemmatisation function\n",
        "\n",
        "def tokenize(doc):\n",
        "    \"\"\" Function tokenzing data and returning a list\"\"\"\n",
        "    lemmas = []\n",
        "    doc = nlp(doc)\n",
        "    for token in doc: \n",
        "        if ((token.is_stop == False) and (token.is_punct == False)) and (token.pos_ != 'PRON'):\n",
        "            lemmas.append(token.lemma_)\n",
        "    return lemmas"
      ],
      "execution_count": 8,
      "outputs": []
    },
    {
      "cell_type": "code",
      "metadata": {
        "id": "qpemlk8QIC6J"
      },
      "source": [
        "#need to concatenate tags and title, converting tag to list first\n",
        "\n",
        "def listToString(s):\n",
        "  str1 = \"\"\n",
        "  for elem in s:\n",
        "    str1 += elem\n",
        "    return str1"
      ],
      "execution_count": 9,
      "outputs": []
    },
    {
      "cell_type": "code",
      "metadata": {
        "id": "91XOa4adIbmY"
      },
      "source": [
        "df_846['tags'] = df_846['tags'].apply(listToString)"
      ],
      "execution_count": 10,
      "outputs": []
    },
    {
      "cell_type": "code",
      "metadata": {
        "id": "LdQVwd9ZItf6"
      },
      "source": [
        "df_846['concat'] = df_846['title'] + \" \" + df_846['tags']"
      ],
      "execution_count": 11,
      "outputs": []
    },
    {
      "cell_type": "code",
      "metadata": {
        "id": "vpIZ0y1rIxQq"
      },
      "source": [
        "#tokenize column containing both tags and title\n",
        "\n",
        "df_846['tokens'] = df_846['concat'].apply(tokenize)"
      ],
      "execution_count": 12,
      "outputs": []
    },
    {
      "cell_type": "code",
      "metadata": {
        "colab": {
          "base_uri": "https://localhost:8080/"
        },
        "id": "VOrbtZQYI6sL",
        "outputId": "abd41b78-cedc-4f30-9849-3eb85d9b2f20"
      },
      "source": [
        "#tokens from posts containing examples of police use of force\n",
        "#Because 846 contains instances of police use of force, these \n",
        "#tokens can be used to find similar posts on Twitter or other\n",
        "#social media\n",
        "\n",
        "print(df_846.shape)\n",
        "df_846['tokens'].head(10)"
      ],
      "execution_count": 13,
      "outputs": [
        {
          "output_type": "stream",
          "text": [
            "(1261, 11)\n"
          ],
          "name": "stdout"
        },
        {
          "output_type": "execute_result",
          "data": {
            "text/plain": [
              "0    [DHS, agent, arrest, tear, gas, protester, thr...\n",
              "1      [officer, charge, protester, press, journalist]\n",
              "2    [officer, shove, strike, arrest, protester, ar...\n",
              "3                   [officer, violent, arrest, arrest]\n",
              "4                  [Protester, tackle, arrest, arrest]\n",
              "5    [Member, Vice, film, crew, harass, assault, ba...\n",
              "6            [officer, shoot, protester, head, lethal]\n",
              "7                 [Police, arrest, journalist, arrest]\n",
              "8          [Police, charge, arrest, protester, arrest]\n",
              "9    [Police, assault, hospitalize, protester, arrest]\n",
              "Name: tokens, dtype: object"
            ]
          },
          "metadata": {
            "tags": []
          },
          "execution_count": 13
        }
      ]
    },
    {
      "cell_type": "code",
      "metadata": {
        "colab": {
          "base_uri": "https://localhost:8080/",
          "height": 270
        },
        "id": "LL70VB1JJSup",
        "outputId": "7322c8f2-0440-45cf-8a05-5055481bfe33"
      },
      "source": [
        "# Vector Representation\n",
        "# Feature extraction\n",
        "\n",
        "from sklearn.feature_extraction.text import TfidfVectorizer\n",
        "\n",
        "tdf = TfidfVectorizer(ngram_range=(1,2),\n",
        "                    max_df=.97,\n",
        "                     min_df=3,\n",
        "                    tokenizer=tokenize)\n",
        "# Fit and Transforming text\n",
        "vect = tdf.fit_transform(df_846['concat'])\n",
        "# Making a dataframe of feature names\n",
        "vect = pd.DataFrame(vect.todense(), columns=tdf.get_feature_names())\n",
        "\n",
        "vect.head()"
      ],
      "execution_count": 14,
      "outputs": [
        {
          "output_type": "execute_result",
          "data": {
            "text/html": [
              "<div>\n",
              "<style scoped>\n",
              "    .dataframe tbody tr th:only-of-type {\n",
              "        vertical-align: middle;\n",
              "    }\n",
              "\n",
              "    .dataframe tbody tr th {\n",
              "        vertical-align: top;\n",
              "    }\n",
              "\n",
              "    .dataframe thead th {\n",
              "        text-align: right;\n",
              "    }\n",
              "</style>\n",
              "<table border=\"1\" class=\"dataframe\">\n",
              "  <thead>\n",
              "    <tr style=\"text-align: right;\">\n",
              "      <th></th>\n",
              "      <th>abuse</th>\n",
              "      <th>abuse power</th>\n",
              "      <th>active</th>\n",
              "      <th>activist</th>\n",
              "      <th>agent</th>\n",
              "      <th>agent arrest</th>\n",
              "      <th>agent deploy</th>\n",
              "      <th>agent fire</th>\n",
              "      <th>agent shoot</th>\n",
              "      <th>aid</th>\n",
              "      <th>air</th>\n",
              "      <th>air journalist</th>\n",
              "      <th>alleged</th>\n",
              "      <th>allegedly</th>\n",
              "      <th>angeles</th>\n",
              "      <th>angeles law</th>\n",
              "      <th>apartment</th>\n",
              "      <th>apparent</th>\n",
              "      <th>apparent cause</th>\n",
              "      <th>apparent justification</th>\n",
              "      <th>apparent reason</th>\n",
              "      <th>area</th>\n",
              "      <th>arm</th>\n",
              "      <th>arrest</th>\n",
              "      <th>arrest abuse</th>\n",
              "      <th>arrest arrest</th>\n",
              "      <th>arrest bystander</th>\n",
              "      <th>arrest federal</th>\n",
              "      <th>arrest journalist</th>\n",
              "      <th>arrest man</th>\n",
              "      <th>arrest peaceful</th>\n",
              "      <th>arrest pepper</th>\n",
              "      <th>arrest police</th>\n",
              "      <th>arrest protest</th>\n",
              "      <th>arrest protester</th>\n",
              "      <th>arrest reporter</th>\n",
              "      <th>arrest tear</th>\n",
              "      <th>arrest woman</th>\n",
              "      <th>arrestee</th>\n",
              "      <th>assault</th>\n",
              "      <th>...</th>\n",
              "      <th>unarmed man</th>\n",
              "      <th>unarmed protester</th>\n",
              "      <th>unlawful</th>\n",
              "      <th>unmarked</th>\n",
              "      <th>use</th>\n",
              "      <th>use bike</th>\n",
              "      <th>use excessive</th>\n",
              "      <th>use flashbang</th>\n",
              "      <th>use lrad</th>\n",
              "      <th>use pepper</th>\n",
              "      <th>use tear</th>\n",
              "      <th>van</th>\n",
              "      <th>vandalism</th>\n",
              "      <th>vehicle</th>\n",
              "      <th>veteran</th>\n",
              "      <th>violation</th>\n",
              "      <th>violation arrest</th>\n",
              "      <th>violence</th>\n",
              "      <th>violent</th>\n",
              "      <th>violent arrest</th>\n",
              "      <th>violently</th>\n",
              "      <th>violently arrest</th>\n",
              "      <th>violently push</th>\n",
              "      <th>walk</th>\n",
              "      <th>walk away</th>\n",
              "      <th>walk home</th>\n",
              "      <th>warn</th>\n",
              "      <th>water</th>\n",
              "      <th>water bottle</th>\n",
              "      <th>way</th>\n",
              "      <th>way crowd</th>\n",
              "      <th>wheelchair</th>\n",
              "      <th>white</th>\n",
              "      <th>window</th>\n",
              "      <th>woman</th>\n",
              "      <th>woman arrest</th>\n",
              "      <th>woman ground</th>\n",
              "      <th>woman shoot</th>\n",
              "      <th>wound</th>\n",
              "      <th>yell</th>\n",
              "    </tr>\n",
              "  </thead>\n",
              "  <tbody>\n",
              "    <tr>\n",
              "      <th>0</th>\n",
              "      <td>0.0</td>\n",
              "      <td>0.0</td>\n",
              "      <td>0.0</td>\n",
              "      <td>0.0</td>\n",
              "      <td>0.223359</td>\n",
              "      <td>0.316059</td>\n",
              "      <td>0.0</td>\n",
              "      <td>0.0</td>\n",
              "      <td>0.0</td>\n",
              "      <td>0.0</td>\n",
              "      <td>0.0</td>\n",
              "      <td>0.0</td>\n",
              "      <td>0.0</td>\n",
              "      <td>0.0</td>\n",
              "      <td>0.0</td>\n",
              "      <td>0.0</td>\n",
              "      <td>0.0</td>\n",
              "      <td>0.0</td>\n",
              "      <td>0.0</td>\n",
              "      <td>0.0</td>\n",
              "      <td>0.0</td>\n",
              "      <td>0.0</td>\n",
              "      <td>0.0</td>\n",
              "      <td>0.206665</td>\n",
              "      <td>0.0</td>\n",
              "      <td>0.000000</td>\n",
              "      <td>0.0</td>\n",
              "      <td>0.0</td>\n",
              "      <td>0.0</td>\n",
              "      <td>0.0</td>\n",
              "      <td>0.0</td>\n",
              "      <td>0.0</td>\n",
              "      <td>0.0</td>\n",
              "      <td>0.0</td>\n",
              "      <td>0.000000</td>\n",
              "      <td>0.0</td>\n",
              "      <td>0.316059</td>\n",
              "      <td>0.0</td>\n",
              "      <td>0.0</td>\n",
              "      <td>0.0</td>\n",
              "      <td>...</td>\n",
              "      <td>0.0</td>\n",
              "      <td>0.0</td>\n",
              "      <td>0.0</td>\n",
              "      <td>0.0</td>\n",
              "      <td>0.0</td>\n",
              "      <td>0.0</td>\n",
              "      <td>0.0</td>\n",
              "      <td>0.0</td>\n",
              "      <td>0.0</td>\n",
              "      <td>0.0</td>\n",
              "      <td>0.0</td>\n",
              "      <td>0.0</td>\n",
              "      <td>0.0</td>\n",
              "      <td>0.0</td>\n",
              "      <td>0.0</td>\n",
              "      <td>0.0</td>\n",
              "      <td>0.0</td>\n",
              "      <td>0.0</td>\n",
              "      <td>0.000000</td>\n",
              "      <td>0.00000</td>\n",
              "      <td>0.0</td>\n",
              "      <td>0.0</td>\n",
              "      <td>0.0</td>\n",
              "      <td>0.0</td>\n",
              "      <td>0.0</td>\n",
              "      <td>0.0</td>\n",
              "      <td>0.0</td>\n",
              "      <td>0.251188</td>\n",
              "      <td>0.273182</td>\n",
              "      <td>0.0</td>\n",
              "      <td>0.0</td>\n",
              "      <td>0.0</td>\n",
              "      <td>0.0</td>\n",
              "      <td>0.0</td>\n",
              "      <td>0.0</td>\n",
              "      <td>0.0</td>\n",
              "      <td>0.0</td>\n",
              "      <td>0.0</td>\n",
              "      <td>0.0</td>\n",
              "      <td>0.0</td>\n",
              "    </tr>\n",
              "    <tr>\n",
              "      <th>1</th>\n",
              "      <td>0.0</td>\n",
              "      <td>0.0</td>\n",
              "      <td>0.0</td>\n",
              "      <td>0.0</td>\n",
              "      <td>0.000000</td>\n",
              "      <td>0.000000</td>\n",
              "      <td>0.0</td>\n",
              "      <td>0.0</td>\n",
              "      <td>0.0</td>\n",
              "      <td>0.0</td>\n",
              "      <td>0.0</td>\n",
              "      <td>0.0</td>\n",
              "      <td>0.0</td>\n",
              "      <td>0.0</td>\n",
              "      <td>0.0</td>\n",
              "      <td>0.0</td>\n",
              "      <td>0.0</td>\n",
              "      <td>0.0</td>\n",
              "      <td>0.0</td>\n",
              "      <td>0.0</td>\n",
              "      <td>0.0</td>\n",
              "      <td>0.0</td>\n",
              "      <td>0.0</td>\n",
              "      <td>0.000000</td>\n",
              "      <td>0.0</td>\n",
              "      <td>0.000000</td>\n",
              "      <td>0.0</td>\n",
              "      <td>0.0</td>\n",
              "      <td>0.0</td>\n",
              "      <td>0.0</td>\n",
              "      <td>0.0</td>\n",
              "      <td>0.0</td>\n",
              "      <td>0.0</td>\n",
              "      <td>0.0</td>\n",
              "      <td>0.000000</td>\n",
              "      <td>0.0</td>\n",
              "      <td>0.000000</td>\n",
              "      <td>0.0</td>\n",
              "      <td>0.0</td>\n",
              "      <td>0.0</td>\n",
              "      <td>...</td>\n",
              "      <td>0.0</td>\n",
              "      <td>0.0</td>\n",
              "      <td>0.0</td>\n",
              "      <td>0.0</td>\n",
              "      <td>0.0</td>\n",
              "      <td>0.0</td>\n",
              "      <td>0.0</td>\n",
              "      <td>0.0</td>\n",
              "      <td>0.0</td>\n",
              "      <td>0.0</td>\n",
              "      <td>0.0</td>\n",
              "      <td>0.0</td>\n",
              "      <td>0.0</td>\n",
              "      <td>0.0</td>\n",
              "      <td>0.0</td>\n",
              "      <td>0.0</td>\n",
              "      <td>0.0</td>\n",
              "      <td>0.0</td>\n",
              "      <td>0.000000</td>\n",
              "      <td>0.00000</td>\n",
              "      <td>0.0</td>\n",
              "      <td>0.0</td>\n",
              "      <td>0.0</td>\n",
              "      <td>0.0</td>\n",
              "      <td>0.0</td>\n",
              "      <td>0.0</td>\n",
              "      <td>0.0</td>\n",
              "      <td>0.000000</td>\n",
              "      <td>0.000000</td>\n",
              "      <td>0.0</td>\n",
              "      <td>0.0</td>\n",
              "      <td>0.0</td>\n",
              "      <td>0.0</td>\n",
              "      <td>0.0</td>\n",
              "      <td>0.0</td>\n",
              "      <td>0.0</td>\n",
              "      <td>0.0</td>\n",
              "      <td>0.0</td>\n",
              "      <td>0.0</td>\n",
              "      <td>0.0</td>\n",
              "    </tr>\n",
              "    <tr>\n",
              "      <th>2</th>\n",
              "      <td>0.0</td>\n",
              "      <td>0.0</td>\n",
              "      <td>0.0</td>\n",
              "      <td>0.0</td>\n",
              "      <td>0.000000</td>\n",
              "      <td>0.000000</td>\n",
              "      <td>0.0</td>\n",
              "      <td>0.0</td>\n",
              "      <td>0.0</td>\n",
              "      <td>0.0</td>\n",
              "      <td>0.0</td>\n",
              "      <td>0.0</td>\n",
              "      <td>0.0</td>\n",
              "      <td>0.0</td>\n",
              "      <td>0.0</td>\n",
              "      <td>0.0</td>\n",
              "      <td>0.0</td>\n",
              "      <td>0.0</td>\n",
              "      <td>0.0</td>\n",
              "      <td>0.0</td>\n",
              "      <td>0.0</td>\n",
              "      <td>0.0</td>\n",
              "      <td>0.0</td>\n",
              "      <td>0.358595</td>\n",
              "      <td>0.0</td>\n",
              "      <td>0.000000</td>\n",
              "      <td>0.0</td>\n",
              "      <td>0.0</td>\n",
              "      <td>0.0</td>\n",
              "      <td>0.0</td>\n",
              "      <td>0.0</td>\n",
              "      <td>0.0</td>\n",
              "      <td>0.0</td>\n",
              "      <td>0.0</td>\n",
              "      <td>0.337083</td>\n",
              "      <td>0.0</td>\n",
              "      <td>0.000000</td>\n",
              "      <td>0.0</td>\n",
              "      <td>0.0</td>\n",
              "      <td>0.0</td>\n",
              "      <td>...</td>\n",
              "      <td>0.0</td>\n",
              "      <td>0.0</td>\n",
              "      <td>0.0</td>\n",
              "      <td>0.0</td>\n",
              "      <td>0.0</td>\n",
              "      <td>0.0</td>\n",
              "      <td>0.0</td>\n",
              "      <td>0.0</td>\n",
              "      <td>0.0</td>\n",
              "      <td>0.0</td>\n",
              "      <td>0.0</td>\n",
              "      <td>0.0</td>\n",
              "      <td>0.0</td>\n",
              "      <td>0.0</td>\n",
              "      <td>0.0</td>\n",
              "      <td>0.0</td>\n",
              "      <td>0.0</td>\n",
              "      <td>0.0</td>\n",
              "      <td>0.000000</td>\n",
              "      <td>0.00000</td>\n",
              "      <td>0.0</td>\n",
              "      <td>0.0</td>\n",
              "      <td>0.0</td>\n",
              "      <td>0.0</td>\n",
              "      <td>0.0</td>\n",
              "      <td>0.0</td>\n",
              "      <td>0.0</td>\n",
              "      <td>0.000000</td>\n",
              "      <td>0.000000</td>\n",
              "      <td>0.0</td>\n",
              "      <td>0.0</td>\n",
              "      <td>0.0</td>\n",
              "      <td>0.0</td>\n",
              "      <td>0.0</td>\n",
              "      <td>0.0</td>\n",
              "      <td>0.0</td>\n",
              "      <td>0.0</td>\n",
              "      <td>0.0</td>\n",
              "      <td>0.0</td>\n",
              "      <td>0.0</td>\n",
              "    </tr>\n",
              "    <tr>\n",
              "      <th>3</th>\n",
              "      <td>0.0</td>\n",
              "      <td>0.0</td>\n",
              "      <td>0.0</td>\n",
              "      <td>0.0</td>\n",
              "      <td>0.000000</td>\n",
              "      <td>0.000000</td>\n",
              "      <td>0.0</td>\n",
              "      <td>0.0</td>\n",
              "      <td>0.0</td>\n",
              "      <td>0.0</td>\n",
              "      <td>0.0</td>\n",
              "      <td>0.0</td>\n",
              "      <td>0.0</td>\n",
              "      <td>0.0</td>\n",
              "      <td>0.0</td>\n",
              "      <td>0.0</td>\n",
              "      <td>0.0</td>\n",
              "      <td>0.0</td>\n",
              "      <td>0.0</td>\n",
              "      <td>0.0</td>\n",
              "      <td>0.0</td>\n",
              "      <td>0.0</td>\n",
              "      <td>0.0</td>\n",
              "      <td>0.388436</td>\n",
              "      <td>0.0</td>\n",
              "      <td>0.366777</td>\n",
              "      <td>0.0</td>\n",
              "      <td>0.0</td>\n",
              "      <td>0.0</td>\n",
              "      <td>0.0</td>\n",
              "      <td>0.0</td>\n",
              "      <td>0.0</td>\n",
              "      <td>0.0</td>\n",
              "      <td>0.0</td>\n",
              "      <td>0.000000</td>\n",
              "      <td>0.0</td>\n",
              "      <td>0.000000</td>\n",
              "      <td>0.0</td>\n",
              "      <td>0.0</td>\n",
              "      <td>0.0</td>\n",
              "      <td>...</td>\n",
              "      <td>0.0</td>\n",
              "      <td>0.0</td>\n",
              "      <td>0.0</td>\n",
              "      <td>0.0</td>\n",
              "      <td>0.0</td>\n",
              "      <td>0.0</td>\n",
              "      <td>0.0</td>\n",
              "      <td>0.0</td>\n",
              "      <td>0.0</td>\n",
              "      <td>0.0</td>\n",
              "      <td>0.0</td>\n",
              "      <td>0.0</td>\n",
              "      <td>0.0</td>\n",
              "      <td>0.0</td>\n",
              "      <td>0.0</td>\n",
              "      <td>0.0</td>\n",
              "      <td>0.0</td>\n",
              "      <td>0.0</td>\n",
              "      <td>0.387237</td>\n",
              "      <td>0.39604</td>\n",
              "      <td>0.0</td>\n",
              "      <td>0.0</td>\n",
              "      <td>0.0</td>\n",
              "      <td>0.0</td>\n",
              "      <td>0.0</td>\n",
              "      <td>0.0</td>\n",
              "      <td>0.0</td>\n",
              "      <td>0.000000</td>\n",
              "      <td>0.000000</td>\n",
              "      <td>0.0</td>\n",
              "      <td>0.0</td>\n",
              "      <td>0.0</td>\n",
              "      <td>0.0</td>\n",
              "      <td>0.0</td>\n",
              "      <td>0.0</td>\n",
              "      <td>0.0</td>\n",
              "      <td>0.0</td>\n",
              "      <td>0.0</td>\n",
              "      <td>0.0</td>\n",
              "      <td>0.0</td>\n",
              "    </tr>\n",
              "    <tr>\n",
              "      <th>4</th>\n",
              "      <td>0.0</td>\n",
              "      <td>0.0</td>\n",
              "      <td>0.0</td>\n",
              "      <td>0.0</td>\n",
              "      <td>0.000000</td>\n",
              "      <td>0.000000</td>\n",
              "      <td>0.0</td>\n",
              "      <td>0.0</td>\n",
              "      <td>0.0</td>\n",
              "      <td>0.0</td>\n",
              "      <td>0.0</td>\n",
              "      <td>0.0</td>\n",
              "      <td>0.0</td>\n",
              "      <td>0.0</td>\n",
              "      <td>0.0</td>\n",
              "      <td>0.0</td>\n",
              "      <td>0.0</td>\n",
              "      <td>0.0</td>\n",
              "      <td>0.0</td>\n",
              "      <td>0.0</td>\n",
              "      <td>0.0</td>\n",
              "      <td>0.0</td>\n",
              "      <td>0.0</td>\n",
              "      <td>0.393333</td>\n",
              "      <td>0.0</td>\n",
              "      <td>0.371401</td>\n",
              "      <td>0.0</td>\n",
              "      <td>0.0</td>\n",
              "      <td>0.0</td>\n",
              "      <td>0.0</td>\n",
              "      <td>0.0</td>\n",
              "      <td>0.0</td>\n",
              "      <td>0.0</td>\n",
              "      <td>0.0</td>\n",
              "      <td>0.000000</td>\n",
              "      <td>0.0</td>\n",
              "      <td>0.000000</td>\n",
              "      <td>0.0</td>\n",
              "      <td>0.0</td>\n",
              "      <td>0.0</td>\n",
              "      <td>...</td>\n",
              "      <td>0.0</td>\n",
              "      <td>0.0</td>\n",
              "      <td>0.0</td>\n",
              "      <td>0.0</td>\n",
              "      <td>0.0</td>\n",
              "      <td>0.0</td>\n",
              "      <td>0.0</td>\n",
              "      <td>0.0</td>\n",
              "      <td>0.0</td>\n",
              "      <td>0.0</td>\n",
              "      <td>0.0</td>\n",
              "      <td>0.0</td>\n",
              "      <td>0.0</td>\n",
              "      <td>0.0</td>\n",
              "      <td>0.0</td>\n",
              "      <td>0.0</td>\n",
              "      <td>0.0</td>\n",
              "      <td>0.0</td>\n",
              "      <td>0.000000</td>\n",
              "      <td>0.00000</td>\n",
              "      <td>0.0</td>\n",
              "      <td>0.0</td>\n",
              "      <td>0.0</td>\n",
              "      <td>0.0</td>\n",
              "      <td>0.0</td>\n",
              "      <td>0.0</td>\n",
              "      <td>0.0</td>\n",
              "      <td>0.000000</td>\n",
              "      <td>0.000000</td>\n",
              "      <td>0.0</td>\n",
              "      <td>0.0</td>\n",
              "      <td>0.0</td>\n",
              "      <td>0.0</td>\n",
              "      <td>0.0</td>\n",
              "      <td>0.0</td>\n",
              "      <td>0.0</td>\n",
              "      <td>0.0</td>\n",
              "      <td>0.0</td>\n",
              "      <td>0.0</td>\n",
              "      <td>0.0</td>\n",
              "    </tr>\n",
              "  </tbody>\n",
              "</table>\n",
              "<p>5 rows × 722 columns</p>\n",
              "</div>"
            ],
            "text/plain": [
              "   abuse  abuse power  active  activist  ...  woman ground  woman shoot  wound  yell\n",
              "0    0.0          0.0     0.0       0.0  ...           0.0          0.0    0.0   0.0\n",
              "1    0.0          0.0     0.0       0.0  ...           0.0          0.0    0.0   0.0\n",
              "2    0.0          0.0     0.0       0.0  ...           0.0          0.0    0.0   0.0\n",
              "3    0.0          0.0     0.0       0.0  ...           0.0          0.0    0.0   0.0\n",
              "4    0.0          0.0     0.0       0.0  ...           0.0          0.0    0.0   0.0\n",
              "\n",
              "[5 rows x 722 columns]"
            ]
          },
          "metadata": {
            "tags": []
          },
          "execution_count": 14
        }
      ]
    },
    {
      "cell_type": "markdown",
      "metadata": {
        "id": "HowVtPwLKQ7x"
      },
      "source": [
        "##Twitter EDA\n",
        "\n",
        "Including tweets is challenging because we need to sift through a lot of data to find relevant posts. These tweets were scraped using 'police' as a filter, and the filter could be more customized. \n",
        "\n",
        "We need to compare tweet data with the 846 data and remove duplicates. One way to do this is by comparing links, however not every tweet includes a link. Another idea is to compare geo location but not every tweet includes a cooordinates, and more than one event can take place at the same coordinates. "
      ]
    },
    {
      "cell_type": "code",
      "metadata": {
        "id": "Y79cPgEaKUMi"
      },
      "source": [
        "#freshly scraped tweets\n",
        "\n",
        "tweet_df = pd.read_csv('tweets.csv')"
      ],
      "execution_count": 15,
      "outputs": []
    },
    {
      "cell_type": "code",
      "metadata": {
        "colab": {
          "base_uri": "https://localhost:8080/"
        },
        "id": "uFN8C6bQKxsI",
        "outputId": "2ea8b92d-ecd8-4f69-cc70-4c689dae50e9"
      },
      "source": [
        "tweet_df.shape"
      ],
      "execution_count": 16,
      "outputs": [
        {
          "output_type": "execute_result",
          "data": {
            "text/plain": [
              "(1572, 12)"
            ]
          },
          "metadata": {
            "tags": []
          },
          "execution_count": 16
        }
      ]
    },
    {
      "cell_type": "code",
      "metadata": {
        "colab": {
          "base_uri": "https://localhost:8080/",
          "height": 428
        },
        "id": "pjqlGvWgK1FP",
        "outputId": "599d68ff-af48-4f3c-aeab-f16a99bd209d"
      },
      "source": [
        "tweet_df.head()"
      ],
      "execution_count": 17,
      "outputs": [
        {
          "output_type": "execute_result",
          "data": {
            "text/html": [
              "<div>\n",
              "<style scoped>\n",
              "    .dataframe tbody tr th:only-of-type {\n",
              "        vertical-align: middle;\n",
              "    }\n",
              "\n",
              "    .dataframe tbody tr th {\n",
              "        vertical-align: top;\n",
              "    }\n",
              "\n",
              "    .dataframe thead th {\n",
              "        text-align: right;\n",
              "    }\n",
              "</style>\n",
              "<table border=\"1\" class=\"dataframe\">\n",
              "  <thead>\n",
              "    <tr style=\"text-align: right;\">\n",
              "      <th></th>\n",
              "      <th>id</th>\n",
              "      <th>user_description</th>\n",
              "      <th>user_location</th>\n",
              "      <th>coordinates</th>\n",
              "      <th>text</th>\n",
              "      <th>geo</th>\n",
              "      <th>user_name</th>\n",
              "      <th>user_created</th>\n",
              "      <th>id_str</th>\n",
              "      <th>created</th>\n",
              "      <th>source</th>\n",
              "      <th>language</th>\n",
              "    </tr>\n",
              "  </thead>\n",
              "  <tbody>\n",
              "    <tr>\n",
              "      <th>0</th>\n",
              "      <td>1</td>\n",
              "      <td>Latest News, World News, USA News, Technology ...</td>\n",
              "      <td>USA</td>\n",
              "      <td>NaN</td>\n",
              "      <td>Police Chief Who Backed Costs In opposition to...</td>\n",
              "      <td>NaN</td>\n",
              "      <td>LatestN72062740</td>\n",
              "      <td>2020-08-05T09:02:41</td>\n",
              "      <td>1328916595457069057</td>\n",
              "      <td>2020-11-18T04:23:01</td>\n",
              "      <td>https://latestnews.in.net</td>\n",
              "      <td>en</td>\n",
              "    </tr>\n",
              "    <tr>\n",
              "      <th>1</th>\n",
              "      <td>2</td>\n",
              "      <td>NaN</td>\n",
              "      <td>California, USA</td>\n",
              "      <td>NaN</td>\n",
              "      <td>ABSOLUTELY MADDENING!</td>\n",
              "      <td>NaN</td>\n",
              "      <td>RedLola2017</td>\n",
              "      <td>2018-08-17T19:57:20</td>\n",
              "      <td>1328916601047904259</td>\n",
              "      <td>2020-11-18T04:23:02</td>\n",
              "      <td>NaN</td>\n",
              "      <td>en</td>\n",
              "    </tr>\n",
              "    <tr>\n",
              "      <th>2</th>\n",
              "      <td>3</td>\n",
              "      <td>Justin Trudeau is an imbecile, national disgra...</td>\n",
              "      <td>C eh N eh D eh</td>\n",
              "      <td>NaN</td>\n",
              "      <td>@NitraQueen @BrianPallister Economic suicide a...</td>\n",
              "      <td>NaN</td>\n",
              "      <td>scannon_lou</td>\n",
              "      <td>2020-02-23T04:31:57</td>\n",
              "      <td>1328916605150007298</td>\n",
              "      <td>2020-11-18T04:23:03</td>\n",
              "      <td>NaN</td>\n",
              "      <td>en</td>\n",
              "    </tr>\n",
              "    <tr>\n",
              "      <th>3</th>\n",
              "      <td>4</td>\n",
              "      <td>I block for logical fallacies. #HumansAreAnimals</td>\n",
              "      <td>Miami Lakes, FL</td>\n",
              "      <td>NaN</td>\n",
              "      <td>@OScottHartman @allymayn Walter Cronkite looke...</td>\n",
              "      <td>NaN</td>\n",
              "      <td>Streamheat</td>\n",
              "      <td>2009-03-21T16:28:54</td>\n",
              "      <td>1328916607570243584</td>\n",
              "      <td>2020-11-18T04:23:03</td>\n",
              "      <td>NaN</td>\n",
              "      <td>en</td>\n",
              "    </tr>\n",
              "    <tr>\n",
              "      <th>4</th>\n",
              "      <td>5</td>\n",
              "      <td>NaN</td>\n",
              "      <td>NaN</td>\n",
              "      <td>NaN</td>\n",
              "      <td>Shame on you, TH government and who involved w...</td>\n",
              "      <td>NaN</td>\n",
              "      <td>Zwartkat1</td>\n",
              "      <td>2019-11-08T05:49:49</td>\n",
              "      <td>1328916608434073600</td>\n",
              "      <td>2020-11-18T04:23:04</td>\n",
              "      <td>NaN</td>\n",
              "      <td>en</td>\n",
              "    </tr>\n",
              "  </tbody>\n",
              "</table>\n",
              "</div>"
            ],
            "text/plain": [
              "   id  ... language\n",
              "0   1  ...       en\n",
              "1   2  ...       en\n",
              "2   3  ...       en\n",
              "3   4  ...       en\n",
              "4   5  ...       en\n",
              "\n",
              "[5 rows x 12 columns]"
            ]
          },
          "metadata": {
            "tags": []
          },
          "execution_count": 17
        }
      ]
    },
    {
      "cell_type": "code",
      "metadata": {
        "id": "lePuUkBDl5gT"
      },
      "source": [
        "#filter out non-english posts. This can also be done \n",
        "# by adjusting the twitter scraper\n",
        "\n",
        "tweet_df = tweet_df[tweet_df['language'] == 'en']"
      ],
      "execution_count": 18,
      "outputs": []
    },
    {
      "cell_type": "code",
      "metadata": {
        "colab": {
          "base_uri": "https://localhost:8080/",
          "height": 428
        },
        "id": "z3EOxrcHoQsQ",
        "outputId": "1d5ca371-6dd0-4cbf-d464-19af8ab075df"
      },
      "source": [
        "tweet_df.head()"
      ],
      "execution_count": 22,
      "outputs": [
        {
          "output_type": "execute_result",
          "data": {
            "text/html": [
              "<div>\n",
              "<style scoped>\n",
              "    .dataframe tbody tr th:only-of-type {\n",
              "        vertical-align: middle;\n",
              "    }\n",
              "\n",
              "    .dataframe tbody tr th {\n",
              "        vertical-align: top;\n",
              "    }\n",
              "\n",
              "    .dataframe thead th {\n",
              "        text-align: right;\n",
              "    }\n",
              "</style>\n",
              "<table border=\"1\" class=\"dataframe\">\n",
              "  <thead>\n",
              "    <tr style=\"text-align: right;\">\n",
              "      <th></th>\n",
              "      <th>id</th>\n",
              "      <th>user_description</th>\n",
              "      <th>user_location</th>\n",
              "      <th>coordinates</th>\n",
              "      <th>text</th>\n",
              "      <th>geo</th>\n",
              "      <th>user_name</th>\n",
              "      <th>user_created</th>\n",
              "      <th>id_str</th>\n",
              "      <th>created</th>\n",
              "      <th>source</th>\n",
              "      <th>language</th>\n",
              "    </tr>\n",
              "  </thead>\n",
              "  <tbody>\n",
              "    <tr>\n",
              "      <th>0</th>\n",
              "      <td>1</td>\n",
              "      <td>Latest News, World News, USA News, Technology ...</td>\n",
              "      <td>USA</td>\n",
              "      <td>NaN</td>\n",
              "      <td>Police Chief Who Backed Costs In opposition to...</td>\n",
              "      <td>NaN</td>\n",
              "      <td>LatestN72062740</td>\n",
              "      <td>2020-08-05T09:02:41</td>\n",
              "      <td>1328916595457069057</td>\n",
              "      <td>2020-11-18T04:23:01</td>\n",
              "      <td>https://latestnews.in.net</td>\n",
              "      <td>en</td>\n",
              "    </tr>\n",
              "    <tr>\n",
              "      <th>1</th>\n",
              "      <td>2</td>\n",
              "      <td>NaN</td>\n",
              "      <td>California, USA</td>\n",
              "      <td>NaN</td>\n",
              "      <td>ABSOLUTELY MADDENING!</td>\n",
              "      <td>NaN</td>\n",
              "      <td>RedLola2017</td>\n",
              "      <td>2018-08-17T19:57:20</td>\n",
              "      <td>1328916601047904259</td>\n",
              "      <td>2020-11-18T04:23:02</td>\n",
              "      <td>NaN</td>\n",
              "      <td>en</td>\n",
              "    </tr>\n",
              "    <tr>\n",
              "      <th>2</th>\n",
              "      <td>3</td>\n",
              "      <td>Justin Trudeau is an imbecile, national disgra...</td>\n",
              "      <td>C eh N eh D eh</td>\n",
              "      <td>NaN</td>\n",
              "      <td>@NitraQueen @BrianPallister Economic suicide a...</td>\n",
              "      <td>NaN</td>\n",
              "      <td>scannon_lou</td>\n",
              "      <td>2020-02-23T04:31:57</td>\n",
              "      <td>1328916605150007298</td>\n",
              "      <td>2020-11-18T04:23:03</td>\n",
              "      <td>NaN</td>\n",
              "      <td>en</td>\n",
              "    </tr>\n",
              "    <tr>\n",
              "      <th>3</th>\n",
              "      <td>4</td>\n",
              "      <td>I block for logical fallacies. #HumansAreAnimals</td>\n",
              "      <td>Miami Lakes, FL</td>\n",
              "      <td>NaN</td>\n",
              "      <td>@OScottHartman @allymayn Walter Cronkite looke...</td>\n",
              "      <td>NaN</td>\n",
              "      <td>Streamheat</td>\n",
              "      <td>2009-03-21T16:28:54</td>\n",
              "      <td>1328916607570243584</td>\n",
              "      <td>2020-11-18T04:23:03</td>\n",
              "      <td>NaN</td>\n",
              "      <td>en</td>\n",
              "    </tr>\n",
              "    <tr>\n",
              "      <th>4</th>\n",
              "      <td>5</td>\n",
              "      <td>NaN</td>\n",
              "      <td>NaN</td>\n",
              "      <td>NaN</td>\n",
              "      <td>Shame on you, TH government and who involved w...</td>\n",
              "      <td>NaN</td>\n",
              "      <td>Zwartkat1</td>\n",
              "      <td>2019-11-08T05:49:49</td>\n",
              "      <td>1328916608434073600</td>\n",
              "      <td>2020-11-18T04:23:04</td>\n",
              "      <td>NaN</td>\n",
              "      <td>en</td>\n",
              "    </tr>\n",
              "  </tbody>\n",
              "</table>\n",
              "</div>"
            ],
            "text/plain": [
              "   id  ... language\n",
              "0   1  ...       en\n",
              "1   2  ...       en\n",
              "2   3  ...       en\n",
              "3   4  ...       en\n",
              "4   5  ...       en\n",
              "\n",
              "[5 rows x 12 columns]"
            ]
          },
          "metadata": {
            "tags": []
          },
          "execution_count": 22
        }
      ]
    },
    {
      "cell_type": "code",
      "metadata": {
        "id": "i18nU4xERINp"
      },
      "source": [
        "#tokenize tweets, may be used to find similar headlines\n",
        "\n",
        "tweet_df['tokens'] = tweet_df['text'].apply(tokenize)"
      ],
      "execution_count": 23,
      "outputs": []
    },
    {
      "cell_type": "code",
      "metadata": {
        "colab": {
          "base_uri": "https://localhost:8080/"
        },
        "id": "sCTez3MaRJLa",
        "outputId": "5e8c15f4-f5fb-4639-de76-d9fe045b478c"
      },
      "source": [
        "tweet_df['tokens'].head() "
      ],
      "execution_count": 24,
      "outputs": [
        {
          "output_type": "execute_result",
          "data": {
            "text/plain": [
              "0    [police, Chief, back, cost, opposition, Lawmak...\n",
              "1                              [ABSOLUTELY, maddening]\n",
              "2    [@nitraqueen, @brianpallister, economic, suici...\n",
              "3    [@oscotthartman, @allymayn, Walter, Cronkite, ...\n",
              "4    [shame, th, government, involve, violent, peop...\n",
              "Name: tokens, dtype: object"
            ]
          },
          "metadata": {
            "tags": []
          },
          "execution_count": 24
        }
      ]
    },
    {
      "cell_type": "code",
      "metadata": {
        "colab": {
          "base_uri": "https://localhost:8080/",
          "height": 445
        },
        "id": "Xai9jggD7R-e",
        "outputId": "fd9271f4-2839-4a33-8b53-562982415ba5"
      },
      "source": [
        "tweet_df.head()"
      ],
      "execution_count": 25,
      "outputs": [
        {
          "output_type": "execute_result",
          "data": {
            "text/html": [
              "<div>\n",
              "<style scoped>\n",
              "    .dataframe tbody tr th:only-of-type {\n",
              "        vertical-align: middle;\n",
              "    }\n",
              "\n",
              "    .dataframe tbody tr th {\n",
              "        vertical-align: top;\n",
              "    }\n",
              "\n",
              "    .dataframe thead th {\n",
              "        text-align: right;\n",
              "    }\n",
              "</style>\n",
              "<table border=\"1\" class=\"dataframe\">\n",
              "  <thead>\n",
              "    <tr style=\"text-align: right;\">\n",
              "      <th></th>\n",
              "      <th>id</th>\n",
              "      <th>user_description</th>\n",
              "      <th>user_location</th>\n",
              "      <th>coordinates</th>\n",
              "      <th>text</th>\n",
              "      <th>geo</th>\n",
              "      <th>user_name</th>\n",
              "      <th>user_created</th>\n",
              "      <th>id_str</th>\n",
              "      <th>created</th>\n",
              "      <th>source</th>\n",
              "      <th>language</th>\n",
              "      <th>tokens</th>\n",
              "    </tr>\n",
              "  </thead>\n",
              "  <tbody>\n",
              "    <tr>\n",
              "      <th>0</th>\n",
              "      <td>1</td>\n",
              "      <td>Latest News, World News, USA News, Technology ...</td>\n",
              "      <td>USA</td>\n",
              "      <td>NaN</td>\n",
              "      <td>Police Chief Who Backed Costs In opposition to...</td>\n",
              "      <td>NaN</td>\n",
              "      <td>LatestN72062740</td>\n",
              "      <td>2020-08-05T09:02:41</td>\n",
              "      <td>1328916595457069057</td>\n",
              "      <td>2020-11-18T04:23:01</td>\n",
              "      <td>https://latestnews.in.net</td>\n",
              "      <td>en</td>\n",
              "      <td>[police, Chief, back, cost, opposition, Lawmak...</td>\n",
              "    </tr>\n",
              "    <tr>\n",
              "      <th>1</th>\n",
              "      <td>2</td>\n",
              "      <td>NaN</td>\n",
              "      <td>California, USA</td>\n",
              "      <td>NaN</td>\n",
              "      <td>ABSOLUTELY MADDENING!</td>\n",
              "      <td>NaN</td>\n",
              "      <td>RedLola2017</td>\n",
              "      <td>2018-08-17T19:57:20</td>\n",
              "      <td>1328916601047904259</td>\n",
              "      <td>2020-11-18T04:23:02</td>\n",
              "      <td>NaN</td>\n",
              "      <td>en</td>\n",
              "      <td>[ABSOLUTELY, maddening]</td>\n",
              "    </tr>\n",
              "    <tr>\n",
              "      <th>2</th>\n",
              "      <td>3</td>\n",
              "      <td>Justin Trudeau is an imbecile, national disgra...</td>\n",
              "      <td>C eh N eh D eh</td>\n",
              "      <td>NaN</td>\n",
              "      <td>@NitraQueen @BrianPallister Economic suicide a...</td>\n",
              "      <td>NaN</td>\n",
              "      <td>scannon_lou</td>\n",
              "      <td>2020-02-23T04:31:57</td>\n",
              "      <td>1328916605150007298</td>\n",
              "      <td>2020-11-18T04:23:03</td>\n",
              "      <td>NaN</td>\n",
              "      <td>en</td>\n",
              "      <td>[@nitraqueen, @brianpallister, economic, suici...</td>\n",
              "    </tr>\n",
              "    <tr>\n",
              "      <th>3</th>\n",
              "      <td>4</td>\n",
              "      <td>I block for logical fallacies. #HumansAreAnimals</td>\n",
              "      <td>Miami Lakes, FL</td>\n",
              "      <td>NaN</td>\n",
              "      <td>@OScottHartman @allymayn Walter Cronkite looke...</td>\n",
              "      <td>NaN</td>\n",
              "      <td>Streamheat</td>\n",
              "      <td>2009-03-21T16:28:54</td>\n",
              "      <td>1328916607570243584</td>\n",
              "      <td>2020-11-18T04:23:03</td>\n",
              "      <td>NaN</td>\n",
              "      <td>en</td>\n",
              "      <td>[@oscotthartman, @allymayn, Walter, Cronkite, ...</td>\n",
              "    </tr>\n",
              "    <tr>\n",
              "      <th>4</th>\n",
              "      <td>5</td>\n",
              "      <td>NaN</td>\n",
              "      <td>NaN</td>\n",
              "      <td>NaN</td>\n",
              "      <td>Shame on you, TH government and who involved w...</td>\n",
              "      <td>NaN</td>\n",
              "      <td>Zwartkat1</td>\n",
              "      <td>2019-11-08T05:49:49</td>\n",
              "      <td>1328916608434073600</td>\n",
              "      <td>2020-11-18T04:23:04</td>\n",
              "      <td>NaN</td>\n",
              "      <td>en</td>\n",
              "      <td>[shame, th, government, involve, violent, peop...</td>\n",
              "    </tr>\n",
              "  </tbody>\n",
              "</table>\n",
              "</div>"
            ],
            "text/plain": [
              "   id  ...                                             tokens\n",
              "0   1  ...  [police, Chief, back, cost, opposition, Lawmak...\n",
              "1   2  ...                            [ABSOLUTELY, maddening]\n",
              "2   3  ...  [@nitraqueen, @brianpallister, economic, suici...\n",
              "3   4  ...  [@oscotthartman, @allymayn, Walter, Cronkite, ...\n",
              "4   5  ...  [shame, th, government, involve, violent, peop...\n",
              "\n",
              "[5 rows x 13 columns]"
            ]
          },
          "metadata": {
            "tags": []
          },
          "execution_count": 25
        }
      ]
    },
    {
      "cell_type": "markdown",
      "metadata": {
        "id": "8Gqt0axdpSXR"
      },
      "source": [
        "##Drop duplicate links\n",
        "\n",
        "We are using the 846 column to check for duplicates in the twitter dataframe"
      ]
    },
    {
      "cell_type": "code",
      "metadata": {
        "id": "ZtiuSvR1pdZ-"
      },
      "source": [
        "#pull out new df with links only from 846 to compare with Twitter\n",
        "\n",
        "df_src = df_846['links']"
      ],
      "execution_count": 26,
      "outputs": []
    },
    {
      "cell_type": "code",
      "metadata": {
        "colab": {
          "base_uri": "https://localhost:8080/"
        },
        "id": "mP53zqX2q9Kr",
        "outputId": "b5b72040-4e78-493a-9297-9f7112937b7e"
      },
      "source": [
        "df_src.head()"
      ],
      "execution_count": 27,
      "outputs": [
        {
          "output_type": "execute_result",
          "data": {
            "text/plain": [
              "0    [https://twitter.com/AdamnCostelloTV/status/13...\n",
              "1    [https://twitter.com/Cascadianphotog/status/13...\n",
              "2    [https://twitter.com/ByMikeBaker/status/132420...\n",
              "3    [https://twitter.com/TheRealCoryElia/status/13...\n",
              "4    [https://mobile.twitter.com/jovannithe1st/stat...\n",
              "Name: links, dtype: object"
            ]
          },
          "metadata": {
            "tags": []
          },
          "execution_count": 27
        }
      ]
    },
    {
      "cell_type": "code",
      "metadata": {
        "id": "VZ7bQcecrFRB"
      },
      "source": [
        "df_src = df_src.explode('src').drop_duplicates()"
      ],
      "execution_count": 28,
      "outputs": []
    },
    {
      "cell_type": "code",
      "metadata": {
        "colab": {
          "base_uri": "https://localhost:8080/"
        },
        "id": "foyGdk7qrRuE",
        "outputId": "608cf29b-e4f4-443c-9915-63dd909cc048"
      },
      "source": [
        "df_src.shape"
      ],
      "execution_count": 29,
      "outputs": [
        {
          "output_type": "execute_result",
          "data": {
            "text/plain": [
              "(3428,)"
            ]
          },
          "metadata": {
            "tags": []
          },
          "execution_count": 29
        }
      ]
    },
    {
      "cell_type": "code",
      "metadata": {
        "colab": {
          "base_uri": "https://localhost:8080/"
        },
        "id": "_eiw1zVIrTd1",
        "outputId": "953d31ea-e093-4e5a-9ab2-698f8d95ce40"
      },
      "source": [
        "df_src.head()"
      ],
      "execution_count": 30,
      "outputs": [
        {
          "output_type": "execute_result",
          "data": {
            "text/plain": [
              "0    https://twitter.com/AdamnCostelloTV/status/132...\n",
              "1    https://twitter.com/BoopTroopEugene/status/132...\n",
              "2    https://twitter.com/PDocumentarians/status/132...\n",
              "3    https://twitter.com/Cascadianphotog/status/132...\n",
              "4    https://twitter.com/ByMikeBaker/status/1324187...\n",
              "Name: links, dtype: object"
            ]
          },
          "metadata": {
            "tags": []
          },
          "execution_count": 30
        }
      ]
    },
    {
      "cell_type": "code",
      "metadata": {
        "id": "6xrv-5YUJior"
      },
      "source": [
        "#add list as column\n",
        "tweet_df['src846'] = df_src"
      ],
      "execution_count": 31,
      "outputs": []
    },
    {
      "cell_type": "code",
      "metadata": {
        "id": "_hsUFjYIjVyK"
      },
      "source": [
        "link_drop_df = tweet_df.drop(columns=['user_description','user_location',\n",
        "                                      'coordinates','text', 'geo', 'user_name',\n",
        "                                      'user_created', 'language', 'tokens',\n",
        "                                      'created', 'id_str'])"
      ],
      "execution_count": 91,
      "outputs": []
    },
    {
      "cell_type": "code",
      "metadata": {
        "id": "Xh99Yry-N_v3"
      },
      "source": [
        "link_drop_df = link_drop_df.drop_duplicates(['source', 'src846'], keep=False)"
      ],
      "execution_count": 92,
      "outputs": []
    },
    {
      "cell_type": "code",
      "metadata": {
        "id": "JVhqL0UdnHCr"
      },
      "source": [
        "link_drop_df = link_drop_df.drop(columns='src846')"
      ],
      "execution_count": 93,
      "outputs": []
    },
    {
      "cell_type": "code",
      "metadata": {
        "id": "_Ej9B3X-mU1R"
      },
      "source": [
        "df = pd.merge(tweet_df, link_drop_df, how='inner')"
      ],
      "execution_count": 97,
      "outputs": []
    },
    {
      "cell_type": "code",
      "metadata": {
        "id": "U7r54VUinCFt"
      },
      "source": [
        "df = df.drop(columns='src846')"
      ],
      "execution_count": 100,
      "outputs": []
    },
    {
      "cell_type": "code",
      "metadata": {
        "colab": {
          "base_uri": "https://localhost:8080/",
          "height": 445
        },
        "id": "WLM1i0E1qdjJ",
        "outputId": "1c9844c4-4044-46f3-c1fc-9a764cecefb0"
      },
      "source": [
        "df.head()"
      ],
      "execution_count": 101,
      "outputs": [
        {
          "output_type": "execute_result",
          "data": {
            "text/html": [
              "<div>\n",
              "<style scoped>\n",
              "    .dataframe tbody tr th:only-of-type {\n",
              "        vertical-align: middle;\n",
              "    }\n",
              "\n",
              "    .dataframe tbody tr th {\n",
              "        vertical-align: top;\n",
              "    }\n",
              "\n",
              "    .dataframe thead th {\n",
              "        text-align: right;\n",
              "    }\n",
              "</style>\n",
              "<table border=\"1\" class=\"dataframe\">\n",
              "  <thead>\n",
              "    <tr style=\"text-align: right;\">\n",
              "      <th></th>\n",
              "      <th>id</th>\n",
              "      <th>user_description</th>\n",
              "      <th>user_location</th>\n",
              "      <th>coordinates</th>\n",
              "      <th>text</th>\n",
              "      <th>geo</th>\n",
              "      <th>user_name</th>\n",
              "      <th>user_created</th>\n",
              "      <th>id_str</th>\n",
              "      <th>created</th>\n",
              "      <th>source</th>\n",
              "      <th>language</th>\n",
              "      <th>tokens</th>\n",
              "    </tr>\n",
              "  </thead>\n",
              "  <tbody>\n",
              "    <tr>\n",
              "      <th>0</th>\n",
              "      <td>1</td>\n",
              "      <td>Latest News, World News, USA News, Technology ...</td>\n",
              "      <td>USA</td>\n",
              "      <td>NaN</td>\n",
              "      <td>Police Chief Who Backed Costs In opposition to...</td>\n",
              "      <td>NaN</td>\n",
              "      <td>LatestN72062740</td>\n",
              "      <td>2020-08-05T09:02:41</td>\n",
              "      <td>1328916595457069057</td>\n",
              "      <td>2020-11-18T04:23:01</td>\n",
              "      <td>https://latestnews.in.net</td>\n",
              "      <td>en</td>\n",
              "      <td>[police, Chief, back, cost, opposition, Lawmak...</td>\n",
              "    </tr>\n",
              "    <tr>\n",
              "      <th>1</th>\n",
              "      <td>2</td>\n",
              "      <td>NaN</td>\n",
              "      <td>California, USA</td>\n",
              "      <td>NaN</td>\n",
              "      <td>ABSOLUTELY MADDENING!</td>\n",
              "      <td>NaN</td>\n",
              "      <td>RedLola2017</td>\n",
              "      <td>2018-08-17T19:57:20</td>\n",
              "      <td>1328916601047904259</td>\n",
              "      <td>2020-11-18T04:23:02</td>\n",
              "      <td>NaN</td>\n",
              "      <td>en</td>\n",
              "      <td>[ABSOLUTELY, maddening]</td>\n",
              "    </tr>\n",
              "    <tr>\n",
              "      <th>2</th>\n",
              "      <td>3</td>\n",
              "      <td>Justin Trudeau is an imbecile, national disgra...</td>\n",
              "      <td>C eh N eh D eh</td>\n",
              "      <td>NaN</td>\n",
              "      <td>@NitraQueen @BrianPallister Economic suicide a...</td>\n",
              "      <td>NaN</td>\n",
              "      <td>scannon_lou</td>\n",
              "      <td>2020-02-23T04:31:57</td>\n",
              "      <td>1328916605150007298</td>\n",
              "      <td>2020-11-18T04:23:03</td>\n",
              "      <td>NaN</td>\n",
              "      <td>en</td>\n",
              "      <td>[@nitraqueen, @brianpallister, economic, suici...</td>\n",
              "    </tr>\n",
              "    <tr>\n",
              "      <th>3</th>\n",
              "      <td>4</td>\n",
              "      <td>I block for logical fallacies. #HumansAreAnimals</td>\n",
              "      <td>Miami Lakes, FL</td>\n",
              "      <td>NaN</td>\n",
              "      <td>@OScottHartman @allymayn Walter Cronkite looke...</td>\n",
              "      <td>NaN</td>\n",
              "      <td>Streamheat</td>\n",
              "      <td>2009-03-21T16:28:54</td>\n",
              "      <td>1328916607570243584</td>\n",
              "      <td>2020-11-18T04:23:03</td>\n",
              "      <td>NaN</td>\n",
              "      <td>en</td>\n",
              "      <td>[@oscotthartman, @allymayn, Walter, Cronkite, ...</td>\n",
              "    </tr>\n",
              "    <tr>\n",
              "      <th>4</th>\n",
              "      <td>5</td>\n",
              "      <td>NaN</td>\n",
              "      <td>NaN</td>\n",
              "      <td>NaN</td>\n",
              "      <td>Shame on you, TH government and who involved w...</td>\n",
              "      <td>NaN</td>\n",
              "      <td>Zwartkat1</td>\n",
              "      <td>2019-11-08T05:49:49</td>\n",
              "      <td>1328916608434073600</td>\n",
              "      <td>2020-11-18T04:23:04</td>\n",
              "      <td>NaN</td>\n",
              "      <td>en</td>\n",
              "      <td>[shame, th, government, involve, violent, peop...</td>\n",
              "    </tr>\n",
              "  </tbody>\n",
              "</table>\n",
              "</div>"
            ],
            "text/plain": [
              "   id  ...                                             tokens\n",
              "0   1  ...  [police, Chief, back, cost, opposition, Lawmak...\n",
              "1   2  ...                            [ABSOLUTELY, maddening]\n",
              "2   3  ...  [@nitraqueen, @brianpallister, economic, suici...\n",
              "3   4  ...  [@oscotthartman, @allymayn, Walter, Cronkite, ...\n",
              "4   5  ...  [shame, th, government, involve, violent, peop...\n",
              "\n",
              "[5 rows x 13 columns]"
            ]
          },
          "metadata": {
            "tags": []
          },
          "execution_count": 101
        }
      ]
    },
    {
      "cell_type": "code",
      "metadata": {
        "colab": {
          "base_uri": "https://localhost:8080/"
        },
        "id": "Ly4PfrrRqgSM",
        "outputId": "ff25dd1c-63d4-47c2-f2e5-308f9cce1ce4"
      },
      "source": [
        "#geo and coordinates are very similar and contain a lot of nans\n",
        "#could possibly filter for posts with both geo or coordinates,\n",
        "#and also a link before using a classification model to determine\n",
        "#use of force. \n",
        "\n",
        "print(df['geo'].value_counts().sum())\n",
        "print(df['coordinates'].value_counts().sum())"
      ],
      "execution_count": 105,
      "outputs": [
        {
          "output_type": "stream",
          "text": [
            "11\n",
            "11\n"
          ],
          "name": "stdout"
        }
      ]
    },
    {
      "cell_type": "code",
      "metadata": {
        "id": "D8zfgs1AtVSR"
      },
      "source": [
        "df_geo = df[df['geo'].notna()]"
      ],
      "execution_count": 110,
      "outputs": []
    },
    {
      "cell_type": "code",
      "metadata": {
        "colab": {
          "base_uri": "https://localhost:8080/",
          "height": 564
        },
        "id": "gS5twcNKuLEF",
        "outputId": "5d8c30f2-31a6-4621-f727-59f2976040b2"
      },
      "source": [
        "df_geo.head()"
      ],
      "execution_count": 130,
      "outputs": [
        {
          "output_type": "execute_result",
          "data": {
            "text/html": [
              "<div>\n",
              "<style scoped>\n",
              "    .dataframe tbody tr th:only-of-type {\n",
              "        vertical-align: middle;\n",
              "    }\n",
              "\n",
              "    .dataframe tbody tr th {\n",
              "        vertical-align: top;\n",
              "    }\n",
              "\n",
              "    .dataframe thead th {\n",
              "        text-align: right;\n",
              "    }\n",
              "</style>\n",
              "<table border=\"1\" class=\"dataframe\">\n",
              "  <thead>\n",
              "    <tr style=\"text-align: right;\">\n",
              "      <th></th>\n",
              "      <th>id</th>\n",
              "      <th>user_description</th>\n",
              "      <th>user_location</th>\n",
              "      <th>coordinates</th>\n",
              "      <th>text</th>\n",
              "      <th>geo</th>\n",
              "      <th>user_name</th>\n",
              "      <th>user_created</th>\n",
              "      <th>id_str</th>\n",
              "      <th>created</th>\n",
              "      <th>source</th>\n",
              "      <th>language</th>\n",
              "      <th>tokens</th>\n",
              "    </tr>\n",
              "  </thead>\n",
              "  <tbody>\n",
              "    <tr>\n",
              "      <th>171</th>\n",
              "      <td>203</td>\n",
              "      <td>Unofficial automated posting of calls for serv...</td>\n",
              "      <td>Portland, Oregon</td>\n",
              "      <td>{\"type\": \"Point\", \"coordinates\": [-122.651502,...</td>\n",
              "      <td>SUSPICIOUS - PRIORITY at NE BROADWAY / NE 14TH...</td>\n",
              "      <td>{\"type\": \"Point\", \"coordinates\": [45.53504, -1...</td>\n",
              "      <td>pdxpolicelog</td>\n",
              "      <td>2013-07-18T07:49:09</td>\n",
              "      <td>1328917353707442177</td>\n",
              "      <td>2020-11-18T04:26:01</td>\n",
              "      <td>http://www.civicapps.org/datasets/911-dispatch...</td>\n",
              "      <td>en</td>\n",
              "      <td>[SUSPICIOUS, PRIORITY, NE, BROADWAY, NE, 14th,...</td>\n",
              "    </tr>\n",
              "    <tr>\n",
              "      <th>426</th>\n",
              "      <td>516</td>\n",
              "      <td>Unofficial automated posting of calls for serv...</td>\n",
              "      <td>Portland, Oregon</td>\n",
              "      <td>{\"type\": \"Point\", \"coordinates\": [-122.679284,...</td>\n",
              "      <td>SUSPICIOUS SUBJ, VEH, OR CIRCUMSTANCE at 700 S...</td>\n",
              "      <td>{\"type\": \"Point\", \"coordinates\": [45.518886, -...</td>\n",
              "      <td>pdxpolicelog</td>\n",
              "      <td>2013-07-18T07:49:09</td>\n",
              "      <td>1328918361737027586</td>\n",
              "      <td>2020-11-18T04:30:02</td>\n",
              "      <td>http://www.civicapps.org/datasets/911-dispatch...</td>\n",
              "      <td>en</td>\n",
              "      <td>[SUSPICIOUS, SUBJ, VEH, CIRCUMSTANCE, 700, SW,...</td>\n",
              "    </tr>\n",
              "    <tr>\n",
              "      <th>428</th>\n",
              "      <td>519</td>\n",
              "      <td>Unofficial automated posting of east county, e...</td>\n",
              "      <td>Multnomah County, Oregon</td>\n",
              "      <td>{\"type\": \"Point\", \"coordinates\": [-122.392737,...</td>\n",
              "      <td>SHOTS FIRED at 1300 NE BARNES CT, GRSM [Gresha...</td>\n",
              "      <td>{\"type\": \"Point\", \"coordinates\": [45.506797, -...</td>\n",
              "      <td>pdxsherrifflog</td>\n",
              "      <td>2013-07-19T22:54:21</td>\n",
              "      <td>1328918366052962307</td>\n",
              "      <td>2020-11-18T04:30:03</td>\n",
              "      <td>http://www.civicapps.org/datasets/911-dispatch...</td>\n",
              "      <td>en</td>\n",
              "      <td>[SHOTS, FIRED, 1300, NE, BARNES, CT, grsm, Gre...</td>\n",
              "    </tr>\n",
              "    <tr>\n",
              "      <th>429</th>\n",
              "      <td>521</td>\n",
              "      <td>Unofficial automated posting of calls for serv...</td>\n",
              "      <td>Portland, Oregon</td>\n",
              "      <td>{\"type\": \"Point\", \"coordinates\": [-122.724265,...</td>\n",
              "      <td>ACCIDENT - HIT AND RUN - COLD at 5300 N LOMBAR...</td>\n",
              "      <td>{\"type\": \"Point\", \"coordinates\": [45.582874, -...</td>\n",
              "      <td>pdxpolicelog</td>\n",
              "      <td>2013-07-18T07:49:09</td>\n",
              "      <td>1328918368271826945</td>\n",
              "      <td>2020-11-18T04:30:03</td>\n",
              "      <td>http://www.civicapps.org/datasets/911-dispatch...</td>\n",
              "      <td>en</td>\n",
              "      <td>[ACCIDENT, HIT, run, cold, 5300, N, LOMBARD, S...</td>\n",
              "    </tr>\n",
              "    <tr>\n",
              "      <th>710</th>\n",
              "      <td>863</td>\n",
              "      <td>Unofficial automated posting of calls for serv...</td>\n",
              "      <td>Portland, Oregon</td>\n",
              "      <td>{\"type\": \"Point\", \"coordinates\": [-122.616951,...</td>\n",
              "      <td>THREAT - COLD at 400 SE 44TH AVE, PORT [Portla...</td>\n",
              "      <td>{\"type\": \"Point\", \"coordinates\": [45.520117, -...</td>\n",
              "      <td>pdxpolicelog</td>\n",
              "      <td>2013-07-18T07:49:09</td>\n",
              "      <td>1328919369544417280</td>\n",
              "      <td>2020-11-18T04:34:02</td>\n",
              "      <td>http://www.civicapps.org/datasets/911-dispatch...</td>\n",
              "      <td>en</td>\n",
              "      <td>[threat, cold, 400, SE, 44th, AVE, port, Portl...</td>\n",
              "    </tr>\n",
              "  </tbody>\n",
              "</table>\n",
              "</div>"
            ],
            "text/plain": [
              "      id  ...                                             tokens\n",
              "171  203  ...  [SUSPICIOUS, PRIORITY, NE, BROADWAY, NE, 14th,...\n",
              "426  516  ...  [SUSPICIOUS, SUBJ, VEH, CIRCUMSTANCE, 700, SW,...\n",
              "428  519  ...  [SHOTS, FIRED, 1300, NE, BARNES, CT, grsm, Gre...\n",
              "429  521  ...  [ACCIDENT, HIT, run, cold, 5300, N, LOMBARD, S...\n",
              "710  863  ...  [threat, cold, 400, SE, 44th, AVE, port, Portl...\n",
              "\n",
              "[5 rows x 13 columns]"
            ]
          },
          "metadata": {
            "tags": []
          },
          "execution_count": 130
        }
      ]
    },
    {
      "cell_type": "code",
      "metadata": {
        "id": "SJ6dq7sX0H2e"
      },
      "source": [
        ""
      ],
      "execution_count": null,
      "outputs": []
    }
  ]
}