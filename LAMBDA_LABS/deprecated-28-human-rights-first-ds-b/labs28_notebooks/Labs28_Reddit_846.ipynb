{
  "nbformat": 4,
  "nbformat_minor": 0,
  "metadata": {
    "colab": {
      "name": "Labs28_Reddit_846.ipynb",
      "provenance": [],
      "collapsed_sections": []
    },
    "kernelspec": {
      "display_name": "Python 3",
      "name": "python3"
    }
  },
  "cells": [
    {
      "cell_type": "code",
      "metadata": {
        "id": "IWmfuD6Fo7MM"
      },
      "source": [
        "#This notebook is currently used to explore Reddit and 846PoliceBrutality data"
      ],
      "execution_count": null,
      "outputs": []
    },
    {
      "cell_type": "code",
      "metadata": {
        "id": "c0nQ2UpAp9y9"
      },
      "source": [
        "#install praw, the python reddit API wrapper, \n",
        "# documentation located here: https://praw.readthedocs.io/en/latest/\n",
        "\n",
        "!pip install praw"
      ],
      "execution_count": null,
      "outputs": []
    },
    {
      "cell_type": "code",
      "metadata": {
        "id": "BvMhc4-qqgGv"
      },
      "source": [
        "# required imports\n",
        "\n",
        "from bs4 import BeautifulSoup\n",
        "import json\n",
        "import pandas as pd\n",
        "import praw\n",
        "import re\n",
        "import requests\n",
        "import urllib3"
      ],
      "execution_count": null,
      "outputs": []
    },
    {
      "cell_type": "code",
      "metadata": {
        "id": "jnLmkkAGq3JL"
      },
      "source": [
        "#Reddit API credentials in a vars.env file\n",
        "\n",
        "reddit = praw.Reddit(client_id = REDDIT_CLIENT_ID,\n",
        "                     client_secret = REDDIT_SECRET,\n",
        "                     user_agent = REDDIT_USER_AGENT,\n",
        "                     username = REDDIT_USERNAME\n",
        "                     )"
      ],
      "execution_count": null,
      "outputs": []
    },
    {
      "cell_type": "code",
      "metadata": {
        "id": "k4-hKvoWLuMJ"
      },
      "source": [
        ""
      ],
      "execution_count": null,
      "outputs": []
    },
    {
      "cell_type": "code",
      "metadata": {
        "id": "nmHtXduezO-i"
      },
      "source": [
        "# Get the 1,000 newest posts from 2020PoliceBrutality\n",
        "# removed subreddit column, currently only using one\n",
        "\n",
        "posts = []\n",
        "\n",
        "#changed from 'hot' to 'new' to pull newest incidents\n",
        "df_2020PB = reddit.subreddit('2020PoliceBrutality')\n",
        "for post in df_2020PB.new(limit=1000):\n",
        "    posts.append([post.id, post.title, post.url, post.selftext, post.created_utc])\n",
        "posts = pd.DataFrame(posts,columns=['id', 'title', 'url', 'body', 'created'])"
      ],
      "execution_count": null,
      "outputs": []
    },
    {
      "cell_type": "code",
      "metadata": {
        "id": "eA1Ye2vPz3_4"
      },
      "source": [
        "posts.head()"
      ],
      "execution_count": null,
      "outputs": []
    },
    {
      "cell_type": "code",
      "metadata": {
        "id": "dpnm5Asf7UOq",
        "outputId": "af7c11fc-f126-4d3f-a098-d19f92963185",
        "colab": {
          "base_uri": "https://localhost:8080/"
        }
      },
      "source": [
        "#Current shape 976 incidents\n",
        "\n",
        "posts.shape"
      ],
      "execution_count": null,
      "outputs": [
        {
          "output_type": "execute_result",
          "data": {
            "text/plain": [
              "(973, 5)"
            ]
          },
          "metadata": {
            "tags": []
          },
          "execution_count": 86
        }
      ]
    },
    {
      "cell_type": "code",
      "metadata": {
        "id": "-I4os-2D0C1l",
        "outputId": "d49b4e10-1274-4187-fb83-46a2b43999c6",
        "colab": {
          "base_uri": "https://localhost:8080/",
          "height": 54
        }
      },
      "source": [
        "# current example of post body. Most of the reddit posts have a title, a link \n",
        "# to the video or social media post, and no body. However, some of the posts have \n",
        "# the body included\n",
        "\n",
        "posts['body'][33]"
      ],
      "execution_count": null,
      "outputs": [
        {
          "output_type": "execute_result",
          "data": {
            "application/vnd.google.colaboratory.intrinsic+json": {
              "type": "string"
            },
            "text/plain": [
              "'It really looks like most of the cops in videos on this sub are either abusing steroids or stimulants. \\n\\nI have no idea whether they’re being drug tested at present, but no reasonable person would object to randomly testing them.'"
            ]
          },
          "metadata": {
            "tags": []
          },
          "execution_count": 88
        }
      ]
    },
    {
      "cell_type": "markdown",
      "metadata": {
        "id": "6umA7dCQ1q5D"
      },
      "source": [
        "## How does 2020PB compare with 846PoliceBrutality API?\n",
        "\n",
        "2020PB does not contain as much text in the body of each post as we had hoped for training an NLP model. \n",
        "846 has more detailed location data. "
      ]
    },
    {
      "cell_type": "code",
      "metadata": {
        "id": "cIKa9YX_3DQO"
      },
      "source": [
        "url=\"https://api.846policebrutality.com/api/incidents?include=evidence\"\n",
        "http = urllib3.PoolManager()\n",
        "response = http.request('GET', url)\n",
        "soup = BeautifulSoup(response.data, \"html.parser\")\n",
        "\n",
        "json_846 = json.loads(soup.text)\n",
        "#json_846"
      ],
      "execution_count": null,
      "outputs": []
    },
    {
      "cell_type": "code",
      "metadata": {
        "id": "ZBVtdQIO6Xj7"
      },
      "source": [
        "#Retrieve data from json_846 data key\n",
        "incidents = json_846['data']\n",
        "\n",
        "#look at first incident\n",
        "incidents[0]"
      ],
      "execution_count": null,
      "outputs": []
    },
    {
      "cell_type": "code",
      "metadata": {
        "id": "bAsHa3qz6q6I",
        "outputId": "a05fcb96-9c0c-48aa-a78a-677bcd7eb4b7",
        "colab": {
          "base_uri": "https://localhost:8080/",
          "height": 302
        }
      },
      "source": [
        "# Create dataframe from the 846 API incident data\n",
        "df_846 = pd.DataFrame(incidents)\n",
        "\n",
        "# Change data type for 'date' column to datetime type\n",
        "df_846['date'] = pd.to_datetime(df_846['date'], infer_datetime_format=True)\n",
        "\n",
        "# Drop empty columns\n",
        "df_846 = df_846.drop(columns=['data','description'])\n",
        "\n",
        "# Check the top 5 rows of the new dataframe\n",
        "df_846.head()"
      ],
      "execution_count": null,
      "outputs": [
        {
          "output_type": "execute_result",
          "data": {
            "text/html": [
              "<div>\n",
              "<style scoped>\n",
              "    .dataframe tbody tr th:only-of-type {\n",
              "        vertical-align: middle;\n",
              "    }\n",
              "\n",
              "    .dataframe tbody tr th {\n",
              "        vertical-align: top;\n",
              "    }\n",
              "\n",
              "    .dataframe thead th {\n",
              "        text-align: right;\n",
              "    }\n",
              "</style>\n",
              "<table border=\"1\" class=\"dataframe\">\n",
              "  <thead>\n",
              "    <tr style=\"text-align: right;\">\n",
              "      <th></th>\n",
              "      <th>id</th>\n",
              "      <th>pb_id</th>\n",
              "      <th>state</th>\n",
              "      <th>city</th>\n",
              "      <th>date</th>\n",
              "      <th>title</th>\n",
              "      <th>links</th>\n",
              "      <th>tags</th>\n",
              "      <th>geocoding</th>\n",
              "      <th>evidence</th>\n",
              "    </tr>\n",
              "  </thead>\n",
              "  <tbody>\n",
              "    <tr>\n",
              "      <th>0</th>\n",
              "      <td>bf46b270-1fb8-11eb-b018-5fba53929c9e</td>\n",
              "      <td>wa-seattle-75</td>\n",
              "      <td>Washington</td>\n",
              "      <td>Seattle</td>\n",
              "      <td>2020-11-04 08:00:00</td>\n",
              "      <td>Police arrest bystander in vehicle</td>\n",
              "      <td>[https://twitter.com/onelung_/status/132420651...</td>\n",
              "      <td>[arrest, bike, bystander, property-destruction]</td>\n",
              "      <td>{'lat': '47.6062095', 'long': '-122.3320708'}</td>\n",
              "      <td>[{'id': 'bf49ace0-1fb8-11eb-8c23-65cd1770af9d'...</td>\n",
              "    </tr>\n",
              "    <tr>\n",
              "      <th>1</th>\n",
              "      <td>f4ae69c0-1f9b-11eb-9041-4f6fe2453397</td>\n",
              "      <td>ca-losangeles-63</td>\n",
              "      <td>California</td>\n",
              "      <td>Los Angeles</td>\n",
              "      <td>2020-11-04 08:00:00</td>\n",
              "      <td>Police arrest journalists</td>\n",
              "      <td>[https://twitter.com/desertborder/status/13241...</td>\n",
              "      <td>[arrest, journalist]</td>\n",
              "      <td>{'lat': '34.0522342', 'long': '-118.2436849'}</td>\n",
              "      <td>[{'id': 'f4b0d780-1f9b-11eb-bedc-4de8e62a0d92'...</td>\n",
              "    </tr>\n",
              "    <tr>\n",
              "      <th>2</th>\n",
              "      <td>bf4ee070-1fb8-11eb-bae4-95bdb3987ef2</td>\n",
              "      <td>wa-seattle-76</td>\n",
              "      <td>Washington</td>\n",
              "      <td>Seattle</td>\n",
              "      <td>2020-11-04 08:00:00</td>\n",
              "      <td>Police assault and hospitalize protester</td>\n",
              "      <td>[https://twitter.com/MarcusKulik/status/132425...</td>\n",
              "      <td>[arrest, protester, punch, tackle]</td>\n",
              "      <td>{'lat': '47.6062095', 'long': '-122.3320708'}</td>\n",
              "      <td>[{'id': 'bf513560-1fb8-11eb-a946-b127f7240486'...</td>\n",
              "    </tr>\n",
              "    <tr>\n",
              "      <th>3</th>\n",
              "      <td>e42c6b70-1fb7-11eb-a63f-73653f7163f8</td>\n",
              "      <td>co-denver-29</td>\n",
              "      <td>Colorado</td>\n",
              "      <td>Denver</td>\n",
              "      <td>2020-11-04 08:00:00</td>\n",
              "      <td>Police charge and arrest protesters</td>\n",
              "      <td>[https://twitter.com/__ovas__/status/132421617...</td>\n",
              "      <td>[arrest, beat, grab, protester, tackle]</td>\n",
              "      <td>{'lat': '39.7392358', 'long': '-104.9902510'}</td>\n",
              "      <td>[{'id': 'e42fbce0-1fb7-11eb-84a7-f9e93658d7b4'...</td>\n",
              "    </tr>\n",
              "    <tr>\n",
              "      <th>4</th>\n",
              "      <td>e434ef50-1fb7-11eb-a390-f9bb396d9aae</td>\n",
              "      <td>co-denver-30</td>\n",
              "      <td>Colorado</td>\n",
              "      <td>Denver</td>\n",
              "      <td>2020-11-04 08:00:00</td>\n",
              "      <td>Officer shoots protester in head</td>\n",
              "      <td>[https://twitter.com/__ovas__/status/132421321...</td>\n",
              "      <td>[less-lethal, pepper-ball, projectile, protest...</td>\n",
              "      <td>{'lat': '39.7392358', 'long': '-104.9902510'}</td>\n",
              "      <td>[{'id': 'e4372b50-1fb7-11eb-8d7f-07d5187b7001'...</td>\n",
              "    </tr>\n",
              "  </tbody>\n",
              "</table>\n",
              "</div>"
            ],
            "text/plain": [
              "                                     id  ...                                           evidence\n",
              "0  bf46b270-1fb8-11eb-b018-5fba53929c9e  ...  [{'id': 'bf49ace0-1fb8-11eb-8c23-65cd1770af9d'...\n",
              "1  f4ae69c0-1f9b-11eb-9041-4f6fe2453397  ...  [{'id': 'f4b0d780-1f9b-11eb-bedc-4de8e62a0d92'...\n",
              "2  bf4ee070-1fb8-11eb-bae4-95bdb3987ef2  ...  [{'id': 'bf513560-1fb8-11eb-a946-b127f7240486'...\n",
              "3  e42c6b70-1fb7-11eb-a63f-73653f7163f8  ...  [{'id': 'e42fbce0-1fb7-11eb-84a7-f9e93658d7b4'...\n",
              "4  e434ef50-1fb7-11eb-a390-f9bb396d9aae  ...  [{'id': 'e4372b50-1fb7-11eb-8d7f-07d5187b7001'...\n",
              "\n",
              "[5 rows x 10 columns]"
            ]
          },
          "metadata": {
            "tags": []
          },
          "execution_count": 92
        }
      ]
    },
    {
      "cell_type": "code",
      "metadata": {
        "id": "2Ta4oEgx7E9S",
        "outputId": "c41a7837-e848-4cba-9d23-783d55a164d0",
        "colab": {
          "base_uri": "https://localhost:8080/"
        }
      },
      "source": [
        "df_846.shape"
      ],
      "execution_count": null,
      "outputs": [
        {
          "output_type": "execute_result",
          "data": {
            "text/plain": [
              "(1259, 10)"
            ]
          },
          "metadata": {
            "tags": []
          },
          "execution_count": 93
        }
      ]
    },
    {
      "cell_type": "markdown",
      "metadata": {
        "id": "1KWXL_BnSYGp"
      },
      "source": [
        "Experiment with Model to match current News headlines to 846 tags and headlines"
      ]
    },
    {
      "cell_type": "code",
      "metadata": {
        "id": "SHbGTcKRTlwl"
      },
      "source": [
        "!python -m spacy download en_core_web_sm"
      ],
      "execution_count": null,
      "outputs": []
    },
    {
      "cell_type": "code",
      "metadata": {
        "id": "EdBCk55lWGvd"
      },
      "source": [
        "import spacy\n",
        "from spacy.tokenizer import Tokenizer"
      ],
      "execution_count": null,
      "outputs": []
    },
    {
      "cell_type": "code",
      "metadata": {
        "id": "1FC8waawSuH-"
      },
      "source": [
        "nlp = spacy.load(\"en_core_web_sm\")\n",
        "\n",
        "# Instantiaiting tokenizer\n",
        "tokenizer = Tokenizer(nlp.vocab)"
      ],
      "execution_count": null,
      "outputs": []
    },
    {
      "cell_type": "code",
      "metadata": {
        "id": "ptJVlMC9VFOw"
      },
      "source": [
        "def tokenize(doc):\n",
        "    \"\"\" Function tokenzing data and returning a list\"\"\"\n",
        "    lemmas = []\n",
        "    doc = nlp(doc)\n",
        "    for token in doc: \n",
        "        if ((token.is_stop == False) and (token.is_punct == False)) and (token.pos_ != 'PRON'):\n",
        "            lemmas.append(token.lemma_)\n",
        "    return lemmas"
      ],
      "execution_count": null,
      "outputs": []
    },
    {
      "cell_type": "code",
      "metadata": {
        "id": "_tKAP1Y5h2-C"
      },
      "source": [
        "#need to concatenate tags and title, converting tag to list first\n",
        "\n",
        "def listToString(s):\n",
        "  str1 = \"\"\n",
        "  for elem in s:\n",
        "    str1 += elem\n",
        "    return str1"
      ],
      "execution_count": null,
      "outputs": []
    },
    {
      "cell_type": "code",
      "metadata": {
        "id": "Suk5kJdmj4g3"
      },
      "source": [
        "df_846['tags'] = df_846['tags'].apply(listToString)"
      ],
      "execution_count": null,
      "outputs": []
    },
    {
      "cell_type": "code",
      "metadata": {
        "id": "-kryEv3ykCeC"
      },
      "source": [
        "df_846['concat'] = df_846['title'] + \" \" + df_846['tags']"
      ],
      "execution_count": null,
      "outputs": []
    },
    {
      "cell_type": "code",
      "metadata": {
        "id": "W-5Vc8ENXFTb"
      },
      "source": [
        "df_846['tokens'] = df_846['concat'].apply(tokenize)"
      ],
      "execution_count": null,
      "outputs": []
    },
    {
      "cell_type": "code",
      "metadata": {
        "id": "3EsDkpHBYRNz",
        "outputId": "8fe53dac-6ea9-4334-b0f1-5b7f7e3b70e9",
        "colab": {
          "base_uri": "https://localhost:8080/"
        }
      },
      "source": [
        "df_846['tokens'].head(10)"
      ],
      "execution_count": null,
      "outputs": [
        {
          "output_type": "execute_result",
          "data": {
            "text/plain": [
              "0         [Police, arrest, bystander, vehicle, arrest]\n",
              "1                 [Police, arrest, journalist, arrest]\n",
              "2    [Police, assault, hospitalize, protester, arrest]\n",
              "3          [Police, charge, arrest, protester, arrest]\n",
              "4            [officer, shoot, protester, head, lethal]\n",
              "5    [police, kettle, assault, arrest, protester, a...\n",
              "6         [Police, assault, arrest, protester, arrest]\n",
              "7      [officer, charge, protester, press, journalist]\n",
              "8    [officer, shove, strike, arrest, protester, ar...\n",
              "9                   [officer, violent, arrest, arrest]\n",
              "Name: tokens, dtype: object"
            ]
          },
          "metadata": {
            "tags": []
          },
          "execution_count": 102
        }
      ]
    },
    {
      "cell_type": "code",
      "metadata": {
        "id": "9U4tiZPyYdtU",
        "outputId": "ad94ceba-1fbc-4180-ea76-0bdd7c204588",
        "colab": {
          "base_uri": "https://localhost:8080/",
          "height": 265
        }
      },
      "source": [
        "# Vector Representation\n",
        "# Feature extraction\n",
        "from sklearn.feature_extraction.text import TfidfVectorizer\n",
        "\n",
        "tdf = TfidfVectorizer(ngram_range=(1,2),\n",
        "                    max_df=.97,\n",
        "                     min_df=3,\n",
        "                    tokenizer=tokenize)\n",
        "# Fit and Transforming text\n",
        "vect = tdf.fit_transform(df_846['concat'])\n",
        "# Making a dataframe of feature names\n",
        "vect = pd.DataFrame(vect.todense(), columns=tdf.get_feature_names())\n",
        "\n",
        "vect.head()"
      ],
      "execution_count": null,
      "outputs": [
        {
          "output_type": "execute_result",
          "data": {
            "text/html": [
              "<div>\n",
              "<style scoped>\n",
              "    .dataframe tbody tr th:only-of-type {\n",
              "        vertical-align: middle;\n",
              "    }\n",
              "\n",
              "    .dataframe tbody tr th {\n",
              "        vertical-align: top;\n",
              "    }\n",
              "\n",
              "    .dataframe thead th {\n",
              "        text-align: right;\n",
              "    }\n",
              "</style>\n",
              "<table border=\"1\" class=\"dataframe\">\n",
              "  <thead>\n",
              "    <tr style=\"text-align: right;\">\n",
              "      <th></th>\n",
              "      <th>abuse</th>\n",
              "      <th>abuse power</th>\n",
              "      <th>active</th>\n",
              "      <th>activist</th>\n",
              "      <th>agent</th>\n",
              "      <th>agent deploy</th>\n",
              "      <th>agent fire</th>\n",
              "      <th>agent shoot</th>\n",
              "      <th>aid</th>\n",
              "      <th>air</th>\n",
              "      <th>air journalist</th>\n",
              "      <th>alleged</th>\n",
              "      <th>allegedly</th>\n",
              "      <th>angeles</th>\n",
              "      <th>angeles law</th>\n",
              "      <th>apartment</th>\n",
              "      <th>apparent</th>\n",
              "      <th>apparent cause</th>\n",
              "      <th>apparent justification</th>\n",
              "      <th>apparent reason</th>\n",
              "      <th>area</th>\n",
              "      <th>arm</th>\n",
              "      <th>arrest</th>\n",
              "      <th>arrest abuse</th>\n",
              "      <th>arrest arrest</th>\n",
              "      <th>arrest bystander</th>\n",
              "      <th>arrest federal</th>\n",
              "      <th>arrest journalist</th>\n",
              "      <th>arrest man</th>\n",
              "      <th>arrest peaceful</th>\n",
              "      <th>arrest pepper</th>\n",
              "      <th>arrest police</th>\n",
              "      <th>arrest protest</th>\n",
              "      <th>arrest protester</th>\n",
              "      <th>arrest reporter</th>\n",
              "      <th>arrest woman</th>\n",
              "      <th>arrestee</th>\n",
              "      <th>assault</th>\n",
              "      <th>assault arrest</th>\n",
              "      <th>assault protester</th>\n",
              "      <th>...</th>\n",
              "      <th>unarmed man</th>\n",
              "      <th>unarmed protester</th>\n",
              "      <th>unlawful</th>\n",
              "      <th>unmarked</th>\n",
              "      <th>use</th>\n",
              "      <th>use bike</th>\n",
              "      <th>use excessive</th>\n",
              "      <th>use flashbang</th>\n",
              "      <th>use lrad</th>\n",
              "      <th>use pepper</th>\n",
              "      <th>use tear</th>\n",
              "      <th>van</th>\n",
              "      <th>vandalism</th>\n",
              "      <th>vehicle</th>\n",
              "      <th>veteran</th>\n",
              "      <th>violation</th>\n",
              "      <th>violation arrest</th>\n",
              "      <th>violence</th>\n",
              "      <th>violent</th>\n",
              "      <th>violent arrest</th>\n",
              "      <th>violently</th>\n",
              "      <th>violently arrest</th>\n",
              "      <th>violently push</th>\n",
              "      <th>walk</th>\n",
              "      <th>walk away</th>\n",
              "      <th>walk home</th>\n",
              "      <th>warn</th>\n",
              "      <th>water</th>\n",
              "      <th>water bottle</th>\n",
              "      <th>way</th>\n",
              "      <th>way crowd</th>\n",
              "      <th>wheelchair</th>\n",
              "      <th>white</th>\n",
              "      <th>window</th>\n",
              "      <th>woman</th>\n",
              "      <th>woman arrest</th>\n",
              "      <th>woman ground</th>\n",
              "      <th>woman shoot</th>\n",
              "      <th>wound</th>\n",
              "      <th>yell</th>\n",
              "    </tr>\n",
              "  </thead>\n",
              "  <tbody>\n",
              "    <tr>\n",
              "      <th>0</th>\n",
              "      <td>0.0</td>\n",
              "      <td>0.0</td>\n",
              "      <td>0.0</td>\n",
              "      <td>0.0</td>\n",
              "      <td>0.0</td>\n",
              "      <td>0.0</td>\n",
              "      <td>0.0</td>\n",
              "      <td>0.0</td>\n",
              "      <td>0.0</td>\n",
              "      <td>0.0</td>\n",
              "      <td>0.0</td>\n",
              "      <td>0.0</td>\n",
              "      <td>0.0</td>\n",
              "      <td>0.0</td>\n",
              "      <td>0.0</td>\n",
              "      <td>0.0</td>\n",
              "      <td>0.0</td>\n",
              "      <td>0.0</td>\n",
              "      <td>0.0</td>\n",
              "      <td>0.0</td>\n",
              "      <td>0.0</td>\n",
              "      <td>0.0</td>\n",
              "      <td>0.385606</td>\n",
              "      <td>0.0</td>\n",
              "      <td>0.0</td>\n",
              "      <td>0.588585</td>\n",
              "      <td>0.0</td>\n",
              "      <td>0.000000</td>\n",
              "      <td>0.0</td>\n",
              "      <td>0.0</td>\n",
              "      <td>0.0</td>\n",
              "      <td>0.0</td>\n",
              "      <td>0.0</td>\n",
              "      <td>0.00000</td>\n",
              "      <td>0.0</td>\n",
              "      <td>0.0</td>\n",
              "      <td>0.0</td>\n",
              "      <td>0.000000</td>\n",
              "      <td>0.0</td>\n",
              "      <td>0.0</td>\n",
              "      <td>...</td>\n",
              "      <td>0.0</td>\n",
              "      <td>0.0</td>\n",
              "      <td>0.0</td>\n",
              "      <td>0.0</td>\n",
              "      <td>0.0</td>\n",
              "      <td>0.0</td>\n",
              "      <td>0.0</td>\n",
              "      <td>0.0</td>\n",
              "      <td>0.0</td>\n",
              "      <td>0.0</td>\n",
              "      <td>0.0</td>\n",
              "      <td>0.0</td>\n",
              "      <td>0.0</td>\n",
              "      <td>0.46775</td>\n",
              "      <td>0.0</td>\n",
              "      <td>0.0</td>\n",
              "      <td>0.0</td>\n",
              "      <td>0.0</td>\n",
              "      <td>0.0</td>\n",
              "      <td>0.0</td>\n",
              "      <td>0.0</td>\n",
              "      <td>0.0</td>\n",
              "      <td>0.0</td>\n",
              "      <td>0.0</td>\n",
              "      <td>0.0</td>\n",
              "      <td>0.0</td>\n",
              "      <td>0.0</td>\n",
              "      <td>0.0</td>\n",
              "      <td>0.0</td>\n",
              "      <td>0.0</td>\n",
              "      <td>0.0</td>\n",
              "      <td>0.0</td>\n",
              "      <td>0.0</td>\n",
              "      <td>0.0</td>\n",
              "      <td>0.0</td>\n",
              "      <td>0.0</td>\n",
              "      <td>0.0</td>\n",
              "      <td>0.0</td>\n",
              "      <td>0.0</td>\n",
              "      <td>0.0</td>\n",
              "    </tr>\n",
              "    <tr>\n",
              "      <th>1</th>\n",
              "      <td>0.0</td>\n",
              "      <td>0.0</td>\n",
              "      <td>0.0</td>\n",
              "      <td>0.0</td>\n",
              "      <td>0.0</td>\n",
              "      <td>0.0</td>\n",
              "      <td>0.0</td>\n",
              "      <td>0.0</td>\n",
              "      <td>0.0</td>\n",
              "      <td>0.0</td>\n",
              "      <td>0.0</td>\n",
              "      <td>0.0</td>\n",
              "      <td>0.0</td>\n",
              "      <td>0.0</td>\n",
              "      <td>0.0</td>\n",
              "      <td>0.0</td>\n",
              "      <td>0.0</td>\n",
              "      <td>0.0</td>\n",
              "      <td>0.0</td>\n",
              "      <td>0.0</td>\n",
              "      <td>0.0</td>\n",
              "      <td>0.0</td>\n",
              "      <td>0.413466</td>\n",
              "      <td>0.0</td>\n",
              "      <td>0.0</td>\n",
              "      <td>0.000000</td>\n",
              "      <td>0.0</td>\n",
              "      <td>0.545472</td>\n",
              "      <td>0.0</td>\n",
              "      <td>0.0</td>\n",
              "      <td>0.0</td>\n",
              "      <td>0.0</td>\n",
              "      <td>0.0</td>\n",
              "      <td>0.00000</td>\n",
              "      <td>0.0</td>\n",
              "      <td>0.0</td>\n",
              "      <td>0.0</td>\n",
              "      <td>0.000000</td>\n",
              "      <td>0.0</td>\n",
              "      <td>0.0</td>\n",
              "      <td>...</td>\n",
              "      <td>0.0</td>\n",
              "      <td>0.0</td>\n",
              "      <td>0.0</td>\n",
              "      <td>0.0</td>\n",
              "      <td>0.0</td>\n",
              "      <td>0.0</td>\n",
              "      <td>0.0</td>\n",
              "      <td>0.0</td>\n",
              "      <td>0.0</td>\n",
              "      <td>0.0</td>\n",
              "      <td>0.0</td>\n",
              "      <td>0.0</td>\n",
              "      <td>0.0</td>\n",
              "      <td>0.00000</td>\n",
              "      <td>0.0</td>\n",
              "      <td>0.0</td>\n",
              "      <td>0.0</td>\n",
              "      <td>0.0</td>\n",
              "      <td>0.0</td>\n",
              "      <td>0.0</td>\n",
              "      <td>0.0</td>\n",
              "      <td>0.0</td>\n",
              "      <td>0.0</td>\n",
              "      <td>0.0</td>\n",
              "      <td>0.0</td>\n",
              "      <td>0.0</td>\n",
              "      <td>0.0</td>\n",
              "      <td>0.0</td>\n",
              "      <td>0.0</td>\n",
              "      <td>0.0</td>\n",
              "      <td>0.0</td>\n",
              "      <td>0.0</td>\n",
              "      <td>0.0</td>\n",
              "      <td>0.0</td>\n",
              "      <td>0.0</td>\n",
              "      <td>0.0</td>\n",
              "      <td>0.0</td>\n",
              "      <td>0.0</td>\n",
              "      <td>0.0</td>\n",
              "      <td>0.0</td>\n",
              "    </tr>\n",
              "    <tr>\n",
              "      <th>2</th>\n",
              "      <td>0.0</td>\n",
              "      <td>0.0</td>\n",
              "      <td>0.0</td>\n",
              "      <td>0.0</td>\n",
              "      <td>0.0</td>\n",
              "      <td>0.0</td>\n",
              "      <td>0.0</td>\n",
              "      <td>0.0</td>\n",
              "      <td>0.0</td>\n",
              "      <td>0.0</td>\n",
              "      <td>0.0</td>\n",
              "      <td>0.0</td>\n",
              "      <td>0.0</td>\n",
              "      <td>0.0</td>\n",
              "      <td>0.0</td>\n",
              "      <td>0.0</td>\n",
              "      <td>0.0</td>\n",
              "      <td>0.0</td>\n",
              "      <td>0.0</td>\n",
              "      <td>0.0</td>\n",
              "      <td>0.0</td>\n",
              "      <td>0.0</td>\n",
              "      <td>0.199361</td>\n",
              "      <td>0.0</td>\n",
              "      <td>0.0</td>\n",
              "      <td>0.000000</td>\n",
              "      <td>0.0</td>\n",
              "      <td>0.000000</td>\n",
              "      <td>0.0</td>\n",
              "      <td>0.0</td>\n",
              "      <td>0.0</td>\n",
              "      <td>0.0</td>\n",
              "      <td>0.0</td>\n",
              "      <td>0.00000</td>\n",
              "      <td>0.0</td>\n",
              "      <td>0.0</td>\n",
              "      <td>0.0</td>\n",
              "      <td>0.459151</td>\n",
              "      <td>0.0</td>\n",
              "      <td>0.0</td>\n",
              "      <td>...</td>\n",
              "      <td>0.0</td>\n",
              "      <td>0.0</td>\n",
              "      <td>0.0</td>\n",
              "      <td>0.0</td>\n",
              "      <td>0.0</td>\n",
              "      <td>0.0</td>\n",
              "      <td>0.0</td>\n",
              "      <td>0.0</td>\n",
              "      <td>0.0</td>\n",
              "      <td>0.0</td>\n",
              "      <td>0.0</td>\n",
              "      <td>0.0</td>\n",
              "      <td>0.0</td>\n",
              "      <td>0.00000</td>\n",
              "      <td>0.0</td>\n",
              "      <td>0.0</td>\n",
              "      <td>0.0</td>\n",
              "      <td>0.0</td>\n",
              "      <td>0.0</td>\n",
              "      <td>0.0</td>\n",
              "      <td>0.0</td>\n",
              "      <td>0.0</td>\n",
              "      <td>0.0</td>\n",
              "      <td>0.0</td>\n",
              "      <td>0.0</td>\n",
              "      <td>0.0</td>\n",
              "      <td>0.0</td>\n",
              "      <td>0.0</td>\n",
              "      <td>0.0</td>\n",
              "      <td>0.0</td>\n",
              "      <td>0.0</td>\n",
              "      <td>0.0</td>\n",
              "      <td>0.0</td>\n",
              "      <td>0.0</td>\n",
              "      <td>0.0</td>\n",
              "      <td>0.0</td>\n",
              "      <td>0.0</td>\n",
              "      <td>0.0</td>\n",
              "      <td>0.0</td>\n",
              "      <td>0.0</td>\n",
              "    </tr>\n",
              "    <tr>\n",
              "      <th>3</th>\n",
              "      <td>0.0</td>\n",
              "      <td>0.0</td>\n",
              "      <td>0.0</td>\n",
              "      <td>0.0</td>\n",
              "      <td>0.0</td>\n",
              "      <td>0.0</td>\n",
              "      <td>0.0</td>\n",
              "      <td>0.0</td>\n",
              "      <td>0.0</td>\n",
              "      <td>0.0</td>\n",
              "      <td>0.0</td>\n",
              "      <td>0.0</td>\n",
              "      <td>0.0</td>\n",
              "      <td>0.0</td>\n",
              "      <td>0.0</td>\n",
              "      <td>0.0</td>\n",
              "      <td>0.0</td>\n",
              "      <td>0.0</td>\n",
              "      <td>0.0</td>\n",
              "      <td>0.0</td>\n",
              "      <td>0.0</td>\n",
              "      <td>0.0</td>\n",
              "      <td>0.373557</td>\n",
              "      <td>0.0</td>\n",
              "      <td>0.0</td>\n",
              "      <td>0.000000</td>\n",
              "      <td>0.0</td>\n",
              "      <td>0.000000</td>\n",
              "      <td>0.0</td>\n",
              "      <td>0.0</td>\n",
              "      <td>0.0</td>\n",
              "      <td>0.0</td>\n",
              "      <td>0.0</td>\n",
              "      <td>0.35042</td>\n",
              "      <td>0.0</td>\n",
              "      <td>0.0</td>\n",
              "      <td>0.0</td>\n",
              "      <td>0.000000</td>\n",
              "      <td>0.0</td>\n",
              "      <td>0.0</td>\n",
              "      <td>...</td>\n",
              "      <td>0.0</td>\n",
              "      <td>0.0</td>\n",
              "      <td>0.0</td>\n",
              "      <td>0.0</td>\n",
              "      <td>0.0</td>\n",
              "      <td>0.0</td>\n",
              "      <td>0.0</td>\n",
              "      <td>0.0</td>\n",
              "      <td>0.0</td>\n",
              "      <td>0.0</td>\n",
              "      <td>0.0</td>\n",
              "      <td>0.0</td>\n",
              "      <td>0.0</td>\n",
              "      <td>0.00000</td>\n",
              "      <td>0.0</td>\n",
              "      <td>0.0</td>\n",
              "      <td>0.0</td>\n",
              "      <td>0.0</td>\n",
              "      <td>0.0</td>\n",
              "      <td>0.0</td>\n",
              "      <td>0.0</td>\n",
              "      <td>0.0</td>\n",
              "      <td>0.0</td>\n",
              "      <td>0.0</td>\n",
              "      <td>0.0</td>\n",
              "      <td>0.0</td>\n",
              "      <td>0.0</td>\n",
              "      <td>0.0</td>\n",
              "      <td>0.0</td>\n",
              "      <td>0.0</td>\n",
              "      <td>0.0</td>\n",
              "      <td>0.0</td>\n",
              "      <td>0.0</td>\n",
              "      <td>0.0</td>\n",
              "      <td>0.0</td>\n",
              "      <td>0.0</td>\n",
              "      <td>0.0</td>\n",
              "      <td>0.0</td>\n",
              "      <td>0.0</td>\n",
              "      <td>0.0</td>\n",
              "    </tr>\n",
              "    <tr>\n",
              "      <th>4</th>\n",
              "      <td>0.0</td>\n",
              "      <td>0.0</td>\n",
              "      <td>0.0</td>\n",
              "      <td>0.0</td>\n",
              "      <td>0.0</td>\n",
              "      <td>0.0</td>\n",
              "      <td>0.0</td>\n",
              "      <td>0.0</td>\n",
              "      <td>0.0</td>\n",
              "      <td>0.0</td>\n",
              "      <td>0.0</td>\n",
              "      <td>0.0</td>\n",
              "      <td>0.0</td>\n",
              "      <td>0.0</td>\n",
              "      <td>0.0</td>\n",
              "      <td>0.0</td>\n",
              "      <td>0.0</td>\n",
              "      <td>0.0</td>\n",
              "      <td>0.0</td>\n",
              "      <td>0.0</td>\n",
              "      <td>0.0</td>\n",
              "      <td>0.0</td>\n",
              "      <td>0.000000</td>\n",
              "      <td>0.0</td>\n",
              "      <td>0.0</td>\n",
              "      <td>0.000000</td>\n",
              "      <td>0.0</td>\n",
              "      <td>0.000000</td>\n",
              "      <td>0.0</td>\n",
              "      <td>0.0</td>\n",
              "      <td>0.0</td>\n",
              "      <td>0.0</td>\n",
              "      <td>0.0</td>\n",
              "      <td>0.00000</td>\n",
              "      <td>0.0</td>\n",
              "      <td>0.0</td>\n",
              "      <td>0.0</td>\n",
              "      <td>0.000000</td>\n",
              "      <td>0.0</td>\n",
              "      <td>0.0</td>\n",
              "      <td>...</td>\n",
              "      <td>0.0</td>\n",
              "      <td>0.0</td>\n",
              "      <td>0.0</td>\n",
              "      <td>0.0</td>\n",
              "      <td>0.0</td>\n",
              "      <td>0.0</td>\n",
              "      <td>0.0</td>\n",
              "      <td>0.0</td>\n",
              "      <td>0.0</td>\n",
              "      <td>0.0</td>\n",
              "      <td>0.0</td>\n",
              "      <td>0.0</td>\n",
              "      <td>0.0</td>\n",
              "      <td>0.00000</td>\n",
              "      <td>0.0</td>\n",
              "      <td>0.0</td>\n",
              "      <td>0.0</td>\n",
              "      <td>0.0</td>\n",
              "      <td>0.0</td>\n",
              "      <td>0.0</td>\n",
              "      <td>0.0</td>\n",
              "      <td>0.0</td>\n",
              "      <td>0.0</td>\n",
              "      <td>0.0</td>\n",
              "      <td>0.0</td>\n",
              "      <td>0.0</td>\n",
              "      <td>0.0</td>\n",
              "      <td>0.0</td>\n",
              "      <td>0.0</td>\n",
              "      <td>0.0</td>\n",
              "      <td>0.0</td>\n",
              "      <td>0.0</td>\n",
              "      <td>0.0</td>\n",
              "      <td>0.0</td>\n",
              "      <td>0.0</td>\n",
              "      <td>0.0</td>\n",
              "      <td>0.0</td>\n",
              "      <td>0.0</td>\n",
              "      <td>0.0</td>\n",
              "      <td>0.0</td>\n",
              "    </tr>\n",
              "  </tbody>\n",
              "</table>\n",
              "<p>5 rows × 718 columns</p>\n",
              "</div>"
            ],
            "text/plain": [
              "   abuse  abuse power  active  activist  ...  woman ground  woman shoot  wound  yell\n",
              "0    0.0          0.0     0.0       0.0  ...           0.0          0.0    0.0   0.0\n",
              "1    0.0          0.0     0.0       0.0  ...           0.0          0.0    0.0   0.0\n",
              "2    0.0          0.0     0.0       0.0  ...           0.0          0.0    0.0   0.0\n",
              "3    0.0          0.0     0.0       0.0  ...           0.0          0.0    0.0   0.0\n",
              "4    0.0          0.0     0.0       0.0  ...           0.0          0.0    0.0   0.0\n",
              "\n",
              "[5 rows x 718 columns]"
            ]
          },
          "metadata": {
            "tags": []
          },
          "execution_count": 103
        }
      ]
    },
    {
      "cell_type": "code",
      "metadata": {
        "id": "BE5_4c6PZKC0",
        "outputId": "d88a2696-4db1-48ba-a554-5a8faae5d30e",
        "colab": {
          "base_uri": "https://localhost:8080/"
        }
      },
      "source": [
        "# Using KNnearestneighbors\n",
        "from sklearn.neighbors import NearestNeighbors\n",
        "\n",
        "nn = NearestNeighbors(n_neighbors=10, algorithm='kd_tree')\n",
        "nn.fit(vect)"
      ],
      "execution_count": null,
      "outputs": [
        {
          "output_type": "execute_result",
          "data": {
            "text/plain": [
              "NearestNeighbors(algorithm='kd_tree', leaf_size=30, metric='minkowski',\n",
              "                 metric_params=None, n_jobs=None, n_neighbors=10, p=2,\n",
              "                 radius=1.0)"
            ]
          },
          "metadata": {
            "tags": []
          },
          "execution_count": 104
        }
      ]
    },
    {
      "cell_type": "code",
      "metadata": {
        "id": "VOdHhfVzZTX4"
      },
      "source": [
        "# Testing with fake headline\n",
        "fk_headline = \"Police use tear gas during protest\"\n",
        "fk_headline_vector = tdf.transform([fk_headline]).todense()\n",
        "#fk_headline_vector"
      ],
      "execution_count": null,
      "outputs": []
    },
    {
      "cell_type": "code",
      "metadata": {
        "id": "MSAKSeJ9Zc-9",
        "outputId": "71c02ba4-5e2f-4183-a1f4-0ae62eb9d835",
        "colab": {
          "base_uri": "https://localhost:8080/"
        }
      },
      "source": [
        "#Showing array of vectors for fake headline\n",
        "neighbors = nn.kneighbors(fk_headline_vector)\n",
        "neighbors"
      ],
      "execution_count": null,
      "outputs": [
        {
          "output_type": "execute_result",
          "data": {
            "text/plain": [
              "(array([[0.66561049, 0.77912434, 0.8115066 , 0.85690006, 0.89203524,\n",
              "         0.92105122, 0.95439244, 0.99659684, 1.00241477, 1.01642204]]),\n",
              " array([[1119,  908, 1076,  996, 1219,  311,   20,  790, 1182,  194]]))"
            ]
          },
          "metadata": {
            "tags": []
          },
          "execution_count": 106
        }
      ]
    },
    {
      "cell_type": "code",
      "metadata": {
        "id": "qiaqwYG-Zphx",
        "outputId": "248062e0-9420-4984-8251-76266843a211",
        "colab": {
          "base_uri": "https://localhost:8080/"
        }
      },
      "source": [
        "for line in neighbors[1]:\n",
        "    print(df_846['title'].iloc[line])"
      ],
      "execution_count": null,
      "outputs": [
        {
          "output_type": "stream",
          "text": [
            "1119                    Police use tear gas on protesters\n",
            "908     Police use tear gas on protesters peacefully b...\n",
            "1076                    Police use tear gas to clear road\n",
            "996     Police use tear gas and flashbangs against pea...\n",
            "1219    Police use tear gas and riot rounds against pr...\n",
            "311     Police use tear gas and impact munitions again...\n",
            "20      Police use tear gas and stun grenades against ...\n",
            "790     Iowa State Police use tear gas & flashbangs ag...\n",
            "1182    Police use tear gas & rubber bullets on protes...\n",
            "194     Police and National Guard use tear gas and LRA...\n",
            "Name: title, dtype: object\n"
          ],
          "name": "stdout"
        }
      ]
    },
    {
      "cell_type": "markdown",
      "metadata": {
        "id": "n1jt_5Kk9vbK"
      },
      "source": [
        "## NewsAPI\n",
        "\n",
        "Considering using a news API to bring in additional sources of data"
      ]
    },
    {
      "cell_type": "code",
      "metadata": {
        "id": "hzv1Ho_791DD"
      },
      "source": [
        "#articles with the keyword police from NewsAPI\n",
        "#everything is limited to the past 24 months\n",
        "\n",
        "import requests\n",
        "url = ('http://newsapi.org/v2/everything?'\n",
        "       'q=police&'\n",
        "       'q=officer&'\n",
        "       'q=us&'\n",
        "       'q=america&'\n",
        "       #location can be use with top headlines, but not 'everything'\n",
        "       #'country=us&'  \n",
        "       'apiKey=NEWS_API_KEY')\n",
        "\n",
        "http = urllib3.PoolManager()\n",
        "response = http.request('GET', url)\n",
        "\n",
        "soup2 = BeautifulSoup(response.data, \"html.parser\")"
      ],
      "execution_count": null,
      "outputs": []
    },
    {
      "cell_type": "code",
      "metadata": {
        "id": "8LAENjWd-pNC"
      },
      "source": [
        "newsAPI = json.loads(soup2.text)\n",
        "newsAPI"
      ],
      "execution_count": null,
      "outputs": []
    },
    {
      "cell_type": "code",
      "metadata": {
        "id": "sBq5J15Z-t2E",
        "outputId": "9104397a-673b-4b8e-f1a7-ae845c2cdd70",
        "colab": {
          "base_uri": "https://localhost:8080/"
        }
      },
      "source": [
        "reports = newsAPI['articles']\n",
        "reports[7]"
      ],
      "execution_count": null,
      "outputs": [
        {
          "output_type": "execute_result",
          "data": {
            "text/plain": [
              "{'author': 'Ed Shanahan',\n",
              " 'content': 'It was their decision to not file any charges, she said.\\r\\nThe Buffalo Police Department did not respond to a request for comment. Neither did a spokesman for Mr. Brown, who, according to local media … [+1854 chars]',\n",
              " 'description': 'The white New York State judge invoked his friendship with the mayor and ties to the police, raising questions about whether his status and race were factors.',\n",
              " 'publishedAt': '2020-10-16T00:52:17Z',\n",
              " 'source': {'id': None, 'name': 'New York Times'},\n",
              " 'title': 'N.Y. Judge Mark Grisanti Shoves Buffalo Police Officer',\n",
              " 'url': 'https://www.nytimes.com/2020/10/15/nyregion/judge-grisanti-buffalo-police.html',\n",
              " 'urlToImage': 'https://static01.nyt.com/images/2020/10/15/us/politics/judge-promo/Screen-Shot-2020-10-15-at-3-facebookJumbo-v2.png'}"
            ]
          },
          "metadata": {
            "tags": []
          },
          "execution_count": 150
        }
      ]
    },
    {
      "cell_type": "code",
      "metadata": {
        "id": "Ng4nCT8k-2qV"
      },
      "source": [
        "df_newsAPI = pd.DataFrame(reports)"
      ],
      "execution_count": null,
      "outputs": []
    },
    {
      "cell_type": "code",
      "metadata": {
        "id": "d5BpHViT-_Jc",
        "outputId": "fd965dca-2f5f-4d82-a8dd-e208f827d4b9",
        "colab": {
          "base_uri": "https://localhost:8080/",
          "height": 716
        }
      },
      "source": [
        "df_newsAPI['publishedAt'] = pd.to_datetime(df_newsAPI['publishedAt'])\n",
        "df_newsAPI.head()"
      ],
      "execution_count": null,
      "outputs": [
        {
          "output_type": "execute_result",
          "data": {
            "text/html": [
              "<div>\n",
              "<style scoped>\n",
              "    .dataframe tbody tr th:only-of-type {\n",
              "        vertical-align: middle;\n",
              "    }\n",
              "\n",
              "    .dataframe tbody tr th {\n",
              "        vertical-align: top;\n",
              "    }\n",
              "\n",
              "    .dataframe thead th {\n",
              "        text-align: right;\n",
              "    }\n",
              "</style>\n",
              "<table border=\"1\" class=\"dataframe\">\n",
              "  <thead>\n",
              "    <tr style=\"text-align: right;\">\n",
              "      <th></th>\n",
              "      <th>source</th>\n",
              "      <th>author</th>\n",
              "      <th>title</th>\n",
              "      <th>description</th>\n",
              "      <th>url</th>\n",
              "      <th>urlToImage</th>\n",
              "      <th>publishedAt</th>\n",
              "      <th>content</th>\n",
              "    </tr>\n",
              "  </thead>\n",
              "  <tbody>\n",
              "    <tr>\n",
              "      <th>0</th>\n",
              "      <td>{'id': None, 'name': 'Lifehacker.com'}</td>\n",
              "      <td>Elizabeth Yuko</td>\n",
              "      <td>What's Happening in Nigeria?</td>\n",
              "      <td>After a summer of ongoing protests over police...</td>\n",
              "      <td>https://lifehacker.com/whats-happening-in-nige...</td>\n",
              "      <td>https://i.kinja-img.com/gawker-media/image/upl...</td>\n",
              "      <td>2020-10-26 17:00:00+00:00</td>\n",
              "      <td>After a summer of ongoing protests over police...</td>\n",
              "    </tr>\n",
              "    <tr>\n",
              "      <th>1</th>\n",
              "      <td>{'id': None, 'name': 'New York Times'}</td>\n",
              "      <td>Johnny Diaz</td>\n",
              "      <td>Two Police Officers Are Shot in Houston</td>\n",
              "      <td>Chief Art Acevedo of the Houston police said a...</td>\n",
              "      <td>https://www.nytimes.com/2020/10/20/us/houston-...</td>\n",
              "      <td>https://static01.nyt.com/images/2020/10/20/mul...</td>\n",
              "      <td>2020-10-20 16:07:59+00:00</td>\n",
              "      <td>Two police officers were struck by gunfire at ...</td>\n",
              "    </tr>\n",
              "    <tr>\n",
              "      <th>2</th>\n",
              "      <td>{'id': 'bbc-news', 'name': 'BBC News'}</td>\n",
              "      <td>https://www.facebook.com/bbcnews</td>\n",
              "      <td>Several injured in Vienna shooting, police say</td>\n",
              "      <td>One attacker is dead and another on the run as...</td>\n",
              "      <td>https://www.bbc.co.uk/news/world-europe-54786952</td>\n",
              "      <td>https://ichef.bbci.co.uk/news/1024/branded_new...</td>\n",
              "      <td>2020-11-02 20:47:09+00:00</td>\n",
              "      <td>image captionA large-scale police operation is...</td>\n",
              "    </tr>\n",
              "    <tr>\n",
              "      <th>3</th>\n",
              "      <td>{'id': None, 'name': 'New York Times'}</td>\n",
              "      <td>Michael Levenson</td>\n",
              "      <td>Waukegan Police Killing of Black Man Sets Off ...</td>\n",
              "      <td>The police in Waukegan, Ill., said Marcellis S...</td>\n",
              "      <td>https://www.nytimes.com/2020/10/22/us/waukegan...</td>\n",
              "      <td>https://static01.nyt.com/images/2020/10/22/mul...</td>\n",
              "      <td>2020-10-23 00:19:02+00:00</td>\n",
              "      <td>The shooting came five months after George Flo...</td>\n",
              "    </tr>\n",
              "    <tr>\n",
              "      <th>4</th>\n",
              "      <td>{'id': 'bbc-news', 'name': 'BBC News'}</td>\n",
              "      <td>None</td>\n",
              "      <td>Covid: Protesters clash with police in Italy</td>\n",
              "      <td>Gyms, swimming pools, cinemas and theatres are...</td>\n",
              "      <td>https://www.bbc.co.uk/news/av/world-europe-547...</td>\n",
              "      <td>https://ichef.bbci.co.uk/images/ic/400xn/p08wk...</td>\n",
              "      <td>2020-10-27 14:44:02+00:00</td>\n",
              "      <td>Protests broke out across Italy on Monday over...</td>\n",
              "    </tr>\n",
              "  </tbody>\n",
              "</table>\n",
              "</div>"
            ],
            "text/plain": [
              "                                   source  ...                                            content\n",
              "0  {'id': None, 'name': 'Lifehacker.com'}  ...  After a summer of ongoing protests over police...\n",
              "1  {'id': None, 'name': 'New York Times'}  ...  Two police officers were struck by gunfire at ...\n",
              "2  {'id': 'bbc-news', 'name': 'BBC News'}  ...  image captionA large-scale police operation is...\n",
              "3  {'id': None, 'name': 'New York Times'}  ...  The shooting came five months after George Flo...\n",
              "4  {'id': 'bbc-news', 'name': 'BBC News'}  ...  Protests broke out across Italy on Monday over...\n",
              "\n",
              "[5 rows x 8 columns]"
            ]
          },
          "metadata": {
            "tags": []
          },
          "execution_count": 143
        }
      ]
    },
    {
      "cell_type": "code",
      "metadata": {
        "id": "PBxsTslyUvQr",
        "outputId": "481e5d43-3255-4e40-e961-dbc41b986eaf",
        "colab": {
          "base_uri": "https://localhost:8080/"
        }
      },
      "source": [
        "df_newsAPI.shape"
      ],
      "execution_count": null,
      "outputs": [
        {
          "output_type": "execute_result",
          "data": {
            "text/plain": [
              "(20, 9)"
            ]
          },
          "metadata": {
            "tags": []
          },
          "execution_count": 151
        }
      ]
    },
    {
      "cell_type": "code",
      "metadata": {
        "id": "Req_mJ0h_dxa",
        "outputId": "764e52bf-e569-491a-d19a-6bbdcd5df3d7",
        "colab": {
          "base_uri": "https://localhost:8080/",
          "height": 35
        }
      },
      "source": [
        "df_newsAPI['description'][7]"
      ],
      "execution_count": null,
      "outputs": [
        {
          "output_type": "execute_result",
          "data": {
            "application/vnd.google.colaboratory.intrinsic+json": {
              "type": "string"
            },
            "text/plain": [
              "'The white New York State judge invoked his friendship with the mayor and ties to the police, raising questions about whether his status and race were factors.'"
            ]
          },
          "metadata": {
            "tags": []
          },
          "execution_count": 152
        }
      ]
    },
    {
      "cell_type": "code",
      "metadata": {
        "id": "F6B458Xr_5BZ",
        "outputId": "5199e007-6a33-4606-959a-fa3a594751f3",
        "colab": {
          "base_uri": "https://localhost:8080/",
          "height": 35
        }
      },
      "source": [
        "df_newsAPI['content'][7]"
      ],
      "execution_count": null,
      "outputs": [
        {
          "output_type": "execute_result",
          "data": {
            "application/vnd.google.colaboratory.intrinsic+json": {
              "type": "string"
            },
            "text/plain": [
              "'It was their decision to not file any charges, she said.\\r\\nThe Buffalo Police Department did not respond to a request for comment. Neither did a spokesman for Mr. Brown, who, according to local media … [+1854 chars]'"
            ]
          },
          "metadata": {
            "tags": []
          },
          "execution_count": 153
        }
      ]
    },
    {
      "cell_type": "code",
      "metadata": {
        "id": "LlagGAEO__96",
        "outputId": "52fdcc06-d8b4-4b35-90ae-66a562729cc6",
        "colab": {
          "base_uri": "https://localhost:8080/",
          "height": 35
        }
      },
      "source": [
        "df_newsAPI['title'][7]"
      ],
      "execution_count": null,
      "outputs": [
        {
          "output_type": "execute_result",
          "data": {
            "application/vnd.google.colaboratory.intrinsic+json": {
              "type": "string"
            },
            "text/plain": [
              "'N.Y. Judge Mark Grisanti Shoves Buffalo Police Officer'"
            ]
          },
          "metadata": {
            "tags": []
          },
          "execution_count": 154
        }
      ]
    },
    {
      "cell_type": "code",
      "metadata": {
        "id": "cGB6GrIVAHCL"
      },
      "source": [
        "df_newsAPI['concat'] = df_newsAPI['title'] + \" \" + df_newsAPI['description'] + \" \" + df_newsAPI['content']"
      ],
      "execution_count": null,
      "outputs": []
    },
    {
      "cell_type": "code",
      "metadata": {
        "id": "waIWoEmkwj5R",
        "outputId": "5033b4a4-300f-4e84-9a16-284520280459",
        "colab": {
          "base_uri": "https://localhost:8080/",
          "height": 54
        }
      },
      "source": [
        "df_newsAPI['concat'][7]"
      ],
      "execution_count": null,
      "outputs": [
        {
          "output_type": "execute_result",
          "data": {
            "application/vnd.google.colaboratory.intrinsic+json": {
              "type": "string"
            },
            "text/plain": [
              "'N.Y. Judge Mark Grisanti Shoves Buffalo Police Officer The white New York State judge invoked his friendship with the mayor and ties to the police, raising questions about whether his status and race were factors. It was their decision to not file any charges, she said.\\r\\nThe Buffalo Police Department did not respond to a request for comment. Neither did a spokesman for Mr. Brown, who, according to local media … [+1854 chars]'"
            ]
          },
          "metadata": {
            "tags": []
          },
          "execution_count": 156
        }
      ]
    },
    {
      "cell_type": "markdown",
      "metadata": {
        "id": "lEBEziE3yHGl"
      },
      "source": [
        "##Can we compare new headlines to the 846 headlines? "
      ]
    },
    {
      "cell_type": "code",
      "metadata": {
        "id": "gSaVnv5fyQFv"
      },
      "source": [
        "#tag, title and content info from single NewsAPI article\n",
        "\n",
        "newsAPI_headline = df_newsAPI['concat'][7]\n",
        "\n",
        "df_newsAPI_vector = tdf.transform([newsAPI_headline]).todense()\n",
        "#df_newsAPI_vector"
      ],
      "execution_count": null,
      "outputs": []
    },
    {
      "cell_type": "code",
      "metadata": {
        "id": "jT04nqiY0pwB",
        "outputId": "8b9aa290-2f1c-4509-dc36-393f818c66c5",
        "colab": {
          "base_uri": "https://localhost:8080/"
        }
      },
      "source": [
        "# Showing array of vectors for single news article\n",
        "\n",
        "neighbors2 = nn.kneighbors(df_newsAPI_vector)\n",
        "neighbors2"
      ],
      "execution_count": null,
      "outputs": [
        {
          "output_type": "execute_result",
          "data": {
            "text/plain": [
              "(array([[1.1269077 , 1.14104592, 1.17851569, 1.1823841 , 1.19284981,\n",
              "         1.20108041, 1.20108041, 1.20624614, 1.22555252, 1.23280131]]),\n",
              " array([[ 891,  308,   91,  772,  624,  144, 1247, 1146,  919,  701]]))"
            ]
          },
          "metadata": {
            "tags": []
          },
          "execution_count": 158
        }
      ]
    },
    {
      "cell_type": "code",
      "metadata": {
        "id": "sUrg31zh05aE",
        "outputId": "d773b2fd-35a5-4b3c-e14a-7661aea9e686",
        "colab": {
          "base_uri": "https://localhost:8080/"
        }
      },
      "source": [
        "#Match the most similar headlines from 846 data\n",
        "\n",
        "for line in neighbors2[1]:\n",
        "    print(df_846['title'].iloc[line])"
      ],
      "execution_count": null,
      "outputs": [
        {
          "output_type": "stream",
          "text": [
            "891              Officer incites violence on social media\n",
            "308                    Police pepper spray media personel\n",
            "91            Police arrest Kentucky State Representative\n",
            "772               White-shirted officers shove protesters\n",
            "624     Woman struck by white supremacist while police...\n",
            "144                       Police officer shoves protester\n",
            "1247                     Police officer shoves protesters\n",
            "1146                      Police officer shoves protester\n",
            "919               Police violence outside the White House\n",
            "701     Police officer stops abrubtly so protester bum...\n",
            "Name: title, dtype: object\n"
          ],
          "name": "stdout"
        }
      ]
    }
  ]
}