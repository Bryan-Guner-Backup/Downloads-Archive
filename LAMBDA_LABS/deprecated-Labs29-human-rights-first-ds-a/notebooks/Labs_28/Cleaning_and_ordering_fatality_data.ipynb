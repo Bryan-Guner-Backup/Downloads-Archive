{
 "cells": [
  {
   "cell_type": "code",
   "execution_count": 17,
   "metadata": {},
   "outputs": [],
   "source": [
    "import pandas as pd\n",
    "\n",
    "df = pd.read_csv(\"fatal-police-shootings-data.csv\",usecols = [1,2,3,8,9,14,15])\n",
    "\n",
    "df.rename(columns={\"manner_of_death\":\"force_type\",\"latitude\":\"lat\",\"longitude\":\"lon\"}, inplace = True)\n",
    "\n",
    "df[\"location\"] = \"unreported\"\n",
    "\n",
    "df = df[['date','location','lat','lon','state','city','force_type','name']]\n",
    "\n",
    "df.to_csv(\"cleaned_and_ordered_fatalities_data.csv\")"
   ]
  }
 ],
 "metadata": {
  "kernelspec": {
   "display_name": "Python 3",
   "language": "python",
   "name": "python3"
  },
  "language_info": {
   "codemirror_mode": {
    "name": "ipython",
    "version": 3
   },
   "file_extension": ".py",
   "mimetype": "text/x-python",
   "name": "python",
   "nbconvert_exporter": "python",
   "pygments_lexer": "ipython3",
   "version": "3.8.3"
  }
 },
 "nbformat": 4,
 "nbformat_minor": 4
}
