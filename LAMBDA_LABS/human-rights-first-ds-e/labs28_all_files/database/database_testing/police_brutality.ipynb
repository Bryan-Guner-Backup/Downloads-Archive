{
  "nbformat": 4,
  "nbformat_minor": 0,
  "metadata": {
    "colab": {
      "name": "police brutality",
      "provenance": [],
      "collapsed_sections": []
    },
    "kernelspec": {
      "name": "python3",
      "display_name": "Python 3"
    }
  },
  "cells": [
    {
      "cell_type": "code",
      "metadata": {
        "id": "S5aonKo2MDxW",
        "outputId": "9582b0f6-7264-420f-f1e8-ea246a044ff7",
        "colab": {
          "base_uri": "https://localhost:8080/",
          "height": 181
        }
      },
      "source": [
        "import pandas as pd\n",
        "df = pd.read_csv('all_sources_geoed.csv', sep = '|')"
      ],
      "execution_count": 2,
      "outputs": []
    },
    {
      "cell_type": "code",
      "metadata": {
        "id": "dV90sn-vPvBc"
      },
      "source": [
        "df\n",
        "\n",
        "#i like to make a copy of the dataframe to work on in case i screw up\n",
        "#so i don't have to import the csv and so on all over again"
      ],
      "execution_count": 3,
      "outputs": []
    },
    {
      "cell_type": "code",
      "metadata": {
        "id": "WfRjZrzxPy2y",
        "outputId": "45fc2212-9f76-4fd3-f47f-aacc8dc2f00c",
        "colab": {
          "base_uri": "https://localhost:8080/"
        }
      },
      "source": [
        "df.head()"
      ],
      "execution_count": 4,
      "outputs": [
        {
          "output_type": "execute_result",
          "data": {
            "text/plain": [
              "   ind                                                src       state  \\\n",
              "0    0    ['https://www.youtube.com/watch?v=s7MM1VauRHo']  Washington   \n",
              "1    1  ['https://mobile.twitter.com/chadloder/status/...  Washington   \n",
              "2    2  ['https://twitter.com/gunduzbaba1905/status/12...  Washington   \n",
              "3    3  ['https://www.reddit.com/r/Bad_Cop_No_Donut/co...  Washington   \n",
              "4    4  ['https://www.fox10phoenix.com/news/video-show...  Washington   \n",
              "\n",
              "      city                                        description  \\\n",
              "0  Olympia  Footage shows a few individuals break off from...   \n",
              "1  Seattle  Officer pins protester with his knee on his ne...   \n",
              "2  Seattle  A couple of police officers are seen beating a...   \n",
              "3  Seattle  A police officer randomly and indiscriminately...   \n",
              "4  Seattle  Police pepper sprays a young child who is seen...   \n",
              "\n",
              "                                                tags  \\\n",
              "0  ['arrest', 'less-lethal', 'projectile', 'prote...   \n",
              "1            ['arrest', 'knee-on-neck', 'protester']   \n",
              "2                     ['beat', 'protester', 'punch']   \n",
              "3       ['less-lethal', 'pepper-spray', 'protester']   \n",
              "4  ['child', 'inhumane-treatment', 'less-lethal',...   \n",
              "\n",
              "                                     geolocation  \\\n",
              "0  {'lat': '47.0378741', 'long': '-122.9006951'}   \n",
              "1  {'lat': '47.6062095', 'long': '-122.3320708'}   \n",
              "2  {'lat': '47.6062095', 'long': '-122.3320708'}   \n",
              "3  {'lat': '47.6062095', 'long': '-122.3320708'}   \n",
              "4  {'lat': '47.6062095', 'long': '-122.3320708'}   \n",
              "\n",
              "                                               title        date date_text  \\\n",
              "0  Police respond to broken windows with excessiv...  2020-05-31  May 31st   \n",
              "1  Officer pins protester by pushing his knee int...  2020-05-30  May 30th   \n",
              "2              Police beat unarmed man on the ground  2020-05-31  May 31st   \n",
              "3  Police indiscriminately pepper spray peaceful ...  2020-05-31  May 31st   \n",
              "4                    Police pepper spray young child  2020-05-31  May 31st   \n",
              "\n",
              "             id        lat        long  \n",
              "0  wa-olympia-1  47.037874 -122.900695  \n",
              "1  wa-seattle-1  47.606209 -122.332071  \n",
              "2  wa-seattle-2  47.606209 -122.332071  \n",
              "3  wa-seattle-3  47.606209 -122.332071  \n",
              "4  wa-seattle-4  47.606209 -122.332071  "
            ],
            "text/html": "<div>\n<style scoped>\n    .dataframe tbody tr th:only-of-type {\n        vertical-align: middle;\n    }\n\n    .dataframe tbody tr th {\n        vertical-align: top;\n    }\n\n    .dataframe thead th {\n        text-align: right;\n    }\n</style>\n<table border=\"1\" class=\"dataframe\">\n  <thead>\n    <tr style=\"text-align: right;\">\n      <th></th>\n      <th>ind</th>\n      <th>src</th>\n      <th>state</th>\n      <th>city</th>\n      <th>description</th>\n      <th>tags</th>\n      <th>geolocation</th>\n      <th>title</th>\n      <th>date</th>\n      <th>date_text</th>\n      <th>id</th>\n      <th>lat</th>\n      <th>long</th>\n    </tr>\n  </thead>\n  <tbody>\n    <tr>\n      <th>0</th>\n      <td>0</td>\n      <td>['https://www.youtube.com/watch?v=s7MM1VauRHo']</td>\n      <td>Washington</td>\n      <td>Olympia</td>\n      <td>Footage shows a few individuals break off from...</td>\n      <td>['arrest', 'less-lethal', 'projectile', 'prote...</td>\n      <td>{'lat': '47.0378741', 'long': '-122.9006951'}</td>\n      <td>Police respond to broken windows with excessiv...</td>\n      <td>2020-05-31</td>\n      <td>May 31st</td>\n      <td>wa-olympia-1</td>\n      <td>47.037874</td>\n      <td>-122.900695</td>\n    </tr>\n    <tr>\n      <th>1</th>\n      <td>1</td>\n      <td>['https://mobile.twitter.com/chadloder/status/...</td>\n      <td>Washington</td>\n      <td>Seattle</td>\n      <td>Officer pins protester with his knee on his ne...</td>\n      <td>['arrest', 'knee-on-neck', 'protester']</td>\n      <td>{'lat': '47.6062095', 'long': '-122.3320708'}</td>\n      <td>Officer pins protester by pushing his knee int...</td>\n      <td>2020-05-30</td>\n      <td>May 30th</td>\n      <td>wa-seattle-1</td>\n      <td>47.606209</td>\n      <td>-122.332071</td>\n    </tr>\n    <tr>\n      <th>2</th>\n      <td>2</td>\n      <td>['https://twitter.com/gunduzbaba1905/status/12...</td>\n      <td>Washington</td>\n      <td>Seattle</td>\n      <td>A couple of police officers are seen beating a...</td>\n      <td>['beat', 'protester', 'punch']</td>\n      <td>{'lat': '47.6062095', 'long': '-122.3320708'}</td>\n      <td>Police beat unarmed man on the ground</td>\n      <td>2020-05-31</td>\n      <td>May 31st</td>\n      <td>wa-seattle-2</td>\n      <td>47.606209</td>\n      <td>-122.332071</td>\n    </tr>\n    <tr>\n      <th>3</th>\n      <td>3</td>\n      <td>['https://www.reddit.com/r/Bad_Cop_No_Donut/co...</td>\n      <td>Washington</td>\n      <td>Seattle</td>\n      <td>A police officer randomly and indiscriminately...</td>\n      <td>['less-lethal', 'pepper-spray', 'protester']</td>\n      <td>{'lat': '47.6062095', 'long': '-122.3320708'}</td>\n      <td>Police indiscriminately pepper spray peaceful ...</td>\n      <td>2020-05-31</td>\n      <td>May 31st</td>\n      <td>wa-seattle-3</td>\n      <td>47.606209</td>\n      <td>-122.332071</td>\n    </tr>\n    <tr>\n      <th>4</th>\n      <td>4</td>\n      <td>['https://www.fox10phoenix.com/news/video-show...</td>\n      <td>Washington</td>\n      <td>Seattle</td>\n      <td>Police pepper sprays a young child who is seen...</td>\n      <td>['child', 'inhumane-treatment', 'less-lethal',...</td>\n      <td>{'lat': '47.6062095', 'long': '-122.3320708'}</td>\n      <td>Police pepper spray young child</td>\n      <td>2020-05-31</td>\n      <td>May 31st</td>\n      <td>wa-seattle-4</td>\n      <td>47.606209</td>\n      <td>-122.332071</td>\n    </tr>\n  </tbody>\n</table>\n</div>"
          },
          "metadata": {},
          "execution_count": 4
        }
      ]
    },
    {
      "cell_type": "code",
      "metadata": {
        "id": "Gwck_nLlP_pr"
      },
      "source": [
        "tags = df['tags']\n",
        "\n",
        "tags = tags.str.replace(']', '')\n",
        "tags = tags.str.replace(\"'\", '')\n",
        "tags = tags.str.replace(',', '')\n",
        "tags = tags.str.replace('[', '')\n",
        "\n",
        "df['tags'] = tags\n",
        "\n",
        "#just cleaning up the tags column to make it easier to do the stuff below "
      ],
      "execution_count": 5,
      "outputs": []
    },
    {
      "cell_type": "code",
      "metadata": {
        "id": "vgdrcK11Rcuh"
      },
      "source": [
        "pd.set_option('display.max_rows', 69)\n",
        "\n",
        "#for reference, this is how you set the number of rows you can see in pandas\n",
        "#so you're not limited to 5 at the top and 5 at the bottom"
      ],
      "execution_count": 6,
      "outputs": []
    },
    {
      "cell_type": "code",
      "metadata": {
        "id": "IE64p85tQftG",
        "outputId": "c31f363a-afa1-4356-c528-b47c4f5bb2fd",
        "colab": {
          "base_uri": "https://localhost:8080/"
        }
      },
      "source": [
        "#'officer_presence' to be applied to all\n",
        "#'verbal' exists but doesnt seem to fit\n",
        "empty_hand_control = ['arrest', 'shove','push','tackle','knee','grab','punch','throw','zip-tie', 'choke', 'headlock']\n",
        "blunt_impact = ['baton', 'rubber-bullet', 'bean-bag', 'beanbag', 'foam-bullet', 'wooden-bullet', 'marking-round']\n",
        "chemical = ['tear', 'pepper', 'spray', 'stun-grenade', 'mace', 'gas']\n",
        "conducted_energy_devices = ['taser', 'ced', 'taze', 'tase']\n",
        "lethal_force = ['live-round', 'death']\n",
        "undocumented = ['less-lethal', 'shoot','journalist','projectile', 'strike','beat', 'property-destruction', 'abuse-of-power','bystander','threaten','vehicle', 'bike','inhumane-treatment','medic', 'shield','hide-badge', 'kick', 'explosive','legal-observer', 'drive', 'person-with-disability', 'child', 'homeless', 'lrad', 'politician', 'body-cam', 'gun', 'horse', 'racial-profiling', 'lbgtq+', 'sexual-assault', 'incitement', 'dog', 'celebrity', 'conceal', 'non-protest']\n",
        "\n",
        "#tags.str.split(expand=True).stack().value_counts()\n",
        "#number of times each tag appears in the data"
      ],
      "execution_count": 56,
      "outputs": []
    },
    {
      "cell_type": "code",
      "execution_count": 37,
      "metadata": {},
      "outputs": [],
      "source": [
        "df['force_cat'] = None"
      ]
    },
    {
      "cell_type": "code",
      "execution_count": 63,
      "metadata": {
        "tags": []
      },
      "outputs": [
        {
          "output_type": "execute_result",
          "data": {
            "text/plain": [
              "empty hand control         459\n",
              "chemical                   307\n",
              "blunt impact               240\n",
              "officer presence           162\n",
              "conducted energy device      8\n",
              "lethal force                 2\n",
              "Name: force_cat, dtype: int64"
            ]
          },
          "metadata": {},
          "execution_count": 63
        }
      ],
      "source": [
        "import collections\n",
        "\n",
        "\n",
        "# chemical = '|'.join(chemical)\n",
        "\n",
        "for ind in range(0, len(df)):\n",
        "    if df['force_cat'][ind] == 'red':\n",
        "        df['force_cat'][ind] = 'chemical'\n",
        "    for el in undocumented:\n",
        "        if el in df['tags'][ind]:\n",
        "            df['force_cat'][ind] = 'officer presence'\n",
        "    for el in chemical:\n",
        "        if el in df['tags'][ind]:\n",
        "            df['force_cat'][ind] = 'chemical'\n",
        "    for el in empty_hand_control:\n",
        "        if el in df['tags'][ind]:\n",
        "            df['force_cat'][ind] = 'empty hand control'\n",
        "    for el in blunt_impact:\n",
        "        if el in df['tags'][ind]:\n",
        "            df['force_cat'][ind] = 'blunt impact'\n",
        "    for el in conducted_energy_devices:\n",
        "        if el in df['tags'][ind]:\n",
        "            df['force_cat'][ind] = 'conducted energy device'\n",
        "    for el in lethal_force:\n",
        "        if el in df['tags'][ind]:\n",
        "            df['force_cat'][ind] = 'lethal force'\n",
        "\n",
        "\n",
        "\n",
        "\"\"\"for i in pigs['tags']:\n",
        "    if i in chemical:\n",
        "        pigs['force_cat'] = 'Chemical'\"\"\"\n",
        "pigs.to_csv()"
      ]
    },
    {
      "cell_type": "code",
      "execution_count": 90,
      "metadata": {},
      "outputs": [
        {
          "output_type": "execute_result",
          "data": {
            "text/plain": [
              "0                  arrest less-lethal projectile protester shoot tear-gas\n",
              "1                                           arrest knee-on-neck protester\n",
              "2                                                    beat protester punch\n",
              "3                                      less-lethal pepper-spray protester\n",
              "4             child inhumane-treatment less-lethal pepper-spray protester\n",
              "                                      ...                                \n",
              "1173                                              arrest lgbtq+ protester\n",
              "1174                                 abuse-of-power arrest knee protester\n",
              "1175     child less-lethal pepper-spray protester push shield shove spray\n",
              "1176    arrest beat child less-lethal pepper-spray protester spray tackle\n",
              "1177                    less-lethal medic protester stun-grenade tear-gas\n",
              "Name: tags, Length: 1178, dtype: object"
            ]
          },
          "metadata": {},
          "execution_count": 90
        }
      ],
      "source": []
    },
    {
      "cell_type": "code",
      "execution_count": null,
      "metadata": {},
      "outputs": [],
      "source": []
    }
  ]
}