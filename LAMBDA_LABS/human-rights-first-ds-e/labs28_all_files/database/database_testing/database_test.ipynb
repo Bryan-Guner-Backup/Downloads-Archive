{
 "metadata": {
  "language_info": {
   "codemirror_mode": {
    "name": "ipython",
    "version": 3
   },
   "file_extension": ".py",
   "mimetype": "text/x-python",
   "name": "python",
   "nbconvert_exporter": "python",
   "pygments_lexer": "ipython3",
   "version": "3.8.3-final"
  },
  "orig_nbformat": 2,
  "kernelspec": {
   "name": "python3",
   "display_name": "Python 3"
  }
 },
 "nbformat": 4,
 "nbformat_minor": 2,
 "cells": [
  {
   "cell_type": "code",
   "execution_count": 4,
   "metadata": {},
   "outputs": [],
   "source": [
    "import psycopg2\n",
    "import pandas as pd"
   ]
  },
  {
   "cell_type": "code",
   "execution_count": 5,
   "metadata": {},
   "outputs": [],
   "source": [
    "df = pd.read_csv('all_sources_geoed.csv', index_col=[0], sep='|')"
   ]
  },
  {
   "cell_type": "code",
   "execution_count": 6,
   "metadata": {},
   "outputs": [],
   "source": [
    "def copy_query(c, file_path, table_name, cols_tuple):\n",
    "\n",
    "    schema_table = table_name\n",
    "    with open(file_path, 'r') as f:\n",
    "        next(f)\n",
    "        c.copy_from(f, schema_table, sep=',', null='null', columns=cols_tuple)"
   ]
  },
  {
   "cell_type": "code",
   "execution_count": 7,
   "metadata": {},
   "outputs": [],
   "source": [
    "file_p = \"all_sources_geoed.csv\"\n",
    "table_n = \"original_all_sources_geoed\"\n",
    "cols_t = ('ind','src', 'state', 'city', 'description', 'tags', 'geolocation', 'title', 'date', 'date_text', 'id', 'lat', 'long')"
   ]
  },
  {
   "cell_type": "code",
   "execution_count": 8,
   "metadata": {},
   "outputs": [
    {
     "output_type": "stream",
     "name": "stdout",
     "text": [
      "{'user': 'postgres_hrf_L28', 'dbname': 'postgres', 'host': 'database-2-hrf-ds-e.cjb51vwbigfl.us-east-1.rds.amazonaws.com', 'port': '5432', 'tty': '', 'options': '', 'sslmode': 'prefer', 'sslcompression': '0', 'krbsrvname': 'postgres', 'target_session_attrs': 'any'} \n\n"
     ]
    }
   ],
   "source": [
    "try:\n",
    "    #function for establishing connection\n",
    "    connection = psycopg2.connect(user= \"postgres_hrf_L28\",\n",
    "                                        password= \"P98bOOSz4YWnojw1htOo\", \n",
    "                                        host= \"database-2-hrf-ds-e.cjb51vwbigfl.us-east-1.rds.amazonaws.com\",\n",
    "                                        port = \"5432\",  \n",
    "                                        database = \"postgres\")\n",
    "    cursor = connection.cursor()\n",
    "    #print POSTGRES Conn properties\n",
    "    print(connection.get_dsn_parameters(), \"\\n\")\n",
    "\n",
    "except Exception as ex:\n",
    "        print(\"connection error: \")\n",
    "        print (ex)"
   ]
  },
  {
   "cell_type": "code",
   "execution_count": 9,
   "metadata": {},
   "outputs": [],
   "source": [
    "#THIS line of code was quickly written to remove all commas from strings for ease of SQL query,\n",
    "#can be refined to not brute force delete all commas\n",
    "\n",
    "#df['description'] = df['description'].str.replace(\",\", \"\")"
   ]
  },
  {
   "cell_type": "code",
   "execution_count": 10,
   "metadata": {},
   "outputs": [
    {
     "output_type": "execute_result",
     "data": {
      "text/plain": [
       "Index(['src', 'state', 'city', 'description', 'tags', 'geolocation', 'title',\n",
       "       'date', 'date_text', 'id', 'lat', 'long'],\n",
       "      dtype='object')"
      ]
     },
     "metadata": {},
     "execution_count": 10
    }
   ],
   "source": [
    "df.columns"
   ]
  },
  {
   "cell_type": "code",
   "execution_count": 23,
   "metadata": {},
   "outputs": [],
   "source": [
    "#THIS NEEDS TO RUN THROUGH WHOLE DF NOT JUST SRC\n",
    "\n",
    "cols_to_check = ['src', 'state', 'city', 'description', 'tags', 'geolocation', 'title',\n",
    "       'date', 'date_text', 'id', 'lat', 'long']\n",
    "\n",
    "df['src'] = df['src'].astype(str).str.replace('|', '', regex=True)\n",
    "\n",
    "df.iloc[88]\n",
    "df.to_csv('all_sources_geoed.csv', sep='|')"
   ]
  },
  {
   "cell_type": "code",
   "execution_count": 12,
   "metadata": {},
   "outputs": [
    {
     "output_type": "error",
     "ename": "DuplicateTable",
     "evalue": "relation \"all_sources_geod\" already exists\n",
     "traceback": [
      "\u001b[1;31m---------------------------------------------------------------------------\u001b[0m",
      "\u001b[1;31mDuplicateTable\u001b[0m                            Traceback (most recent call last)",
      "\u001b[1;32m<ipython-input-12-f1391eeaa30b>\u001b[0m in \u001b[0;36m<module>\u001b[1;34m\u001b[0m\n\u001b[0;32m      1\u001b[0m \u001b[1;31m#create all_sources_geod.csv\u001b[0m\u001b[1;33m\u001b[0m\u001b[1;33m\u001b[0m\u001b[1;33m\u001b[0m\u001b[0m\n\u001b[1;32m----> 2\u001b[1;33m cursor.execute(\"\"\"CREATE TABLE all_sources_geod(\n\u001b[0m\u001b[0;32m      3\u001b[0m     \u001b[0mind\u001b[0m \u001b[0mSERIAL\u001b[0m \u001b[0mPRIMARY\u001b[0m \u001b[0mKEY\u001b[0m\u001b[1;33m,\u001b[0m\u001b[1;33m\u001b[0m\u001b[1;33m\u001b[0m\u001b[0m\n\u001b[0;32m      4\u001b[0m     \u001b[0msrc\u001b[0m \u001b[0mtext\u001b[0m\u001b[1;33m,\u001b[0m\u001b[1;33m\u001b[0m\u001b[1;33m\u001b[0m\u001b[0m\n\u001b[0;32m      5\u001b[0m     \u001b[0mstate\u001b[0m \u001b[0mtext\u001b[0m\u001b[1;33m,\u001b[0m\u001b[1;33m\u001b[0m\u001b[1;33m\u001b[0m\u001b[0m\n",
      "\u001b[1;31mDuplicateTable\u001b[0m: relation \"all_sources_geod\" already exists\n"
     ]
    }
   ],
   "source": [
    "#create all_sources_geod.csv\n",
    "cursor.execute(\"\"\"CREATE TABLE all_sources_geod(\n",
    "    ind SERIAL PRIMARY KEY,\n",
    "    src text,\n",
    "    state text,\n",
    "    city text,\n",
    "    description text,\n",
    "    tags text,\n",
    "    geolocation text,\n",
    "    title text,\n",
    "    date text,\n",
    "    date_text text,\n",
    "    id text,\n",
    "    lat float,\n",
    "    long float)\"\"\")\n",
    "\n",
    "\n",
    "connection.commit()\n"
   ]
  },
  {
   "cell_type": "code",
   "execution_count": 7,
   "metadata": {},
   "outputs": [
    {
     "output_type": "stream",
     "name": "stdout",
     "text": [
      "error while connecting to postgreSQL current transaction is aborted, commands ignored until end of transaction block\n\n"
     ]
    }
   ],
   "source": [
    "try:\n",
    "    #INSERTING\n",
    "    copy_query(cursor, file_p, table_n, cols_t)\n",
    "    #INSERTING END\n",
    "\n",
    "    #COMMIT\n",
    "    connection.commit()\n",
    "    #COMMITING END\n",
    "except (Exception, psycopg2.Error) as error:\n",
    "    print(\"error while connecting to postgreSQL\", error)\n"
   ]
  },
  {
   "cell_type": "code",
   "execution_count": 29,
   "metadata": {},
   "outputs": [
    {
     "output_type": "execute_result",
     "data": {
      "text/plain": [
       "                                 ['https://twitter.com/greg_doucette/status/1275641933671673859', 'https://twitter.com/rom3robrix/status/1275287179632181255', 'https://twitter.com/rom3robrix/status/1275300903952822272', 'https://twitter.com/rom3robrix/status/1275303042242490374', 'https://twitter.com/sophiaxleza/status/1275296622524628993']   \n",
       "1175                                                                                                                                                                                                                                                                                                                                                                                                                                                                                                                                           ['https://www.instagram.com/tv/CBw5mKxjHPq/', 'https://www.desmoinesregister.com/story/news/crime-and-courts/2020/06/23/police-used-aggressive-kettling-tactics-des-moines-protesters-say/3241518001/', 'https://twitter.com/andreamsahouri/status/1275281913750618113', 'https://twitter.com/andreamsahouri/status/1275279366440837126', 'https://twitter.com/andreamsahouri/status/1275278920556974080']   \n",
       "1176                                                                                                                                                                                                                                                                                                                                                                                                                                                                                                                              ['https://twitter.com/shelbyfleig/status/1278399613683339265', 'https://www.desmoinesregister.com/story/news/2020/07/01/black-lives-matter-protest-state-capitol-results-arrests/5358305002/', 'https://www.kcrg.com/2020/07/01/arrests-made-at-state-capitol-during-black-lives-matter-protest/', 'https://www.kcci.com/article/des-moines-police-say-protesters-assaulted-officers-one-disarmed-an-officer/33031470']   \n",
       "1177                                                                                                                                                                                                                                                                                                                                                                                                                                                                                             ['https://twitter.com/DJPAIMON/status/1268399580753858561', 'https://www.reddit.com/r/IowaCity/comments/gwx86v/another_angle_of_the_police_firing_upon_us/', 'https://www.reddit.com/r/IowaCity/comments/gwml8n/state_police_gassing_citizens/', 'https://www.reddit.com/r/IowaCity/comments/gwaqzx/from_a_facebook_livestreamseems_like_peaceful/', 'https://www.reddit.com/r/IowaCity/comments/gwc763/iowa_city_pd_gassed_and_flashbanged_their_own/']   \n",
       "\n",
       "           state        city  \\\n",
       "0     Washington     Olympia   \n",
       "1     Washington     Seattle   \n",
       "2     Washington     Seattle   \n",
       "3     Washington     Seattle   \n",
       "4     Washington     Seattle   \n",
       "...          ...         ...   \n",
       "1173        Iowa  Des Moines   \n",
       "1174        Iowa  Des Moines   \n",
       "1175        Iowa  Des Moines   \n",
       "1176        Iowa  Des Moines   \n",
       "1177        Iowa   Iowa City   \n",
       "\n",
       "                                                                                                                                                                                                                                                                                                                                                                                                                                                                                                                                                                                                                                                                                                                                                                                                                                                                                                                                                                                                                                  description  \\\n",
       "0                                                                                                                                                                                                                                                                                                                                                                                                       Footage shows a few individuals break off from a protest to smash City Hall windows. Protesters shout at vandals to stop.  Police then arrive. They arrest multiple individuals near the City Hall windows including one individual who appeared to approach the vandals in an effort to defuse the situation.  Police fire tear gas and riot rounds at protesters during the arrests. Protesters become agitated.  After police walk arrestee away protesters continue to shout at police. Police respond with a second bout of tear gas and riot rounds.  A racial slur can be heard shouted although it is unsure who is shouting.   \n",
       "1                                                                                                                                                                                                                                                                                                                                                                                                                                                                                                                                                                                                                                                                                                                                                                                            \"Officer pins protester with his knee on his neck. His partner intervenes and moves his knee onto the individual's back.  Possibly related to OPD Case 2020OPA-0324 - \"\"Placing the knee on the neck area of two people who had been arrested\"\"\"   \n",
       "2                                                                                                                                                                                                                                                                                                                                                                                                                                                                                                                                                                                                                                                                                                                                                                                                                                            A couple of police officers are seen beating and manhandling an unarmed man. The officers are throwing punches while he was on the ground and pinned.  Related to Seattle OPA Case 2020OPA-0330.   \n",
       "3                                                                                                                                                                                                                                                                                                                                                                                                                                                                                                                                                                                                                                                                                                                                                                                                                                                                                                                   A police officer randomly and indiscriminately pepper sprays civilians walking around which then went on to spark a riot.   \n",
       "4                                                                                                                                                                                                                                                                                                                                                                                                                                                                                                                                                                                                                                                                                                                                                                                                                                                                                         Police pepper sprays a young child who is seen crying while protesters pour milk on the distressed girl.  Related to Seattle OPA Case 2020OPA-0322.   \n",
       "...                                                                                                                                                                                                                                                                                                                                                                                                                                                                                                                                                                                                                                                                                                                                                                                                                                                                                                                                                                                                                                       ...   \n",
       "1173                                                                                                                                                                                                                                                                                                                                                                                                                                                                                                                                                                                                                                                                 \"\"\"Des Moines police approached The Blazing Saddle a gay bar in Des Moines’ East Village neighborhood and searched the premises — apparently without a warrant. Video from a security camera made public on Facebook shows officers in riot gear converging suddenly on the bar at approximately 11:45 p.m. and detaining those gathered outside.\"\" - The Iowa Inquirer\"   \n",
       "1174                                                                                                                                                                                                                                                                                                                                                                                                                                                                                                                                                                                                                                                                                                                                                                                                                                                                          Footage shows two protesters being arrested. Four police are making the arrests two kneeling on each protester. A woman filming is harassed by another officer.   \n",
       "1175  \"First person footage of a protest shows police forcing protesters down a sidewalk. It is unclear why police determined protesters could not continue to protest peacefully at the point of the sidewalk.  Police use their shields to shove protesters along. Footage is dark and a little unclear but it appears that around 2 minutes the filmer and her sisters are pepper-sprayed. They scream in pain and the filmer states repeatedly that she cannot see. The filmer then loses track of her sisters. She finds one family member around 4 minutes who shows clear signs of having been pepper sprayed.  The filmer and her sister attempted to regroup and find their third family member but police continued to shove them along.  Around 4:15 a protester is shoved to the ground. She can be heard screaming \"\"My leg my leg.\"\"  After this footage cuts to a shot of the filmer turns the camera on herself and her eyes are watering showing clear indication of pepper spray. It is unclear if this is from the firs...   \n",
       "1176                                                                                                                                                                                                                                                          Black Lives Matter advocates gathered at the Capitol to lobby for the governor to sign an executive order restoring felon voting rights by Saturday July 4.  White protesters were inside the Capitol police identified some of them claimed to have vandalized police car in the past and arrests were made inside the Capitol for those individuals. However the arrested individuals declined the allegations. The protesters followed the police outside the Capitol and one of the protesters blocked their path and later the crowd tried to pull the arrestees from the custody of the police officers. That is when more crowds and police started to get involved. Police used pepper spray to help disperse the crowd and arrested 17 people including two juveniles.   \n",
       "1177                                                                                                                                                                                                                                                                                                                                       State police shoot tear gas into and deploy flashbangs against a crowd of peaceful protesters attempting to enter I-80. Some protesters stumble and fall as they try to flee.  Reportedly  one protester suffered seizures as a result of a flashbang and an ambulance was called to the scene.  Police continued to deploy tear gas and flashbangs in the area where Iowa city EMT's were working (see flashing white lights in cloud of gas 5th link). Unclear if they were aware of EMS presence.  According to the mayor Iowa State Patrol was in command of the scene (though some Iowa City Police were present) and it was determined that letting the protest onto I-80 was too dangerous.   \n",
       "\n",
       "                                                                                            tags  \\\n",
       "0                      ['arrest', 'less-lethal', 'projectile', 'protester', 'shoot', 'tear-gas']   \n",
       "1                                                        ['arrest', 'knee-on-neck', 'protester']   \n",
       "2                                                                 ['beat', 'protester', 'punch']   \n",
       "3                                                   ['less-lethal', 'pepper-spray', 'protester']   \n",
       "4                    ['child', 'inhumane-treatment', 'less-lethal', 'pepper-spray', 'protester']   \n",
       "...                                                                                          ...   \n",
       "1173                                                           ['arrest', 'lgbtq+', 'protester']   \n",
       "1174                                           ['abuse-of-power', 'arrest', 'knee', 'protester']   \n",
       "1175   ['child', 'less-lethal', 'pepper-spray', 'protester', 'push', 'shield', 'shove', 'spray']   \n",
       "1176  ['arrest', 'beat', 'child', 'less-lethal', 'pepper-spray', 'protester', 'spray', 'tackle']   \n",
       "1177                           ['less-lethal', 'medic', 'protester', 'stun-grenade', 'tear-gas']   \n",
       "\n",
       "                                        geolocation  \\\n",
       "0     {'lat': '47.0378741', 'long': '-122.9006951'}   \n",
       "1     {'lat': '47.6062095', 'long': '-122.3320708'}   \n",
       "2     {'lat': '47.6062095', 'long': '-122.3320708'}   \n",
       "3     {'lat': '47.6062095', 'long': '-122.3320708'}   \n",
       "4     {'lat': '47.6062095', 'long': '-122.3320708'}   \n",
       "...                                             ...   \n",
       "1173   {'lat': '41.5868353', 'long': '-93.6249593'}   \n",
       "1174   {'lat': '41.5868353', 'long': '-93.6249593'}   \n",
       "1175   {'lat': '41.5868353', 'long': '-93.6249593'}   \n",
       "1176   {'lat': '41.5868353', 'long': '-93.6249593'}   \n",
       "1177   {'lat': '41.6611277', 'long': '-91.5301683'}   \n",
       "\n",
       "                                                                                                                                 title  \\\n",
       "0                                                                                Police respond to broken windows with excessive force   \n",
       "1                                                                             Officer pins protester by pushing his knee into his neck   \n",
       "2                                                                                                Police beat unarmed man on the ground   \n",
       "3                                                                             Police indiscriminately pepper spray peaceful protesters   \n",
       "4                                                                                                      Police pepper spray young child   \n",
       "...                                                                                                                                ...   \n",
       "1173                           Armed police raid gay bar helping wounded Black Lives Matter protesters on the first day of Pride Month   \n",
       "1174                                                                           Police make violent arrests & harass protesters filming   \n",
       "1175                                                                                    Police push, shove and pepper-spray protesters   \n",
       "1176                                     Police arrest 17 people during a peaceful protest for Black Lives Matter at the State Capitol   \n",
       "1177  Iowa State Police use tear gas & flashbangs against crowd of civilians attempting to enter I-80 and later against Iowa City EMS.   \n",
       "\n",
       "            date  date_text               id        lat        long  \n",
       "0     2020-05-31   May 31st     wa-olympia-1  47.037874 -122.900695  \n",
       "1     2020-05-30   May 30th     wa-seattle-1  47.606209 -122.332071  \n",
       "2     2020-05-31   May 31st     wa-seattle-2  47.606209 -122.332071  \n",
       "3     2020-05-31   May 31st     wa-seattle-3  47.606209 -122.332071  \n",
       "4     2020-05-31   May 31st     wa-seattle-4  47.606209 -122.332071  \n",
       "...          ...        ...              ...        ...         ...  \n",
       "1173  2020-06-05   June 5th   ia-desmoines-5  41.586835  -93.624959  \n",
       "1174  2020-06-22  June 22nd  ia-desmoines-10  41.586835  -93.624959  \n",
       "1175  2020-06-22  June 22nd   ia-desmoines-9  41.586835  -93.624959  \n",
       "1176  2020-07-01   July 1st   ia-desmoines-8  41.586835  -93.624959  \n",
       "1177  2020-06-03   June 3rd    ia-iowacity-1  41.661128  -91.530168  \n",
       "\n",
       "[1178 rows x 13 columns]"
      ],
      "text/html": "<div>\n<style scoped>\n    .dataframe tbody tr th:only-of-type {\n        vertical-align: middle;\n    }\n\n    .dataframe tbody tr th {\n        vertical-align: top;\n    }\n\n    .dataframe thead th {\n        text-align: right;\n    }\n</style>\n<table border=\"1\" class=\"dataframe\">\n  <thead>\n    <tr style=\"text-align: right;\">\n      <th></th>\n      <th>ind</th>\n      <th>src</th>\n      <th>state</th>\n      <th>city</th>\n      <th>description</th>\n      <th>tags</th>\n      <th>geolocation</th>\n      <th>title</th>\n      <th>date</th>\n      <th>date_text</th>\n      <th>id</th>\n      <th>lat</th>\n      <th>long</th>\n    </tr>\n  </thead>\n  <tbody>\n    <tr>\n      <th>0</th>\n      <td>0</td>\n      <td>['https://www.youtube.com/watch?v=s7MM1VauRHo']</td>\n      <td>Washington</td>\n      <td>Olympia</td>\n      <td>Footage shows a few individuals break off from a protest to smash City Hall windows. Protesters shout at vandals to stop.  Police then arrive. They arrest multiple individuals near the City Hall windows including one individual who appeared to approach the vandals in an effort to defuse the situation.  Police fire tear gas and riot rounds at protesters during the arrests. Protesters become agitated.  After police walk arrestee away protesters continue to shout at police. Police respond with a second bout of tear gas and riot rounds.  A racial slur can be heard shouted although it is unsure who is shouting.</td>\n      <td>['arrest', 'less-lethal', 'projectile', 'protester', 'shoot', 'tear-gas']</td>\n      <td>{'lat': '47.0378741', 'long': '-122.9006951'}</td>\n      <td>Police respond to broken windows with excessive force</td>\n      <td>2020-05-31</td>\n      <td>May 31st</td>\n      <td>wa-olympia-1</td>\n      <td>47.037874</td>\n      <td>-122.900695</td>\n    </tr>\n    <tr>\n      <th>1</th>\n      <td>1</td>\n      <td>['https://mobile.twitter.com/chadloder/status/1267011092045115392']</td>\n      <td>Washington</td>\n      <td>Seattle</td>\n      <td>\"Officer pins protester with his knee on his neck. His partner intervenes and moves his knee onto the individual's back.  Possibly related to OPD Case 2020OPA-0324 - \"\"Placing the knee on the neck area of two people who had been arrested\"\"\"</td>\n      <td>['arrest', 'knee-on-neck', 'protester']</td>\n      <td>{'lat': '47.6062095', 'long': '-122.3320708'}</td>\n      <td>Officer pins protester by pushing his knee into his neck</td>\n      <td>2020-05-30</td>\n      <td>May 30th</td>\n      <td>wa-seattle-1</td>\n      <td>47.606209</td>\n      <td>-122.332071</td>\n    </tr>\n    <tr>\n      <th>2</th>\n      <td>2</td>\n      <td>['https://twitter.com/gunduzbaba1905/status/1266937500607614982']</td>\n      <td>Washington</td>\n      <td>Seattle</td>\n      <td>A couple of police officers are seen beating and manhandling an unarmed man. The officers are throwing punches while he was on the ground and pinned.  Related to Seattle OPA Case 2020OPA-0330.</td>\n      <td>['beat', 'protester', 'punch']</td>\n      <td>{'lat': '47.6062095', 'long': '-122.3320708'}</td>\n      <td>Police beat unarmed man on the ground</td>\n      <td>2020-05-31</td>\n      <td>May 31st</td>\n      <td>wa-seattle-2</td>\n      <td>47.606209</td>\n      <td>-122.332071</td>\n    </tr>\n    <tr>\n      <th>3</th>\n      <td>3</td>\n      <td>['https://www.reddit.com/r/Bad_Cop_No_Donut/comments/gtt3w8/i_caught_the_moment_seattle_police_pepper_sprayed/']</td>\n      <td>Washington</td>\n      <td>Seattle</td>\n      <td>A police officer randomly and indiscriminately pepper sprays civilians walking around which then went on to spark a riot.</td>\n      <td>['less-lethal', 'pepper-spray', 'protester']</td>\n      <td>{'lat': '47.6062095', 'long': '-122.3320708'}</td>\n      <td>Police indiscriminately pepper spray peaceful protesters</td>\n      <td>2020-05-31</td>\n      <td>May 31st</td>\n      <td>wa-seattle-3</td>\n      <td>47.606209</td>\n      <td>-122.332071</td>\n    </tr>\n    <tr>\n      <th>4</th>\n      <td>4</td>\n      <td>['https://www.fox10phoenix.com/news/video-shows-milk-poured-over-face-of-child-pepper-sprayed-in-seattle-protest']</td>\n      <td>Washington</td>\n      <td>Seattle</td>\n      <td>Police pepper sprays a young child who is seen crying while protesters pour milk on the distressed girl.  Related to Seattle OPA Case 2020OPA-0322.</td>\n      <td>['child', 'inhumane-treatment', 'less-lethal', 'pepper-spray', 'protester']</td>\n      <td>{'lat': '47.6062095', 'long': '-122.3320708'}</td>\n      <td>Police pepper spray young child</td>\n      <td>2020-05-31</td>\n      <td>May 31st</td>\n      <td>wa-seattle-4</td>\n      <td>47.606209</td>\n      <td>-122.332071</td>\n    </tr>\n    <tr>\n      <th>...</th>\n      <td>...</td>\n      <td>...</td>\n      <td>...</td>\n      <td>...</td>\n      <td>...</td>\n      <td>...</td>\n      <td>...</td>\n      <td>...</td>\n      <td>...</td>\n      <td>...</td>\n      <td>...</td>\n      <td>...</td>\n      <td>...</td>\n    </tr>\n    <tr>\n      <th>1173</th>\n      <td>1173</td>\n      <td>['https://www.pinknews.co.uk/2020/06/05/police-raid-blazing-saddle-des-moines-iowa-black-lives-matter-stonewall/?fbclid=IwAR20SUPSke3O_U2jqXaicl3dOcKwKPYlG5eOc131oao76Z2rEXXz0-ASORQ', 'http://iowainformer.com/politics/2020/06/des-moines-gay-bar-raided-amid-black-lives-matter-protests-as-pride-month-begins/', 'https://twitter.com/aaronpcalvin/status/1268708285517004801', 'https://www.google.ca/maps/place/The+Blazing+Saddle/@41.590306,-93.6114412,3a,75y,275.31h,90t/data=!3m7!1e1!3m5!1sysYseTIG29m9bjNYmZ71zQ!2e0!6s%2F%2Fgeo3.ggpht.com%2Fcbk%3Fpanoid%3DysYseTIG29m9bjNYmZ71zQ%26output%3Dthumbnail%26cb_client%3Dmaps_sv.tactile.gps%26thumb%3D2%26w%3D203%26h%3D100%26yaw%3D275.31018%26pitch%3D0%26thumbfov%3D100!7i16384!8i8192!4m7!3m6!1s0x87ee99b1e2f004c9:0xf6f27ceb30ff9e27!8m2!3d41.5902914!4d-93.6115743!14m1!1BCgIgARICCAI', 'https://www.facebook.com/permalink.php?story_fbid=1182620968746799&amp;id=100009967212544']</td>\n      <td>Iowa</td>\n      <td>Des Moines</td>\n      <td>\"\"\"Des Moines police approached The Blazing Saddle a gay bar in Des Moines’ East Village neighborhood and searched the premises — apparently without a warrant. Video from a security camera made public on Facebook shows officers in riot gear converging suddenly on the bar at approximately 11:45 p.m. and detaining those gathered outside.\"\" - The Iowa Inquirer\"</td>\n      <td>['arrest', 'lgbtq+', 'protester']</td>\n      <td>{'lat': '41.5868353', 'long': '-93.6249593'}</td>\n      <td>Armed police raid gay bar helping wounded Black Lives Matter protesters on the first day of Pride Month</td>\n      <td>2020-06-05</td>\n      <td>June 5th</td>\n      <td>ia-desmoines-5</td>\n      <td>41.586835</td>\n      <td>-93.624959</td>\n    </tr>\n    <tr>\n      <th>1174</th>\n      <td>1174</td>\n      <td>['https://twitter.com/greg_doucette/status/1275641933671673859', 'https://twitter.com/rom3robrix/status/1275287179632181255', 'https://twitter.com/rom3robrix/status/1275300903952822272', 'https://twitter.com/rom3robrix/status/1275303042242490374', 'https://twitter.com/sophiaxleza/status/1275296622524628993']</td>\n      <td>Iowa</td>\n      <td>Des Moines</td>\n      <td>Footage shows two protesters being arrested. Four police are making the arrests two kneeling on each protester. A woman filming is harassed by another officer.</td>\n      <td>['abuse-of-power', 'arrest', 'knee', 'protester']</td>\n      <td>{'lat': '41.5868353', 'long': '-93.6249593'}</td>\n      <td>Police make violent arrests &amp; harass protesters filming</td>\n      <td>2020-06-22</td>\n      <td>June 22nd</td>\n      <td>ia-desmoines-10</td>\n      <td>41.586835</td>\n      <td>-93.624959</td>\n    </tr>\n    <tr>\n      <th>1175</th>\n      <td>1175</td>\n      <td>['https://www.instagram.com/tv/CBw5mKxjHPq/', 'https://www.desmoinesregister.com/story/news/crime-and-courts/2020/06/23/police-used-aggressive-kettling-tactics-des-moines-protesters-say/3241518001/', 'https://twitter.com/andreamsahouri/status/1275281913750618113', 'https://twitter.com/andreamsahouri/status/1275279366440837126', 'https://twitter.com/andreamsahouri/status/1275278920556974080']</td>\n      <td>Iowa</td>\n      <td>Des Moines</td>\n      <td>\"First person footage of a protest shows police forcing protesters down a sidewalk. It is unclear why police determined protesters could not continue to protest peacefully at the point of the sidewalk.  Police use their shields to shove protesters along. Footage is dark and a little unclear but it appears that around 2 minutes the filmer and her sisters are pepper-sprayed. They scream in pain and the filmer states repeatedly that she cannot see. The filmer then loses track of her sisters. She finds one family member around 4 minutes who shows clear signs of having been pepper sprayed.  The filmer and her sister attempted to regroup and find their third family member but police continued to shove them along.  Around 4:15 a protester is shoved to the ground. She can be heard screaming \"\"My leg my leg.\"\"  After this footage cuts to a shot of the filmer turns the camera on herself and her eyes are watering showing clear indication of pepper spray. It is unclear if this is from the firs...</td>\n      <td>['child', 'less-lethal', 'pepper-spray', 'protester', 'push', 'shield', 'shove', 'spray']</td>\n      <td>{'lat': '41.5868353', 'long': '-93.6249593'}</td>\n      <td>Police push, shove and pepper-spray protesters</td>\n      <td>2020-06-22</td>\n      <td>June 22nd</td>\n      <td>ia-desmoines-9</td>\n      <td>41.586835</td>\n      <td>-93.624959</td>\n    </tr>\n    <tr>\n      <th>1176</th>\n      <td>1176</td>\n      <td>['https://twitter.com/shelbyfleig/status/1278399613683339265', 'https://www.desmoinesregister.com/story/news/2020/07/01/black-lives-matter-protest-state-capitol-results-arrests/5358305002/', 'https://www.kcrg.com/2020/07/01/arrests-made-at-state-capitol-during-black-lives-matter-protest/', 'https://www.kcci.com/article/des-moines-police-say-protesters-assaulted-officers-one-disarmed-an-officer/33031470']</td>\n      <td>Iowa</td>\n      <td>Des Moines</td>\n      <td>Black Lives Matter advocates gathered at the Capitol to lobby for the governor to sign an executive order restoring felon voting rights by Saturday July 4.  White protesters were inside the Capitol police identified some of them claimed to have vandalized police car in the past and arrests were made inside the Capitol for those individuals. However the arrested individuals declined the allegations. The protesters followed the police outside the Capitol and one of the protesters blocked their path and later the crowd tried to pull the arrestees from the custody of the police officers. That is when more crowds and police started to get involved. Police used pepper spray to help disperse the crowd and arrested 17 people including two juveniles.</td>\n      <td>['arrest', 'beat', 'child', 'less-lethal', 'pepper-spray', 'protester', 'spray', 'tackle']</td>\n      <td>{'lat': '41.5868353', 'long': '-93.6249593'}</td>\n      <td>Police arrest 17 people during a peaceful protest for Black Lives Matter at the State Capitol</td>\n      <td>2020-07-01</td>\n      <td>July 1st</td>\n      <td>ia-desmoines-8</td>\n      <td>41.586835</td>\n      <td>-93.624959</td>\n    </tr>\n    <tr>\n      <th>1177</th>\n      <td>1177</td>\n      <td>['https://twitter.com/DJPAIMON/status/1268399580753858561', 'https://www.reddit.com/r/IowaCity/comments/gwx86v/another_angle_of_the_police_firing_upon_us/', 'https://www.reddit.com/r/IowaCity/comments/gwml8n/state_police_gassing_citizens/', 'https://www.reddit.com/r/IowaCity/comments/gwaqzx/from_a_facebook_livestreamseems_like_peaceful/', 'https://www.reddit.com/r/IowaCity/comments/gwc763/iowa_city_pd_gassed_and_flashbanged_their_own/']</td>\n      <td>Iowa</td>\n      <td>Iowa City</td>\n      <td>State police shoot tear gas into and deploy flashbangs against a crowd of peaceful protesters attempting to enter I-80. Some protesters stumble and fall as they try to flee.  Reportedly  one protester suffered seizures as a result of a flashbang and an ambulance was called to the scene.  Police continued to deploy tear gas and flashbangs in the area where Iowa city EMT's were working (see flashing white lights in cloud of gas 5th link). Unclear if they were aware of EMS presence.  According to the mayor Iowa State Patrol was in command of the scene (though some Iowa City Police were present) and it was determined that letting the protest onto I-80 was too dangerous.</td>\n      <td>['less-lethal', 'medic', 'protester', 'stun-grenade', 'tear-gas']</td>\n      <td>{'lat': '41.6611277', 'long': '-91.5301683'}</td>\n      <td>Iowa State Police use tear gas &amp; flashbangs against crowd of civilians attempting to enter I-80 and later against Iowa City EMS.</td>\n      <td>2020-06-03</td>\n      <td>June 3rd</td>\n      <td>ia-iowacity-1</td>\n      <td>41.661128</td>\n      <td>-91.530168</td>\n    </tr>\n  </tbody>\n</table>\n<p>1178 rows × 13 columns</p>\n</div>"
     },
     "metadata": {},
     "execution_count": 29
    }
   ],
   "source": [
    "#TEST QUERY :)\n",
    "\n",
    "sql=\"\"\"\n",
    "SELECT *\n",
    "FROM all_sources_geod\n",
    "ORDER BY ind\n",
    "\"\"\"\n",
    "pd.read_sql(sql, con=connection)"
   ]
  },
  {
   "cell_type": "code",
   "execution_count": 26,
   "metadata": {},
   "outputs": [
    {
     "output_type": "execute_result",
     "data": {
      "text/plain": [
       "src                                                                                                                                                                                                                                                                                                                                                                                                                                                                                                                                                                                                                                                                                   ['https://www.theroot.com/a-letter-not-from-a-birmingham-jail-1843926346', 'https://www.al.com/news/birmingham/2020/06/journalist-michael-harriot-arrested-after-birmingham-protest.html', 'https://www.youtube.com/watch?v=H308RU7jtM4', 'https://www.poynter.org/reporting-editing/2020/23-guidelines-for-journalists-to-safely-cover-protests-this-weekend/']\n",
       "state                                                                                                                                                                                                                                                                                                                                                                                                                                                                                                                                                                                                                                                                                                                                                                                                                                                                                                                                                                                                                                          Alabama\n",
       "city                                                                                                                                                                                                                                                                                                                                                                                                                                                                                                                                                                                                                                                                                                                                                                                                                                                                                                                                                                                                                                        Birmingham\n",
       "description    Journalist Michael Harriot was covering a protest with a group of journalists; he was the only black journalist present. He left his press pass in the car for fear of being targeted by protesters but he says he had a digital press pass on his phone.  Around six officers arrested Harriot. Per AL.com Harriot \"was asked if he could show credentials but said he did not have any with him;\" per Harriot \"officers said they couldn’t let me have my phone to show my digital credentials;\" he \"told them they could just call the mayor’s office to verify my media credentials; they did not attempt to.\" Per AL.com \"the department’s public information officer... said he \\[asked Harriot\\] if there was anyway \\[_sic_\\] to make contact with his company to confirm he was media and Harriot said no.\"  According to Harriot after being arrested he and the other arrestees were taken to a nearby area; while he waited there an officer tightened his zip ties so tight that he lost feeling in his hands and they ...\n",
       "tags                                                                                                                                                                                                                                                                                                                                                                                                                                                                                                                                                                                                                                                                                                                                                                                                                                                                                                                                                                                           ['arrest', 'journalist', 'racial-profiling', 'zip-tie']\n",
       "geolocation                                                                                                                                                                                                                                                                                                                                                                                                                                                                                                                                                                                                                                                                                                                                                                                                                                                                                                                                                                                               {'lat': '33.5185892', 'long': '-86.8103567'}\n",
       "title                                                                                                                                                                                                                                                                                                                                                                                                                                                                                                                                                                                                                                                                                                                                                                                                                                                                                                                                                                                                         Police arrest journalist Michael Harriot\n",
       "date                                                                                                                                                                                                                                                                                                                                                                                                                                                                                                                                                                                                                                                                                                                                                                                                                                                                                                                                                                                                                                        2020-06-04\n",
       "date_text                                                                                                                                                                                                                                                                                                                                                                                                                                                                                                                                                                                                                                                                                                                                                                                                                                                                                                                                                                                                                                       June 4\n",
       "id                                                                                                                                                                                                                                                                                                                                                                                                                                                                                                                                                                                                                                                                                                                                                                                                                                                                                                                                                                                                                                     al-birmingham-2\n",
       "lat                                                                                                                                                                                                                                                                                                                                                                                                                                                                                                                                                                                                                                                                                                                                                                                                                                                                                                                                                                                                                                            33.5186\n",
       "long                                                                                                                                                                                                                                                                                                                                                                                                                                                                                                                                                                                                                                                                                                                                                                                                                                                                                                                                                                                                                                          -86.8104\n",
       "Name: 195, dtype: object"
      ]
     },
     "metadata": {},
     "execution_count": 26
    }
   ],
   "source": [
    "df.iloc[195]"
   ]
  },
  {
   "cell_type": "code",
   "execution_count": 27,
   "metadata": {},
   "outputs": [],
   "source": [
    "connection.commit()\n",
    "with open('all_sources_geoed.csv', 'r', encoding=\"utf8\") as row:\n",
    "    next(row) #skip header\n",
    "    cursor.copy_from(row, 'all_sources_geod', sep='|')\n",
    "\n",
    "\n",
    "connection.commit()"
   ]
  },
  {
   "cell_type": "code",
   "execution_count": null,
   "metadata": {},
   "outputs": [],
   "source": []
  }
 ]
}